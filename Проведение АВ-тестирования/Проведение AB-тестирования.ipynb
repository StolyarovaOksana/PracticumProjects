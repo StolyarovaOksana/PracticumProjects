{
 "cells": [
  {
   "cell_type": "markdown",
   "metadata": {
    "id": "u98L9TgH0eMk"
   },
   "source": [
    "# Разработка A/B-тестирования и анализ результатов для развлекательного приложения"
   ]
  },
  {
   "cell_type": "markdown",
   "metadata": {},
   "source": [
    "Автор: Столярова Оксана\n",
    "\n",
    "Дата: 04.04.2025"
   ]
  },
  {
   "cell_type": "markdown",
   "metadata": {
    "id": "LJBRALHs0eMf"
   },
   "source": [
    "## Описание данных\n",
    "\n",
    "A/B-тестирование  необходимо провести для компании, которая разрабатывает развлекательное приложение с функцией «бесконечной» ленты. В приложении существует две модели монетизации: первая — ежемесячная платная подписка, которая позволяет пользователям смотреть ленту без рекламы, вторая — демонстрация рекламы для пользователей, которые ещё не оформили подписку.\n",
    "\n",
    "Команда разработчиков рекомендательных систем создала новый алгоритм рекомендаций, который, по их мнению, будет показывать более интересный контент для каждого пользователя. Задача - рассчитать параметры A/B-теста, который позволит проверить эту гипотезу, и проанализировать его результаты.\n",
    "\n",
    "Для работы даны три таблицы:\n",
    "\n",
    "- `sessions_project_history.csv` — таблица с историческими данными по сессиям пользователей на период с 2025-08-15 по 2025-09-23. Путь к файлу: `/datasets/sessions_project_history.csv`.\n",
    "\n",
    "- `sessions_project_test_part.csv` — таблица с данными за первый день проведения A/B-теста, то есть за 2025-10-14. Путь к файлу: `/datasets/sessions_project_test_part.csv`.\n",
    "\n",
    "- `sessions_project_test.csv` — таблица с данными за весь период проведения A/B-теста, то есть с 2025-10-14 по 2025-11-02. Путь к файлу: `/datasets/sessions_project_test.csv`.\n",
    "\n",
    "У этих таблиц почти совпадает структура и содержание колонок, различаются лишь периоды наблюдения.\n",
    "\n",
    "Поля таблиц `sessions_project_history.csv`, `sessions_project_test.csv`, `sessions_project_test_part.csv`:\n",
    "\n",
    "- `user_id` — идентификатор пользователя;\n",
    "\n",
    "- `session_id` — идентификатор сессии в приложении;\n",
    "\n",
    "- `session_date` — дата сессии;\n",
    "\n",
    "- `session_start_ts` — дата и время начала сессии;\n",
    "\n",
    "- `install_date` — дата установки приложения;\n",
    "\n",
    "- `session_number` — порядковый номер сессии для конкретного пользователя;\n",
    "\n",
    "- `registration_flag` — является ли пользователь зарегистрированным;\n",
    "\n",
    "- `page_counter` — количество просмотренных страниц во время сессии;\n",
    "\n",
    "- `region` — регион пользователя;\n",
    "\n",
    "- `device` — тип устройства пользователя;\n",
    "\n",
    "- `test_group` — тестовая группа (в таблице с историческими данными этого столбца нет).\n",
    "\n",
    "\n",
    "##  Цель и задачи проекта:\n",
    "рассчитать параметры теста, оценить корректность его проведения и проанализировать результаты эксперимента."
   ]
  },
  {
   "cell_type": "markdown",
   "metadata": {},
   "source": [
    "<a id=intro></a>\n",
    "### Содержание проекта\n",
    "\n",
    "1. [Работа с историческими данными (EDA)](#1)\n",
    "2. [Подготовка к тесту](#2)\n",
    "3. [Мониторинг А/В-теста](#3)\n",
    "4. [Проверка результатов A/B-теста](#4)\n",
    "5. [Вывод по результатам A/B-эксперимента](#5)\n",
    "---"
   ]
  },
  {
   "cell_type": "markdown",
   "metadata": {
    "id": "UpOucjID0eMl"
   },
   "source": [
    "<a id='1'></a>\n",
    "### 1. Работа с историческими данными (EDA)"
   ]
  },
  {
   "cell_type": "markdown",
   "metadata": {
    "id": "8iJMtL-30eMl"
   },
   "source": [
    "#### 1.1. Загрузка исторических данных\n",
    "На первом этапе работаем с историческими данными приложения:\n",
    "\n",
    "- Импортируем библиотеку pandas.\n",
    "\n",
    "- Считываем и сохраняем в датафрейм `sessions_history` CSV-файл с историческими данными о сессиях пользователей `sessions_project_history.csv`."
   ]
  },
  {
   "cell_type": "code",
   "execution_count": 1,
   "metadata": {
    "id": "6TPR2-1RPboT"
   },
   "outputs": [],
   "source": [
    "# Импортируем необходимые библиотеки\n",
    "import pandas as pd\n",
    "import matplotlib.pyplot as plt\n",
    "from statsmodels.stats.power import NormalIndPower\n",
    "from math import ceil\n",
    "from scipy.stats import ttest_ind"
   ]
  },
  {
   "cell_type": "code",
   "execution_count": 2,
   "metadata": {},
   "outputs": [],
   "source": [
    "# Выгружаем данные из датасета sessions_project_history.csv в датафрейм sessions_history\n",
    "sessions_history = pd.read_csv('/datasets/sessions_project_history.csv')"
   ]
  },
  {
   "cell_type": "code",
   "execution_count": 3,
   "metadata": {},
   "outputs": [
    {
     "data": {
      "text/html": [
       "<div>\n",
       "<style scoped>\n",
       "    .dataframe tbody tr th:only-of-type {\n",
       "        vertical-align: middle;\n",
       "    }\n",
       "\n",
       "    .dataframe tbody tr th {\n",
       "        vertical-align: top;\n",
       "    }\n",
       "\n",
       "    .dataframe thead th {\n",
       "        text-align: right;\n",
       "    }\n",
       "</style>\n",
       "<table border=\"1\" class=\"dataframe\">\n",
       "  <thead>\n",
       "    <tr style=\"text-align: right;\">\n",
       "      <th></th>\n",
       "      <th>user_id</th>\n",
       "      <th>session_id</th>\n",
       "      <th>session_date</th>\n",
       "      <th>session_start_ts</th>\n",
       "      <th>install_date</th>\n",
       "      <th>session_number</th>\n",
       "      <th>registration_flag</th>\n",
       "      <th>page_counter</th>\n",
       "      <th>region</th>\n",
       "      <th>device</th>\n",
       "    </tr>\n",
       "  </thead>\n",
       "  <tbody>\n",
       "    <tr>\n",
       "      <th>0</th>\n",
       "      <td>E302123B7000BFE4</td>\n",
       "      <td>F9AF61A0C2023832</td>\n",
       "      <td>2025-08-15</td>\n",
       "      <td>2025-08-15 17:47:35</td>\n",
       "      <td>2025-08-15</td>\n",
       "      <td>1</td>\n",
       "      <td>0</td>\n",
       "      <td>3</td>\n",
       "      <td>CIS</td>\n",
       "      <td>iPhone</td>\n",
       "    </tr>\n",
       "    <tr>\n",
       "      <th>1</th>\n",
       "      <td>2530F72E221829FB</td>\n",
       "      <td>85003A206CBDAC6F</td>\n",
       "      <td>2025-08-15</td>\n",
       "      <td>2025-08-15 16:42:14</td>\n",
       "      <td>2025-08-15</td>\n",
       "      <td>1</td>\n",
       "      <td>0</td>\n",
       "      <td>4</td>\n",
       "      <td>MENA</td>\n",
       "      <td>Android</td>\n",
       "    </tr>\n",
       "    <tr>\n",
       "      <th>2</th>\n",
       "      <td>876E020A4FC512F5</td>\n",
       "      <td>3677423E49D72DEE</td>\n",
       "      <td>2025-08-15</td>\n",
       "      <td>2025-08-15 12:30:00</td>\n",
       "      <td>2025-08-15</td>\n",
       "      <td>1</td>\n",
       "      <td>0</td>\n",
       "      <td>4</td>\n",
       "      <td>EU</td>\n",
       "      <td>PC</td>\n",
       "    </tr>\n",
       "    <tr>\n",
       "      <th>3</th>\n",
       "      <td>2640B349E1D81584</td>\n",
       "      <td>956B45F5915CA225</td>\n",
       "      <td>2025-08-15</td>\n",
       "      <td>2025-08-15 15:31:31</td>\n",
       "      <td>2025-08-15</td>\n",
       "      <td>1</td>\n",
       "      <td>0</td>\n",
       "      <td>4</td>\n",
       "      <td>CIS</td>\n",
       "      <td>Android</td>\n",
       "    </tr>\n",
       "    <tr>\n",
       "      <th>4</th>\n",
       "      <td>94E1CBFAEF1F5EE9</td>\n",
       "      <td>83BF0DA35F9F1F40</td>\n",
       "      <td>2025-08-15</td>\n",
       "      <td>2025-08-15 21:33:53</td>\n",
       "      <td>2025-08-15</td>\n",
       "      <td>1</td>\n",
       "      <td>0</td>\n",
       "      <td>3</td>\n",
       "      <td>CIS</td>\n",
       "      <td>Android</td>\n",
       "    </tr>\n",
       "  </tbody>\n",
       "</table>\n",
       "</div>"
      ],
      "text/plain": [
       "            user_id        session_id session_date     session_start_ts  \\\n",
       "0  E302123B7000BFE4  F9AF61A0C2023832   2025-08-15  2025-08-15 17:47:35   \n",
       "1  2530F72E221829FB  85003A206CBDAC6F   2025-08-15  2025-08-15 16:42:14   \n",
       "2  876E020A4FC512F5  3677423E49D72DEE   2025-08-15  2025-08-15 12:30:00   \n",
       "3  2640B349E1D81584  956B45F5915CA225   2025-08-15  2025-08-15 15:31:31   \n",
       "4  94E1CBFAEF1F5EE9  83BF0DA35F9F1F40   2025-08-15  2025-08-15 21:33:53   \n",
       "\n",
       "  install_date  session_number  registration_flag  page_counter region  \\\n",
       "0   2025-08-15               1                  0             3    CIS   \n",
       "1   2025-08-15               1                  0             4   MENA   \n",
       "2   2025-08-15               1                  0             4     EU   \n",
       "3   2025-08-15               1                  0             4    CIS   \n",
       "4   2025-08-15               1                  0             3    CIS   \n",
       "\n",
       "    device  \n",
       "0   iPhone  \n",
       "1  Android  \n",
       "2       PC  \n",
       "3  Android  \n",
       "4  Android  "
      ]
     },
     "execution_count": 3,
     "metadata": {},
     "output_type": "execute_result"
    }
   ],
   "source": [
    "# Выводим первые строки датафрейма на экран\n",
    "sessions_history.head()"
   ]
  },
  {
   "cell_type": "markdown",
   "metadata": {},
   "source": [
    "На первый взгляд данные корректны и соответсвуют названиям столбцов"
   ]
  },
  {
   "cell_type": "markdown",
   "metadata": {
    "id": "qTDoiODz0eMo"
   },
   "source": [
    "#### 1.2. Знакомство с данными\n",
    "- Для каждого уникального пользователя `user_id` рассчитаем количество уникальных сессий `session_id`.\n",
    "\n",
    "- Выведем на экран все данные из таблицы `sessions_history` для одного из пользователей с наибольшим количеством сессий. Ес\n",
    "\n",
    "- Изучим таблицу для одного пользователя, чтобы лучше понять логику формирования каждого столбца данных."
   ]
  },
  {
   "cell_type": "code",
   "execution_count": 4,
   "metadata": {
    "id": "PWZO9vTIPbPN"
   },
   "outputs": [
    {
     "data": {
      "text/plain": [
       "user_id\n",
       "10E0DEFC1ABDBBE0    10\n",
       "6A73CB5566BB494D    10\n",
       "8A60431A825D035B     9\n",
       "D11541BAC141FB94     9\n",
       "5BCFE7C4DCC148E9     9\n",
       "                    ..\n",
       "1DF13BB1953B3497     1\n",
       "628502A3CE7E0A3C     1\n",
       "1DEEF40DEFBD0C65     1\n",
       "AC08479B7472C628     1\n",
       "8A0882B6715D9EE5     1\n",
       "Name: session_id, Length: 134039, dtype: int64"
      ]
     },
     "execution_count": 4,
     "metadata": {},
     "output_type": "execute_result"
    }
   ],
   "source": [
    "#рассчитаем количество уникальных сессий для каждого пользователя и отсортируем значения по убыванию \n",
    "sessions_by_users = sessions_history.groupby('user_id')['session_id'].nunique().sort_values(ascending=False)\n",
    "sessions_by_users"
   ]
  },
  {
   "cell_type": "markdown",
   "metadata": {},
   "source": [
    "Максимальное количество сессий для пользователя по исследуемым данным равно 10."
   ]
  },
  {
   "cell_type": "code",
   "execution_count": 5,
   "metadata": {},
   "outputs": [
    {
     "data": {
      "text/plain": [
       "'10E0DEFC1ABDBBE0'"
      ]
     },
     "execution_count": 5,
     "metadata": {},
     "output_type": "execute_result"
    }
   ],
   "source": [
    "#Выбираем  пользователя с максимальным количеством сессий\n",
    "max_sessions_user = sessions_by_users.idxmax()\n",
    "max_sessions_user"
   ]
  },
  {
   "cell_type": "code",
   "execution_count": 6,
   "metadata": {},
   "outputs": [
    {
     "data": {
      "text/html": [
       "<div>\n",
       "<style scoped>\n",
       "    .dataframe tbody tr th:only-of-type {\n",
       "        vertical-align: middle;\n",
       "    }\n",
       "\n",
       "    .dataframe tbody tr th {\n",
       "        vertical-align: top;\n",
       "    }\n",
       "\n",
       "    .dataframe thead th {\n",
       "        text-align: right;\n",
       "    }\n",
       "</style>\n",
       "<table border=\"1\" class=\"dataframe\">\n",
       "  <thead>\n",
       "    <tr style=\"text-align: right;\">\n",
       "      <th></th>\n",
       "      <th>user_id</th>\n",
       "      <th>session_id</th>\n",
       "      <th>session_date</th>\n",
       "      <th>session_start_ts</th>\n",
       "      <th>install_date</th>\n",
       "      <th>session_number</th>\n",
       "      <th>registration_flag</th>\n",
       "      <th>page_counter</th>\n",
       "      <th>region</th>\n",
       "      <th>device</th>\n",
       "    </tr>\n",
       "  </thead>\n",
       "  <tbody>\n",
       "    <tr>\n",
       "      <th>115558</th>\n",
       "      <td>10E0DEFC1ABDBBE0</td>\n",
       "      <td>B8F0423BBFFCF5DC</td>\n",
       "      <td>2025-08-14</td>\n",
       "      <td>2025-08-14 13:57:39</td>\n",
       "      <td>2025-08-14</td>\n",
       "      <td>1</td>\n",
       "      <td>0</td>\n",
       "      <td>4</td>\n",
       "      <td>CIS</td>\n",
       "      <td>Android</td>\n",
       "    </tr>\n",
       "    <tr>\n",
       "      <th>191751</th>\n",
       "      <td>10E0DEFC1ABDBBE0</td>\n",
       "      <td>87CA2FA549473837</td>\n",
       "      <td>2025-08-15</td>\n",
       "      <td>2025-08-15 16:42:10</td>\n",
       "      <td>2025-08-14</td>\n",
       "      <td>2</td>\n",
       "      <td>0</td>\n",
       "      <td>3</td>\n",
       "      <td>CIS</td>\n",
       "      <td>Android</td>\n",
       "    </tr>\n",
       "    <tr>\n",
       "      <th>239370</th>\n",
       "      <td>10E0DEFC1ABDBBE0</td>\n",
       "      <td>4ADD8011DCDCE318</td>\n",
       "      <td>2025-08-16</td>\n",
       "      <td>2025-08-16 19:53:21</td>\n",
       "      <td>2025-08-14</td>\n",
       "      <td>3</td>\n",
       "      <td>0</td>\n",
       "      <td>3</td>\n",
       "      <td>CIS</td>\n",
       "      <td>Android</td>\n",
       "    </tr>\n",
       "    <tr>\n",
       "      <th>274629</th>\n",
       "      <td>10E0DEFC1ABDBBE0</td>\n",
       "      <td>DF0FD0E09BF1F3D7</td>\n",
       "      <td>2025-08-17</td>\n",
       "      <td>2025-08-17 15:03:43</td>\n",
       "      <td>2025-08-14</td>\n",
       "      <td>4</td>\n",
       "      <td>0</td>\n",
       "      <td>1</td>\n",
       "      <td>CIS</td>\n",
       "      <td>Android</td>\n",
       "    </tr>\n",
       "    <tr>\n",
       "      <th>302501</th>\n",
       "      <td>10E0DEFC1ABDBBE0</td>\n",
       "      <td>3C221774B4DE6885</td>\n",
       "      <td>2025-08-18</td>\n",
       "      <td>2025-08-18 17:29:14</td>\n",
       "      <td>2025-08-14</td>\n",
       "      <td>5</td>\n",
       "      <td>0</td>\n",
       "      <td>4</td>\n",
       "      <td>CIS</td>\n",
       "      <td>Android</td>\n",
       "    </tr>\n",
       "    <tr>\n",
       "      <th>325557</th>\n",
       "      <td>10E0DEFC1ABDBBE0</td>\n",
       "      <td>031BD7A67048105B</td>\n",
       "      <td>2025-08-19</td>\n",
       "      <td>2025-08-19 13:23:55</td>\n",
       "      <td>2025-08-14</td>\n",
       "      <td>6</td>\n",
       "      <td>0</td>\n",
       "      <td>2</td>\n",
       "      <td>CIS</td>\n",
       "      <td>Android</td>\n",
       "    </tr>\n",
       "    <tr>\n",
       "      <th>345336</th>\n",
       "      <td>10E0DEFC1ABDBBE0</td>\n",
       "      <td>FF4315CF4AD4B100</td>\n",
       "      <td>2025-08-20</td>\n",
       "      <td>2025-08-20 19:31:54</td>\n",
       "      <td>2025-08-14</td>\n",
       "      <td>7</td>\n",
       "      <td>0</td>\n",
       "      <td>2</td>\n",
       "      <td>CIS</td>\n",
       "      <td>Android</td>\n",
       "    </tr>\n",
       "    <tr>\n",
       "      <th>377532</th>\n",
       "      <td>10E0DEFC1ABDBBE0</td>\n",
       "      <td>4045FEA0747203B4</td>\n",
       "      <td>2025-08-22</td>\n",
       "      <td>2025-08-22 17:54:13</td>\n",
       "      <td>2025-08-14</td>\n",
       "      <td>8</td>\n",
       "      <td>0</td>\n",
       "      <td>2</td>\n",
       "      <td>CIS</td>\n",
       "      <td>Android</td>\n",
       "    </tr>\n",
       "    <tr>\n",
       "      <th>403538</th>\n",
       "      <td>10E0DEFC1ABDBBE0</td>\n",
       "      <td>344B086C421C7F37</td>\n",
       "      <td>2025-08-24</td>\n",
       "      <td>2025-08-24 14:46:13</td>\n",
       "      <td>2025-08-14</td>\n",
       "      <td>9</td>\n",
       "      <td>0</td>\n",
       "      <td>2</td>\n",
       "      <td>CIS</td>\n",
       "      <td>Android</td>\n",
       "    </tr>\n",
       "    <tr>\n",
       "      <th>414743</th>\n",
       "      <td>10E0DEFC1ABDBBE0</td>\n",
       "      <td>054F20BA371E4C9D</td>\n",
       "      <td>2025-08-25</td>\n",
       "      <td>2025-08-25 18:36:41</td>\n",
       "      <td>2025-08-14</td>\n",
       "      <td>10</td>\n",
       "      <td>0</td>\n",
       "      <td>3</td>\n",
       "      <td>CIS</td>\n",
       "      <td>Android</td>\n",
       "    </tr>\n",
       "  </tbody>\n",
       "</table>\n",
       "</div>"
      ],
      "text/plain": [
       "                 user_id        session_id session_date     session_start_ts  \\\n",
       "115558  10E0DEFC1ABDBBE0  B8F0423BBFFCF5DC   2025-08-14  2025-08-14 13:57:39   \n",
       "191751  10E0DEFC1ABDBBE0  87CA2FA549473837   2025-08-15  2025-08-15 16:42:10   \n",
       "239370  10E0DEFC1ABDBBE0  4ADD8011DCDCE318   2025-08-16  2025-08-16 19:53:21   \n",
       "274629  10E0DEFC1ABDBBE0  DF0FD0E09BF1F3D7   2025-08-17  2025-08-17 15:03:43   \n",
       "302501  10E0DEFC1ABDBBE0  3C221774B4DE6885   2025-08-18  2025-08-18 17:29:14   \n",
       "325557  10E0DEFC1ABDBBE0  031BD7A67048105B   2025-08-19  2025-08-19 13:23:55   \n",
       "345336  10E0DEFC1ABDBBE0  FF4315CF4AD4B100   2025-08-20  2025-08-20 19:31:54   \n",
       "377532  10E0DEFC1ABDBBE0  4045FEA0747203B4   2025-08-22  2025-08-22 17:54:13   \n",
       "403538  10E0DEFC1ABDBBE0  344B086C421C7F37   2025-08-24  2025-08-24 14:46:13   \n",
       "414743  10E0DEFC1ABDBBE0  054F20BA371E4C9D   2025-08-25  2025-08-25 18:36:41   \n",
       "\n",
       "       install_date  session_number  registration_flag  page_counter region  \\\n",
       "115558   2025-08-14               1                  0             4    CIS   \n",
       "191751   2025-08-14               2                  0             3    CIS   \n",
       "239370   2025-08-14               3                  0             3    CIS   \n",
       "274629   2025-08-14               4                  0             1    CIS   \n",
       "302501   2025-08-14               5                  0             4    CIS   \n",
       "325557   2025-08-14               6                  0             2    CIS   \n",
       "345336   2025-08-14               7                  0             2    CIS   \n",
       "377532   2025-08-14               8                  0             2    CIS   \n",
       "403538   2025-08-14               9                  0             2    CIS   \n",
       "414743   2025-08-14              10                  0             3    CIS   \n",
       "\n",
       "         device  \n",
       "115558  Android  \n",
       "191751  Android  \n",
       "239370  Android  \n",
       "274629  Android  \n",
       "302501  Android  \n",
       "325557  Android  \n",
       "345336  Android  \n",
       "377532  Android  \n",
       "403538  Android  \n",
       "414743  Android  "
      ]
     },
     "execution_count": 6,
     "metadata": {},
     "output_type": "execute_result"
    }
   ],
   "source": [
    "#Выводим таблицу для пользователя с максимальным количеством сессий \n",
    "sessions_history[sessions_history['user_id']==max_sessions_user]"
   ]
  },
  {
   "cell_type": "markdown",
   "metadata": {
    "id": "CmcGpJTP0eMq"
   },
   "source": [
    "#### 1.3. Анализ числа регистраций\n",
    "Одна из важнейших метрик продукта — число зарегистрированных пользователей. Используя исторические данные, визуализируем, как менялось число регистраций в приложении за время его существования.\n",
    "\n",
    "- Агрегируем исторические данные и рассчитаем число уникальных пользователей и число зарегистрированных пользователей для каждого дня наблюдения. Будем считать, что у пользователя в течение дня бывает одна сессия максимум и статус регистрации в течение одного дня не может измениться.\n",
    "\n",
    "- Построим линейные графики общего числа пользователей и общего числа зарегистрированных пользователей по дням. Отобразим их на одном графике.\n",
    "\n",
    "- Построим отдельный линейный график доли зарегистрированных пользователей от всех пользователей по дням."
   ]
  },
  {
   "cell_type": "code",
   "execution_count": 7,
   "metadata": {
    "id": "tN_6Ml3EPatS"
   },
   "outputs": [
    {
     "data": {
      "text/html": [
       "<div>\n",
       "<style scoped>\n",
       "    .dataframe tbody tr th:only-of-type {\n",
       "        vertical-align: middle;\n",
       "    }\n",
       "\n",
       "    .dataframe tbody tr th {\n",
       "        vertical-align: top;\n",
       "    }\n",
       "\n",
       "    .dataframe thead th {\n",
       "        text-align: right;\n",
       "    }\n",
       "</style>\n",
       "<table border=\"1\" class=\"dataframe\">\n",
       "  <thead>\n",
       "    <tr style=\"text-align: right;\">\n",
       "      <th></th>\n",
       "      <th>session_date</th>\n",
       "      <th>all_users</th>\n",
       "      <th>registered_users</th>\n",
       "    </tr>\n",
       "  </thead>\n",
       "  <tbody>\n",
       "    <tr>\n",
       "      <th>0</th>\n",
       "      <td>2025-08-11</td>\n",
       "      <td>3919</td>\n",
       "      <td>169</td>\n",
       "    </tr>\n",
       "    <tr>\n",
       "      <th>1</th>\n",
       "      <td>2025-08-12</td>\n",
       "      <td>6056</td>\n",
       "      <td>336</td>\n",
       "    </tr>\n",
       "    <tr>\n",
       "      <th>2</th>\n",
       "      <td>2025-08-13</td>\n",
       "      <td>8489</td>\n",
       "      <td>464</td>\n",
       "    </tr>\n",
       "    <tr>\n",
       "      <th>3</th>\n",
       "      <td>2025-08-14</td>\n",
       "      <td>10321</td>\n",
       "      <td>625</td>\n",
       "    </tr>\n",
       "    <tr>\n",
       "      <th>4</th>\n",
       "      <td>2025-08-15</td>\n",
       "      <td>14065</td>\n",
       "      <td>840</td>\n",
       "    </tr>\n",
       "  </tbody>\n",
       "</table>\n",
       "</div>"
      ],
      "text/plain": [
       "  session_date  all_users  registered_users\n",
       "0   2025-08-11       3919               169\n",
       "1   2025-08-12       6056               336\n",
       "2   2025-08-13       8489               464\n",
       "3   2025-08-14      10321               625\n",
       "4   2025-08-15      14065               840"
      ]
     },
     "execution_count": 7,
     "metadata": {},
     "output_type": "execute_result"
    }
   ],
   "source": [
    "#Рассчитаем число уникальных пользователей и число зарегистрированных пользователей для каждого дня наблюдения\n",
    "all_users_by_days = sessions_history.groupby('session_date')['user_id'].nunique().reset_index()\n",
    "reg_users_by_days = sessions_history[sessions_history['registration_flag']==1].groupby('session_date')['user_id'].nunique().reset_index()\n",
    "\n",
    "#Объединяем данные в одну таблицу\n",
    "unique_users_count = all_users_by_days.merge(reg_users_by_days, on='session_date', how='inner')\n",
    "\n",
    "#Даем понятные названия стобцам таблицы\n",
    "unique_users_count.columns=['session_date', 'all_users', 'registered_users']\n",
    "unique_users_count.head()"
   ]
  },
  {
   "cell_type": "markdown",
   "metadata": {},
   "source": [
    "Теперь построим линейные графики общего числа пользователей и общего числа зарегистрированных пользователей по дням."
   ]
  },
  {
   "cell_type": "code",
   "execution_count": 9,
   "metadata": {},
   "outputs": [
    {
     "data": {
      "image/png": "[encoded data removed]",
      "text/plain": [
       "<Figure size 1080x576 with 1 Axes>"
      ]
     },
     "metadata": {
      "needs_background": "light"
     },
     "output_type": "display_data"
    }
   ],
   "source": [
    "#Задаем значения по осям\n",
    "x = unique_users_count.session_date\n",
    "y_all = unique_users_count.all_users\n",
    "y_reg = unique_users_count.registered_users\n",
    "\n",
    "#Строим график для количества уникальтных пользователей:зарегистрированных и всего\n",
    "plt.figure(figsize=(15, 8))\n",
    "plt.plot(x, y_all, label ='all unique users')\n",
    "plt.plot(x, y_reg,label ='registered users')\n",
    "\n",
    "plt.xlabel(\"Дата\")\n",
    "plt.ylabel(\"Количество уникальных пользователей\")\n",
    "plt.legend()\n",
    "plt.title('Количество уникальных пользователей в день: всего и с регистрацией')\n",
    "plt.xticks(rotation=90)\n",
    "plt.grid()\n",
    "plt.show()"
   ]
  },
  {
   "cell_type": "markdown",
   "metadata": {},
   "source": [
    "По графику видно, что общее количество уникальных пользователей значительно превышает количество зарегистрированных пользователей, причем количество зарегистрированных - более постоянная величина, общее количество довольно сильно колеблется по дням, всплески посещений наблюдаются по пятницам. К концу рассматриваемого периода наблюдается снижение количества пользователей в день. Возможно это связано с началом учебного времени (сентябрь), если предположить, что основной целевой аудиторией приложения являются школьники и студенты."
   ]
  },
  {
   "cell_type": "markdown",
   "metadata": {},
   "source": [
    "Следующим шагом посчитаем доли зарегистрированных пользователей от всех пользователей по дням и построим отдельный линейный график. "
   ]
  },
  {
   "cell_type": "code",
   "execution_count": 10,
   "metadata": {},
   "outputs": [
    {
     "data": {
      "text/html": [
       "<div>\n",
       "<style scoped>\n",
       "    .dataframe tbody tr th:only-of-type {\n",
       "        vertical-align: middle;\n",
       "    }\n",
       "\n",
       "    .dataframe tbody tr th {\n",
       "        vertical-align: top;\n",
       "    }\n",
       "\n",
       "    .dataframe thead th {\n",
       "        text-align: right;\n",
       "    }\n",
       "</style>\n",
       "<table border=\"1\" class=\"dataframe\">\n",
       "  <thead>\n",
       "    <tr style=\"text-align: right;\">\n",
       "      <th></th>\n",
       "      <th>session_date</th>\n",
       "      <th>all_users</th>\n",
       "      <th>registered_users</th>\n",
       "      <th>reg_share</th>\n",
       "    </tr>\n",
       "  </thead>\n",
       "  <tbody>\n",
       "    <tr>\n",
       "      <th>0</th>\n",
       "      <td>2025-08-11</td>\n",
       "      <td>3919</td>\n",
       "      <td>169</td>\n",
       "      <td>0.043</td>\n",
       "    </tr>\n",
       "    <tr>\n",
       "      <th>1</th>\n",
       "      <td>2025-08-12</td>\n",
       "      <td>6056</td>\n",
       "      <td>336</td>\n",
       "      <td>0.055</td>\n",
       "    </tr>\n",
       "    <tr>\n",
       "      <th>2</th>\n",
       "      <td>2025-08-13</td>\n",
       "      <td>8489</td>\n",
       "      <td>464</td>\n",
       "      <td>0.055</td>\n",
       "    </tr>\n",
       "    <tr>\n",
       "      <th>3</th>\n",
       "      <td>2025-08-14</td>\n",
       "      <td>10321</td>\n",
       "      <td>625</td>\n",
       "      <td>0.061</td>\n",
       "    </tr>\n",
       "    <tr>\n",
       "      <th>4</th>\n",
       "      <td>2025-08-15</td>\n",
       "      <td>14065</td>\n",
       "      <td>840</td>\n",
       "      <td>0.060</td>\n",
       "    </tr>\n",
       "  </tbody>\n",
       "</table>\n",
       "</div>"
      ],
      "text/plain": [
       "  session_date  all_users  registered_users  reg_share\n",
       "0   2025-08-11       3919               169      0.043\n",
       "1   2025-08-12       6056               336      0.055\n",
       "2   2025-08-13       8489               464      0.055\n",
       "3   2025-08-14      10321               625      0.061\n",
       "4   2025-08-15      14065               840      0.060"
      ]
     },
     "execution_count": 10,
     "metadata": {},
     "output_type": "execute_result"
    }
   ],
   "source": [
    "#Посчитаем доли зарегистрированных пользователей от всех пользователей по дням\n",
    "unique_users_count['reg_share'] = round(unique_users_count['registered_users']/unique_users_count['all_users'], 3)\n",
    "unique_users_count.head()"
   ]
  },
  {
   "cell_type": "code",
   "execution_count": 11,
   "metadata": {},
   "outputs": [
    {
     "data": {
      "image/png": "[encoded data removed]",
      "text/plain": [
       "<Figure size 1080x576 with 1 Axes>"
      ]
     },
     "metadata": {
      "needs_background": "light"
     },
     "output_type": "display_data"
    }
   ],
   "source": [
    "#Строим график для доли зарегистрированных пользователей \n",
    "\n",
    "x = unique_users_count.session_date\n",
    "y = unique_users_count.reg_share\n",
    "\n",
    "plt.figure(figsize=(15, 8))\n",
    "plt.plot(x, y)\n",
    "\n",
    "plt.xlabel(\"Дата\")\n",
    "plt.ylabel(\"Доля зарегистрированных пользователей\")\n",
    "plt.title('Доля зарегистрированных пользователей по дням')\n",
    "plt.xticks(rotation=90)\n",
    "plt.grid()\n",
    "plt.show()"
   ]
  },
  {
   "cell_type": "markdown",
   "metadata": {},
   "source": [
    "По графику видно , что доля зарегистрированных пользователей ежедневно колеблется, но в целом можно отметить ее значительный рост за расматриваемый период. С 4% в начале наблюдения она достигла максимума более 12% 22 сентября. Рост доли зарегистрированных пользователей в целом является хорошим показателем для приложения. Однако в сочетании с падением общего количества пользователей в сентябре, этот вопрос требует дальнейшего изучения."
   ]
  },
  {
   "cell_type": "markdown",
   "metadata": {
    "id": "UR7D7RhF0eMr"
   },
   "source": [
    "#### 1.4. Анализ числа просмотренных страниц\n",
    "Другая важная метрика продукта — число просмотренных страниц в приложении. Чем больше страниц просмотрено, тем сильнее пользователь увлечён контентом, а значит, выше шансы на то, что он зарегистрируется и оплатит подписку.\n",
    "\n",
    "- Найдем количество сессий для каждого значения количества просмотренных страниц.\n",
    "\n",
    "- Построим столбчатую диаграмму с числом просмотренных страниц и количество сессий."
   ]
  },
  {
   "cell_type": "code",
   "execution_count": 12,
   "metadata": {},
   "outputs": [
    {
     "data": {
      "text/html": [
       "<div>\n",
       "<style scoped>\n",
       "    .dataframe tbody tr th:only-of-type {\n",
       "        vertical-align: middle;\n",
       "    }\n",
       "\n",
       "    .dataframe tbody tr th {\n",
       "        vertical-align: top;\n",
       "    }\n",
       "\n",
       "    .dataframe thead th {\n",
       "        text-align: right;\n",
       "    }\n",
       "</style>\n",
       "<table border=\"1\" class=\"dataframe\">\n",
       "  <thead>\n",
       "    <tr style=\"text-align: right;\">\n",
       "      <th></th>\n",
       "      <th>page_counter</th>\n",
       "      <th>session_id</th>\n",
       "    </tr>\n",
       "  </thead>\n",
       "  <tbody>\n",
       "    <tr>\n",
       "      <th>0</th>\n",
       "      <td>1</td>\n",
       "      <td>29160</td>\n",
       "    </tr>\n",
       "    <tr>\n",
       "      <th>1</th>\n",
       "      <td>2</td>\n",
       "      <td>105536</td>\n",
       "    </tr>\n",
       "    <tr>\n",
       "      <th>2</th>\n",
       "      <td>3</td>\n",
       "      <td>166690</td>\n",
       "    </tr>\n",
       "    <tr>\n",
       "      <th>3</th>\n",
       "      <td>4</td>\n",
       "      <td>105569</td>\n",
       "    </tr>\n",
       "    <tr>\n",
       "      <th>4</th>\n",
       "      <td>5</td>\n",
       "      <td>26288</td>\n",
       "    </tr>\n",
       "    <tr>\n",
       "      <th>5</th>\n",
       "      <td>6</td>\n",
       "      <td>2589</td>\n",
       "    </tr>\n",
       "    <tr>\n",
       "      <th>6</th>\n",
       "      <td>7</td>\n",
       "      <td>92</td>\n",
       "    </tr>\n",
       "  </tbody>\n",
       "</table>\n",
       "</div>"
      ],
      "text/plain": [
       "   page_counter  session_id\n",
       "0             1       29160\n",
       "1             2      105536\n",
       "2             3      166690\n",
       "3             4      105569\n",
       "4             5       26288\n",
       "5             6        2589\n",
       "6             7          92"
      ]
     },
     "execution_count": 12,
     "metadata": {},
     "output_type": "execute_result"
    }
   ],
   "source": [
    "#Находим количество сессий для каждого значения числа просмотренных страниц\n",
    "session_by_page = sessions_history.groupby('page_counter')['session_id'].count().reset_index()\n",
    "session_by_page"
   ]
  },
  {
   "cell_type": "markdown",
   "metadata": {},
   "source": [
    "По данным датасета пользователи просматривают от 1 до 7 страниц за сессию. Однако, наиболее типичное количество страниц за сессию находится в диапозоне от 2 до 4. Построим для наглядности стобчатую диаграмму."
   ]
  },
  {
   "cell_type": "code",
   "execution_count": 13,
   "metadata": {
    "id": "cb6hPlVzPaSf"
   },
   "outputs": [
    {
     "data": {
      "image/png": "[encoded data removed]",
      "text/plain": [
       "<Figure size 864x432 with 1 Axes>"
      ]
     },
     "metadata": {
      "needs_background": "light"
     },
     "output_type": "display_data"
    }
   ],
   "source": [
    "#строим стобчатую диаграмму для визуализации количества сессий по числу просмотренных страниц\n",
    "session_by_page.plot(kind='bar', x='page_counter', y='session_id', legend=False, figsize=(12, 6))\n",
    "plt.title('Количество сессий по числу просмотренных страниц')\n",
    "plt.ylabel('Количество сессий')\n",
    "plt.xlabel('Число просмотренных страниц')\n",
    "plt.xticks(rotation=0)\n",
    "plt.show()"
   ]
  },
  {
   "cell_type": "markdown",
   "metadata": {},
   "source": [
    "График наглядно демонстрирует, что чаще всего пользователи просматривают по 3 страницы за сессию, 6-7 страниц - крайне редкие случаи, более 7 страниц не было просмотрено ни разу за рассматриваемый период. При этом, чем больше страниц будет просматриваться за сессию, тем больше заинтересованность пользователя в контенте и выше вероятность подписки."
   ]
  },
  {
   "cell_type": "markdown",
   "metadata": {
    "id": "xDltSpVP0eMr"
   },
   "source": [
    "#### 1.5. Доля пользователей, просмотревших более четырёх страниц\n",
    "Продуктовая команда продукта считает, что сессии, в рамках которых пользователь просмотрел 4 и более страниц, говорят об удовлетворённости контентом и алгоритмами рекомендаций. Этот показатель является важной прокси-метрикой для продукта.\n",
    "\n",
    "- В датафрейме `sessions_history` создадим дополнительный столбец `good_session`. В него войдёт значение `1`, если за одну сессию было просмотрено 4 и более страниц, и значение `0`, если было просмотрено меньше.\n",
    "\n",
    "- Построим график со средним значением доли успешных сессий ко всем сессиям по дням за весь период наблюдения."
   ]
  },
  {
   "cell_type": "code",
   "execution_count": 14,
   "metadata": {
    "id": "iygaPfixPYMW"
   },
   "outputs": [
    {
     "data": {
      "text/html": [
       "<div>\n",
       "<style scoped>\n",
       "    .dataframe tbody tr th:only-of-type {\n",
       "        vertical-align: middle;\n",
       "    }\n",
       "\n",
       "    .dataframe tbody tr th {\n",
       "        vertical-align: top;\n",
       "    }\n",
       "\n",
       "    .dataframe thead th {\n",
       "        text-align: right;\n",
       "    }\n",
       "</style>\n",
       "<table border=\"1\" class=\"dataframe\">\n",
       "  <thead>\n",
       "    <tr style=\"text-align: right;\">\n",
       "      <th></th>\n",
       "      <th>user_id</th>\n",
       "      <th>session_id</th>\n",
       "      <th>session_date</th>\n",
       "      <th>session_start_ts</th>\n",
       "      <th>install_date</th>\n",
       "      <th>session_number</th>\n",
       "      <th>registration_flag</th>\n",
       "      <th>page_counter</th>\n",
       "      <th>region</th>\n",
       "      <th>device</th>\n",
       "      <th>good_session</th>\n",
       "    </tr>\n",
       "  </thead>\n",
       "  <tbody>\n",
       "    <tr>\n",
       "      <th>0</th>\n",
       "      <td>E302123B7000BFE4</td>\n",
       "      <td>F9AF61A0C2023832</td>\n",
       "      <td>2025-08-15</td>\n",
       "      <td>2025-08-15 17:47:35</td>\n",
       "      <td>2025-08-15</td>\n",
       "      <td>1</td>\n",
       "      <td>0</td>\n",
       "      <td>3</td>\n",
       "      <td>CIS</td>\n",
       "      <td>iPhone</td>\n",
       "      <td>0</td>\n",
       "    </tr>\n",
       "    <tr>\n",
       "      <th>1</th>\n",
       "      <td>2530F72E221829FB</td>\n",
       "      <td>85003A206CBDAC6F</td>\n",
       "      <td>2025-08-15</td>\n",
       "      <td>2025-08-15 16:42:14</td>\n",
       "      <td>2025-08-15</td>\n",
       "      <td>1</td>\n",
       "      <td>0</td>\n",
       "      <td>4</td>\n",
       "      <td>MENA</td>\n",
       "      <td>Android</td>\n",
       "      <td>1</td>\n",
       "    </tr>\n",
       "    <tr>\n",
       "      <th>2</th>\n",
       "      <td>876E020A4FC512F5</td>\n",
       "      <td>3677423E49D72DEE</td>\n",
       "      <td>2025-08-15</td>\n",
       "      <td>2025-08-15 12:30:00</td>\n",
       "      <td>2025-08-15</td>\n",
       "      <td>1</td>\n",
       "      <td>0</td>\n",
       "      <td>4</td>\n",
       "      <td>EU</td>\n",
       "      <td>PC</td>\n",
       "      <td>1</td>\n",
       "    </tr>\n",
       "    <tr>\n",
       "      <th>3</th>\n",
       "      <td>2640B349E1D81584</td>\n",
       "      <td>956B45F5915CA225</td>\n",
       "      <td>2025-08-15</td>\n",
       "      <td>2025-08-15 15:31:31</td>\n",
       "      <td>2025-08-15</td>\n",
       "      <td>1</td>\n",
       "      <td>0</td>\n",
       "      <td>4</td>\n",
       "      <td>CIS</td>\n",
       "      <td>Android</td>\n",
       "      <td>1</td>\n",
       "    </tr>\n",
       "    <tr>\n",
       "      <th>4</th>\n",
       "      <td>94E1CBFAEF1F5EE9</td>\n",
       "      <td>83BF0DA35F9F1F40</td>\n",
       "      <td>2025-08-15</td>\n",
       "      <td>2025-08-15 21:33:53</td>\n",
       "      <td>2025-08-15</td>\n",
       "      <td>1</td>\n",
       "      <td>0</td>\n",
       "      <td>3</td>\n",
       "      <td>CIS</td>\n",
       "      <td>Android</td>\n",
       "      <td>0</td>\n",
       "    </tr>\n",
       "  </tbody>\n",
       "</table>\n",
       "</div>"
      ],
      "text/plain": [
       "            user_id        session_id session_date     session_start_ts  \\\n",
       "0  E302123B7000BFE4  F9AF61A0C2023832   2025-08-15  2025-08-15 17:47:35   \n",
       "1  2530F72E221829FB  85003A206CBDAC6F   2025-08-15  2025-08-15 16:42:14   \n",
       "2  876E020A4FC512F5  3677423E49D72DEE   2025-08-15  2025-08-15 12:30:00   \n",
       "3  2640B349E1D81584  956B45F5915CA225   2025-08-15  2025-08-15 15:31:31   \n",
       "4  94E1CBFAEF1F5EE9  83BF0DA35F9F1F40   2025-08-15  2025-08-15 21:33:53   \n",
       "\n",
       "  install_date  session_number  registration_flag  page_counter region  \\\n",
       "0   2025-08-15               1                  0             3    CIS   \n",
       "1   2025-08-15               1                  0             4   MENA   \n",
       "2   2025-08-15               1                  0             4     EU   \n",
       "3   2025-08-15               1                  0             4    CIS   \n",
       "4   2025-08-15               1                  0             3    CIS   \n",
       "\n",
       "    device  good_session  \n",
       "0   iPhone             0  \n",
       "1  Android             1  \n",
       "2       PC             1  \n",
       "3  Android             1  \n",
       "4  Android             0  "
      ]
     },
     "execution_count": 14,
     "metadata": {},
     "output_type": "execute_result"
    }
   ],
   "source": [
    "#создадим новый столбец 'good_session' в датафрейме sessions_history с помощью пользовательской функции create_good\n",
    "#определяем функцию, которая создаст новый столбец с бинарным признаком в зависимости от наличия данных в другом столбце\n",
    "def create_good(x):\n",
    "    if x >= 4:\n",
    "        return 1\n",
    "    return 0\n",
    "\n",
    "# Создаем новый столбец 'good_session' на основе данных в столбце'page_counter':\n",
    "sessions_history['good_session'] = (sessions_history['page_counter'].apply(create_good))\n",
    "\n",
    "# Проверяем результат\n",
    "sessions_history.head()"
   ]
  },
  {
   "cell_type": "code",
   "execution_count": 15,
   "metadata": {},
   "outputs": [
    {
     "data": {
      "image/png": "[encoded data removed]",
      "text/plain": [
       "<Figure size 1080x432 with 1 Axes>"
      ]
     },
     "metadata": {
      "needs_background": "light"
     },
     "output_type": "display_data"
    }
   ],
   "source": [
    "#рассчитаем долю \"хороших\" сессий за каждый день\n",
    "good_session_share = sessions_history.groupby('session_date')['good_session'].mean()\n",
    "\n",
    "#создаем линейный график на основе полученных данных\n",
    "plt.figure(figsize=(15, 6))\n",
    "good_session_share.plot.line()\n",
    "plt.title('Cреднее значение доли успешных сессий ко всем сессиям по дням')\n",
    "plt.xlabel('Дата')\n",
    "plt.ylabel('Доля успешных сессий')\n",
    "plt.xticks(ticks=range(len(good_session_share)), labels=good_session_share.index, rotation=90)\n",
    "plt.grid()\n",
    "plt.show()"
   ]
  },
  {
   "cell_type": "markdown",
   "metadata": {},
   "source": [
    "По графику видно, что доля \"хороших\" сессий в день колеблется, но до 11 сентября она стабильно находилась в диапозоне от 30% до 32%, а после этой даты колебания стали более значительными и в целом рассматриваемый показатель начал снижаться. Опять же это может быть связано как с началом учебного процесса, так и со снижением интерса к приложению."
   ]
  },
  {
   "cell_type": "markdown",
   "metadata": {},
   "source": [
    "[*К содержанию*](#intro) "
   ]
  },
  {
   "cell_type": "markdown",
   "metadata": {
    "id": "21JcG77Y0eMt"
   },
   "source": [
    "<a id='2'></a>\n",
    "### 2. Подготовка к тесту"
   ]
  },
  {
   "cell_type": "markdown",
   "metadata": {
    "id": "uzaeln270eMt"
   },
   "source": [
    "#### 2.1. Расчёт размера выборки\n",
    "\n",
    "Для рассчета размера выборки возьмем следующие параметры:\n",
    "\n",
    "- Уровень значимости — 0.05.\n",
    "\n",
    "- Вероятность ошибки второго рода — 0.2.\n",
    "\n",
    "- Минимальный детектируемый эффект, или MDE, — 3%.\n",
    "\n",
    "При расчёте размера выборки мы будем использовать метод `solve_power()` из класса `power.NormalIndPower` модуля `statsmodels.stats`."
   ]
  },
  {
   "cell_type": "code",
   "execution_count": 16,
   "metadata": {
    "id": "zSxJyPGPNdaI"
   },
   "outputs": [
    {
     "name": "stdout",
     "output_type": "stream",
     "text": [
      "Необходимый размер выборки для каждой группы: 17441\n"
     ]
    }
   ],
   "source": [
    "# Задаём параметры\n",
    "alpha = 0.05  # Уровень значимости\n",
    "beta = 0.2 # Ошибка второго рода, часто 1 - мощность\n",
    "power = 1 - beta  # Мощность теста\n",
    "mde = 0.03  # Минимальный детектируемый эффект\n",
    "\n",
    "# Инициализируем класс NormalIndPower\n",
    "power_analysis = NormalIndPower()\n",
    "\n",
    "# Рассчитываем размер выборки\n",
    "sample_size = power_analysis.solve_power(\n",
    "    effect_size = mde,\n",
    "    power = power,\n",
    "    alpha = alpha,\n",
    "    ratio = 1 # Равномерное распределение выборок\n",
    ")\n",
    "\n",
    "print(f\"Необходимый размер выборки для каждой группы: {int(sample_size)}\")"
   ]
  },
  {
   "cell_type": "markdown",
   "metadata": {
    "id": "qLEv4RoV0eMu"
   },
   "source": [
    "#### 2.1. Расчёт длительности A/B-теста\n",
    "\n",
    "Используем данные о количестве пользователей в каждой выборке и среднем количестве пользователей приложения. Рассчитаем длительность теста."
   ]
  },
  {
   "cell_type": "code",
   "execution_count": 17,
   "metadata": {
    "id": "KZDRbryDOGHa"
   },
   "outputs": [
    {
     "name": "stdout",
     "output_type": "stream",
     "text": [
      "Рассчитанная длительность A/B-теста при текущем уровене трафика в 9907 пользователей в день составит 4 дней\n"
     ]
    }
   ],
   "source": [
    "# Среднее количество пользователей приложения в день по историческим данным\n",
    "avg_daily_users = int(all_users_by_days.mean())\n",
    "\n",
    "# Рассчитываем длительность теста в днях как отношение размера выборки к среднему числу пользователей\n",
    "test_duration = ceil(sample_size/avg_daily_users*2)\n",
    "\n",
    "print(f\"Рассчитанная длительность A/B-теста при текущем уровене трафика в {avg_daily_users} пользователей в день составит {test_duration} дней\")"
   ]
  },
  {
   "cell_type": "markdown",
   "metadata": {},
   "source": [
    "[*К содержанию*](#intro) "
   ]
  },
  {
   "cell_type": "markdown",
   "metadata": {
    "id": "ZuvtAdha0eMv"
   },
   "source": [
    "<a id='3'></a>\n",
    "### 3. Мониторинг А/В-теста"
   ]
  },
  {
   "cell_type": "markdown",
   "metadata": {
    "id": "jq5sE3Ya0eMv"
   },
   "source": [
    "#### 3.1. Проверка распределения пользователей\n",
    "\n",
    "По условиям задания A/B-тест успешно запущен, и доступны данные за первые три дня. Нужно убедиться, что всё идёт хорошо: пользователи разделены правильным образом, а интересующие вас метрики корректно считаются.\n",
    "\n",
    "- Считааем и сохраним в датафрейм `sessions_test_part` CSV-файл с историческими данными о сессиях пользователей `sessions_project_test_part.csv`.\n",
    "\n",
    "- Рассчитааем количество уникальных пользователей в каждой из экспериментальных групп для одного дня наблюдения.\n",
    "\n",
    "- Рассчитааем и выведем на экран процентную разницу в количестве пользователей в группах A и B, постороим соответсвующую визуализацию."
   ]
  },
  {
   "cell_type": "code",
   "execution_count": 18,
   "metadata": {
    "id": "G1bqIzDJOUiz"
   },
   "outputs": [
    {
     "data": {
      "text/html": [
       "<div>\n",
       "<style scoped>\n",
       "    .dataframe tbody tr th:only-of-type {\n",
       "        vertical-align: middle;\n",
       "    }\n",
       "\n",
       "    .dataframe tbody tr th {\n",
       "        vertical-align: top;\n",
       "    }\n",
       "\n",
       "    .dataframe thead th {\n",
       "        text-align: right;\n",
       "    }\n",
       "</style>\n",
       "<table border=\"1\" class=\"dataframe\">\n",
       "  <thead>\n",
       "    <tr style=\"text-align: right;\">\n",
       "      <th></th>\n",
       "      <th>user_id</th>\n",
       "      <th>session_id</th>\n",
       "      <th>session_date</th>\n",
       "      <th>session_start_ts</th>\n",
       "      <th>install_date</th>\n",
       "      <th>session_number</th>\n",
       "      <th>registration_flag</th>\n",
       "      <th>page_counter</th>\n",
       "      <th>region</th>\n",
       "      <th>device</th>\n",
       "      <th>test_group</th>\n",
       "    </tr>\n",
       "  </thead>\n",
       "  <tbody>\n",
       "    <tr>\n",
       "      <th>0</th>\n",
       "      <td>3404844B53442747</td>\n",
       "      <td>B4901323BD537E45</td>\n",
       "      <td>2025-10-14</td>\n",
       "      <td>2025-10-14 19:28:49</td>\n",
       "      <td>2025-10-14</td>\n",
       "      <td>1</td>\n",
       "      <td>0</td>\n",
       "      <td>3</td>\n",
       "      <td>CIS</td>\n",
       "      <td>Android</td>\n",
       "      <td>B</td>\n",
       "    </tr>\n",
       "    <tr>\n",
       "      <th>1</th>\n",
       "      <td>3A2BF4D364E62D89</td>\n",
       "      <td>216FC619308F8788</td>\n",
       "      <td>2025-10-14</td>\n",
       "      <td>2025-10-14 21:11:04</td>\n",
       "      <td>2025-10-14</td>\n",
       "      <td>1</td>\n",
       "      <td>0</td>\n",
       "      <td>3</td>\n",
       "      <td>MENA</td>\n",
       "      <td>iPhone</td>\n",
       "      <td>A</td>\n",
       "    </tr>\n",
       "    <tr>\n",
       "      <th>2</th>\n",
       "      <td>79CDAE11E32B1597</td>\n",
       "      <td>EDFCE4AC1A504074</td>\n",
       "      <td>2025-10-14</td>\n",
       "      <td>2025-10-14 21:44:03</td>\n",
       "      <td>2025-10-14</td>\n",
       "      <td>1</td>\n",
       "      <td>0</td>\n",
       "      <td>3</td>\n",
       "      <td>CIS</td>\n",
       "      <td>iPhone</td>\n",
       "      <td>A</td>\n",
       "    </tr>\n",
       "    <tr>\n",
       "      <th>3</th>\n",
       "      <td>D6AF8D78297A931F</td>\n",
       "      <td>CF0AC0EEDE92C690</td>\n",
       "      <td>2025-10-14</td>\n",
       "      <td>2025-10-14 19:07:55</td>\n",
       "      <td>2025-10-14</td>\n",
       "      <td>1</td>\n",
       "      <td>0</td>\n",
       "      <td>4</td>\n",
       "      <td>CIS</td>\n",
       "      <td>PC</td>\n",
       "      <td>A</td>\n",
       "    </tr>\n",
       "    <tr>\n",
       "      <th>4</th>\n",
       "      <td>37E0CE723AE568E0</td>\n",
       "      <td>2E6ED45E8C86C4E9</td>\n",
       "      <td>2025-10-14</td>\n",
       "      <td>2025-10-14 15:39:44</td>\n",
       "      <td>2025-10-14</td>\n",
       "      <td>1</td>\n",
       "      <td>0</td>\n",
       "      <td>3</td>\n",
       "      <td>CIS</td>\n",
       "      <td>Mac</td>\n",
       "      <td>B</td>\n",
       "    </tr>\n",
       "  </tbody>\n",
       "</table>\n",
       "</div>"
      ],
      "text/plain": [
       "            user_id        session_id session_date     session_start_ts  \\\n",
       "0  3404844B53442747  B4901323BD537E45   2025-10-14  2025-10-14 19:28:49   \n",
       "1  3A2BF4D364E62D89  216FC619308F8788   2025-10-14  2025-10-14 21:11:04   \n",
       "2  79CDAE11E32B1597  EDFCE4AC1A504074   2025-10-14  2025-10-14 21:44:03   \n",
       "3  D6AF8D78297A931F  CF0AC0EEDE92C690   2025-10-14  2025-10-14 19:07:55   \n",
       "4  37E0CE723AE568E0  2E6ED45E8C86C4E9   2025-10-14  2025-10-14 15:39:44   \n",
       "\n",
       "  install_date  session_number  registration_flag  page_counter region  \\\n",
       "0   2025-10-14               1                  0             3    CIS   \n",
       "1   2025-10-14               1                  0             3   MENA   \n",
       "2   2025-10-14               1                  0             3    CIS   \n",
       "3   2025-10-14               1                  0             4    CIS   \n",
       "4   2025-10-14               1                  0             3    CIS   \n",
       "\n",
       "    device test_group  \n",
       "0  Android          B  \n",
       "1   iPhone          A  \n",
       "2   iPhone          A  \n",
       "3       PC          A  \n",
       "4      Mac          B  "
      ]
     },
     "execution_count": 18,
     "metadata": {},
     "output_type": "execute_result"
    }
   ],
   "source": [
    "# Выгружаем данные из датасета sessions_project_test_part.csv в датафрейм sessions_test_part\n",
    "sessions_test_part = pd.read_csv('/datasets/sessions_project_test_part.csv')\n",
    "\n",
    "sessions_test_part.head()    "
   ]
  },
  {
   "cell_type": "markdown",
   "metadata": {},
   "source": [
    "По первым строкам, можно судить, что данные на первый взгляд корректны и сопоставимы с ранее рассмтреными историческими данными по структуре."
   ]
  },
  {
   "cell_type": "code",
   "execution_count": 19,
   "metadata": {},
   "outputs": [
    {
     "data": {
      "text/html": [
       "<div>\n",
       "<style scoped>\n",
       "    .dataframe tbody tr th:only-of-type {\n",
       "        vertical-align: middle;\n",
       "    }\n",
       "\n",
       "    .dataframe tbody tr th {\n",
       "        vertical-align: top;\n",
       "    }\n",
       "\n",
       "    .dataframe thead th {\n",
       "        text-align: right;\n",
       "    }\n",
       "</style>\n",
       "<table border=\"1\" class=\"dataframe\">\n",
       "  <thead>\n",
       "    <tr style=\"text-align: right;\">\n",
       "      <th>test_group</th>\n",
       "      <th>A</th>\n",
       "      <th>B</th>\n",
       "    </tr>\n",
       "  </thead>\n",
       "  <tbody>\n",
       "    <tr>\n",
       "      <th>user_id</th>\n",
       "      <td>1477</td>\n",
       "      <td>1466</td>\n",
       "    </tr>\n",
       "  </tbody>\n",
       "</table>\n",
       "</div>"
      ],
      "text/plain": [
       "test_group     A     B\n",
       "user_id     1477  1466"
      ]
     },
     "execution_count": 19,
     "metadata": {},
     "output_type": "execute_result"
    }
   ],
   "source": [
    "#Рассчитаtv количество уникальных пользователей в каждой из экспериментальных групп для одного дня наблюдения\n",
    "import numpy as np\n",
    "metrics = sessions_test_part.set_index('test_group').groupby('test_group').agg({'user_id': 'nunique'}).T\n",
    "metrics "
   ]
  },
  {
   "cell_type": "markdown",
   "metadata": {},
   "source": [
    "Размеры групп сопоставимы и составляют 1477 и 1466 уникальных пользователей в группах А и В соответсвенно. Для более точной оценки рассчитаем процентную разницу."
   ]
  },
  {
   "cell_type": "code",
   "execution_count": 20,
   "metadata": {},
   "outputs": [
    {
     "data": {
      "text/plain": [
       "user_id    0.744753\n",
       "dtype: float64"
      ]
     },
     "execution_count": 20,
     "metadata": {},
     "output_type": "execute_result"
    }
   ],
   "source": [
    "#Рассчитаем процентную разницу в количестве пользователей в группах A и B \n",
    "P = 100*abs(metrics['A']-metrics['B'])/metrics['A']\n",
    "P"
   ]
  },
  {
   "cell_type": "markdown",
   "metadata": {},
   "source": [
    "Процентная разница в количестве пользователей в группах A и B составляет менее 1%, что вполне допустимо для проведения тестирования."
   ]
  },
  {
   "cell_type": "code",
   "execution_count": 21,
   "metadata": {},
   "outputs": [
    {
     "data": {
      "image/png": "[encoded data removed]",
      "text/plain": [
       "<Figure size 288x432 with 1 Axes>"
      ]
     },
     "metadata": {},
     "output_type": "display_data"
    }
   ],
   "source": [
    "# Построим круговую диаграмму на основе соотношения уикальных пользователей в эспериментальных группах\n",
    "unique_users = sessions_test_part.groupby(['user_id', 'test_group'])['session_id'].count().reset_index()\n",
    "plt.figure(figsize=(4, 6))  \n",
    "plt.pie(unique_users['test_group'].value_counts(normalize=True),\n",
    "        labels=['группа А', 'Группа B'],\n",
    "        autopct='%1.1f%%')\n",
    "\n",
    "plt.axis('equal') \n",
    "\n",
    "# Заголовок\n",
    "plt.title('Соотношение пользователей в группе A и группе B  в первый день наблюдения')\n",
    "\n",
    "# Показываем график\n",
    "plt.show()"
   ]
  },
  {
   "cell_type": "markdown",
   "metadata": {},
   "source": [
    "Круговая диаграмма наглядно опказывает, что пользователи в тестируемых группах распределены практически равномерно."
   ]
  },
  {
   "cell_type": "markdown",
   "metadata": {
    "id": "sgpNY5bv0eM0"
   },
   "source": [
    "#### 3.2. Проверка пересечений пользователей\n",
    "Убедимся в том, что группы независимы. Для этого нужно убедиться, что никто из пользователей случайно не попал в обе группы одновременно."
   ]
  },
  {
   "cell_type": "code",
   "execution_count": 22,
   "metadata": {
    "id": "E72ozN9FOX1u"
   },
   "outputs": [
    {
     "name": "stdout",
     "output_type": "stream",
     "text": [
      "[]\n"
     ]
    }
   ],
   "source": [
    "#Проверим встречаются ли одновременно одни и те же пользователи в группах A и B\n",
    "users_a = sessions_test_part[sessions_test_part['test_group'] == 'A']['user_id']\n",
    "users_b = sessions_test_part[sessions_test_part['test_group'] == 'B']['user_id']\n",
    "\n",
    "intersection = list(set(users_a) & set(users_b))\n",
    "print(intersection) "
   ]
  },
  {
   "cell_type": "markdown",
   "metadata": {},
   "source": [
    "Пересечений по пользователям в группах A и B нет, значит наши группы соответсвуют условию независимости."
   ]
  },
  {
   "cell_type": "markdown",
   "metadata": {
    "id": "6RvkNLrg0eM1"
   },
   "source": [
    "#### 3.3. Равномерность разделения пользователей по устройствам\n",
    "Полезно также убедиться в том, что пользователи равномерно распределены по всем доступным категориальным переменным — типам устройства и регионам."
   ]
  },
  {
   "cell_type": "code",
   "execution_count": 23,
   "metadata": {},
   "outputs": [
    {
     "data": {
      "text/html": [
       "<div>\n",
       "<style scoped>\n",
       "    .dataframe tbody tr th:only-of-type {\n",
       "        vertical-align: middle;\n",
       "    }\n",
       "\n",
       "    .dataframe tbody tr th {\n",
       "        vertical-align: top;\n",
       "    }\n",
       "\n",
       "    .dataframe thead tr th {\n",
       "        text-align: left;\n",
       "    }\n",
       "\n",
       "    .dataframe thead tr:last-of-type th {\n",
       "        text-align: right;\n",
       "    }\n",
       "</style>\n",
       "<table border=\"1\" class=\"dataframe\">\n",
       "  <thead>\n",
       "    <tr>\n",
       "      <th></th>\n",
       "      <th colspan=\"2\" halign=\"left\">user_id</th>\n",
       "    </tr>\n",
       "    <tr>\n",
       "      <th>test_group</th>\n",
       "      <th>A</th>\n",
       "      <th>B</th>\n",
       "    </tr>\n",
       "    <tr>\n",
       "      <th>device</th>\n",
       "      <th></th>\n",
       "      <th></th>\n",
       "    </tr>\n",
       "  </thead>\n",
       "  <tbody>\n",
       "    <tr>\n",
       "      <th>Android</th>\n",
       "      <td>656</td>\n",
       "      <td>668</td>\n",
       "    </tr>\n",
       "    <tr>\n",
       "      <th>Mac</th>\n",
       "      <td>156</td>\n",
       "      <td>148</td>\n",
       "    </tr>\n",
       "    <tr>\n",
       "      <th>PC</th>\n",
       "      <td>369</td>\n",
       "      <td>381</td>\n",
       "    </tr>\n",
       "    <tr>\n",
       "      <th>iPhone</th>\n",
       "      <td>296</td>\n",
       "      <td>269</td>\n",
       "    </tr>\n",
       "  </tbody>\n",
       "</table>\n",
       "</div>"
      ],
      "text/plain": [
       "           user_id     \n",
       "test_group       A    B\n",
       "device                 \n",
       "Android        656  668\n",
       "Mac            156  148\n",
       "PC             369  381\n",
       "iPhone         296  269"
      ]
     },
     "metadata": {},
     "output_type": "display_data"
    }
   ],
   "source": [
    "# Создадим сводную таблицу с распределением пользователей по типам используемых устройств\n",
    "pivot_device = sessions_test_part.pivot_table(\n",
    "    columns='test_group',\n",
    "    index='device',\n",
    "    aggfunc={'user_id': 'nunique'},\n",
    ")\n",
    "display(pivot_device)"
   ]
  },
  {
   "cell_type": "code",
   "execution_count": 24,
   "metadata": {},
   "outputs": [
    {
     "data": {
      "image/png": "[encoded data removed]",
      "text/plain": [
       "<Figure size 1008x288 with 1 Axes>"
      ]
     },
     "metadata": {
      "needs_background": "light"
     },
     "output_type": "display_data"
    }
   ],
   "source": [
    "#Нормализуем данные\n",
    "pivot_device_normalized = pivot_device.div(pivot_device.sum(axis=0), axis=1)\n",
    "\n",
    "# Построим график столбчатой диаграммы с выводом долей\n",
    "pivot_device_normalized.plot(kind='bar',\n",
    "                  title='Распределение уникальных пользователей тестовых групп по типам устройств',\n",
    "                  legend=True,\n",
    "                  ylabel='Доля уникальных пользователей',\n",
    "                  xlabel='Типы устройств',\n",
    "                  rot = 0,     \n",
    "                  figsize=(14, 4))\n",
    "plt.grid(axis='y')\n",
    "    \n",
    "# Выводим график\n",
    "plt.show()"
   ]
  },
  {
   "cell_type": "markdown",
   "metadata": {},
   "source": [
    "По графику видно,что пользователи распределлены по категориям используемых устройств примерно равномерно, значимой разницы не наблюдается ни по одной из категорий."
   ]
  },
  {
   "cell_type": "markdown",
   "metadata": {
    "id": "gAgmP6vo0eM1"
   },
   "source": [
    "#### 3.4. Равномерность распределения пользователей по регионам\n",
    "Теперь убедимся, что пользователи равномерно распределены по регионам."
   ]
  },
  {
   "cell_type": "code",
   "execution_count": 25,
   "metadata": {},
   "outputs": [
    {
     "data": {
      "text/html": [
       "<div>\n",
       "<style scoped>\n",
       "    .dataframe tbody tr th:only-of-type {\n",
       "        vertical-align: middle;\n",
       "    }\n",
       "\n",
       "    .dataframe tbody tr th {\n",
       "        vertical-align: top;\n",
       "    }\n",
       "\n",
       "    .dataframe thead tr th {\n",
       "        text-align: left;\n",
       "    }\n",
       "\n",
       "    .dataframe thead tr:last-of-type th {\n",
       "        text-align: right;\n",
       "    }\n",
       "</style>\n",
       "<table border=\"1\" class=\"dataframe\">\n",
       "  <thead>\n",
       "    <tr>\n",
       "      <th></th>\n",
       "      <th colspan=\"2\" halign=\"left\">user_id</th>\n",
       "    </tr>\n",
       "    <tr>\n",
       "      <th>test_group</th>\n",
       "      <th>A</th>\n",
       "      <th>B</th>\n",
       "    </tr>\n",
       "    <tr>\n",
       "      <th>region</th>\n",
       "      <th></th>\n",
       "      <th></th>\n",
       "    </tr>\n",
       "  </thead>\n",
       "  <tbody>\n",
       "    <tr>\n",
       "      <th>CIS</th>\n",
       "      <td>644</td>\n",
       "      <td>645</td>\n",
       "    </tr>\n",
       "    <tr>\n",
       "      <th>EU</th>\n",
       "      <td>224</td>\n",
       "      <td>217</td>\n",
       "    </tr>\n",
       "    <tr>\n",
       "      <th>MENA</th>\n",
       "      <td>609</td>\n",
       "      <td>604</td>\n",
       "    </tr>\n",
       "  </tbody>\n",
       "</table>\n",
       "</div>"
      ],
      "text/plain": [
       "           user_id     \n",
       "test_group       A    B\n",
       "region                 \n",
       "CIS            644  645\n",
       "EU             224  217\n",
       "MENA           609  604"
      ]
     },
     "metadata": {},
     "output_type": "display_data"
    }
   ],
   "source": [
    "# Создадим сводную таблицу с распределением пользователей по регионам\n",
    "pivot_region = sessions_test_part.pivot_table(\n",
    "    columns='test_group',\n",
    "    index='region',\n",
    "    aggfunc={'user_id': 'nunique'},\n",
    ")\n",
    "display(pivot_region)"
   ]
  },
  {
   "cell_type": "code",
   "execution_count": 26,
   "metadata": {
    "id": "3hAq-FG4OdYM"
   },
   "outputs": [
    {
     "data": {
      "image/png": "[encoded data removed]",
      "text/plain": [
       "<Figure size 1008x288 with 1 Axes>"
      ]
     },
     "metadata": {
      "needs_background": "light"
     },
     "output_type": "display_data"
    }
   ],
   "source": [
    "#Нормализуем данные\n",
    "pivot_region_normalized = pivot_region.div(pivot_region.sum(axis=0), axis=1)\n",
    "\n",
    "# Построим график столбчатой диаграммы с выводом долей\n",
    "pivot_region_normalized.plot(kind='bar',\n",
    "                  title='Распределение уникальных пользователей тестовых групп по регионам',\n",
    "                  legend=True,\n",
    "                  ylabel='Доля уникальных пользователей',\n",
    "                  xlabel='Регион',\n",
    "                  rot = 0,     \n",
    "                  figsize=(14, 4))\n",
    "plt.grid(axis='y')\n",
    "    \n",
    "# Выводим график\n",
    "plt.show()"
   ]
  },
  {
   "cell_type": "markdown",
   "metadata": {},
   "source": [
    "По графику видно,что пользователи распределлены по регионам равномерно, значимой разницы не наблюдается."
   ]
  },
  {
   "cell_type": "markdown",
   "metadata": {
    "id": "X2WSZ-sDrSUi"
   },
   "source": [
    "#### 3.5. Вывод после проверки A/B-теста"
   ]
  },
  {
   "cell_type": "markdown",
   "metadata": {},
   "source": [
    "На основе проверки данных по первому дню тестирования можно сделать следующие выводы:\n",
    "\n",
    "    - количество уникальных пользователей в группах А и В практически одинаково и различается менее, чем на 1%,\n",
    "    - выбоки независимы, в них нет пересечений по пользователям,\n",
    "    - пользователи тестовой и контрольной групп равномерно распределены  по категориальным переменным: устройствам и регионам.\n",
    "    \n",
    "Таким образом, пользователи в тестовой и контрольной группах распределены рамномерны и выборки независимы, а значит A/B-тест проходит корректно."
   ]
  },
  {
   "cell_type": "markdown",
   "metadata": {
    "id": "dDELHlAcOi8d"
   },
   "source": []
  },
  {
   "cell_type": "markdown",
   "metadata": {},
   "source": [
    "[*К содержанию*](#intro) "
   ]
  },
  {
   "cell_type": "markdown",
   "metadata": {
    "id": "nudRr_BQ0eM2"
   },
   "source": [
    "<a id='4'></a>\n",
    "### 4. Проверка результатов A/B-теста\n",
    "\n",
    "Теперь будем работать с результатами за все дни проведения эксперимента. Необходимо убедиться в корректности теста и верно интерпретировать результаты."
   ]
  },
  {
   "cell_type": "markdown",
   "metadata": {
    "id": "JVve-YBB0eM2"
   },
   "source": [
    "#### 4.1. Получение результатов теста и подсчёт основной метрики\n",
    "\n",
    "- Считаем и сохраним в датафрейм `sessions_test` CSV-файл с историческими данными о сессиях пользователей `sessions_project_test.csv`.\n",
    "\n",
    "- В датафрейме `sessions_test` создадим дополнительный столбец `good_session`. В него войдёт значение `1`, если за одну сессию было просмотрено 4 и более страниц, и значение `0`, если просмотрено меньше."
   ]
  },
  {
   "cell_type": "code",
   "execution_count": 27,
   "metadata": {
    "id": "EqRlwMtKPTir"
   },
   "outputs": [
    {
     "data": {
      "text/html": [
       "<div>\n",
       "<style scoped>\n",
       "    .dataframe tbody tr th:only-of-type {\n",
       "        vertical-align: middle;\n",
       "    }\n",
       "\n",
       "    .dataframe tbody tr th {\n",
       "        vertical-align: top;\n",
       "    }\n",
       "\n",
       "    .dataframe thead th {\n",
       "        text-align: right;\n",
       "    }\n",
       "</style>\n",
       "<table border=\"1\" class=\"dataframe\">\n",
       "  <thead>\n",
       "    <tr style=\"text-align: right;\">\n",
       "      <th></th>\n",
       "      <th>user_id</th>\n",
       "      <th>session_id</th>\n",
       "      <th>session_date</th>\n",
       "      <th>session_start_ts</th>\n",
       "      <th>install_date</th>\n",
       "      <th>session_number</th>\n",
       "      <th>registration_flag</th>\n",
       "      <th>page_counter</th>\n",
       "      <th>region</th>\n",
       "      <th>device</th>\n",
       "      <th>test_group</th>\n",
       "    </tr>\n",
       "  </thead>\n",
       "  <tbody>\n",
       "    <tr>\n",
       "      <th>0</th>\n",
       "      <td>6DAE3B3654DA738E</td>\n",
       "      <td>C69249E26E58F6E2</td>\n",
       "      <td>2025-10-26</td>\n",
       "      <td>2025-10-26 18:15:05</td>\n",
       "      <td>2025-10-16</td>\n",
       "      <td>3</td>\n",
       "      <td>0</td>\n",
       "      <td>3</td>\n",
       "      <td>MENA</td>\n",
       "      <td>Android</td>\n",
       "      <td>A</td>\n",
       "    </tr>\n",
       "    <tr>\n",
       "      <th>1</th>\n",
       "      <td>0A3FE5D1DD59110A</td>\n",
       "      <td>66D66D7C9F5181B7</td>\n",
       "      <td>2025-10-21</td>\n",
       "      <td>2025-10-21 17:04:53</td>\n",
       "      <td>2025-10-15</td>\n",
       "      <td>2</td>\n",
       "      <td>1</td>\n",
       "      <td>2</td>\n",
       "      <td>CIS</td>\n",
       "      <td>Android</td>\n",
       "      <td>B</td>\n",
       "    </tr>\n",
       "    <tr>\n",
       "      <th>2</th>\n",
       "      <td>2041F1D7AA740B88</td>\n",
       "      <td>50DE51D42215E74C</td>\n",
       "      <td>2025-10-23</td>\n",
       "      <td>2025-10-23 17:39:29</td>\n",
       "      <td>2025-10-19</td>\n",
       "      <td>3</td>\n",
       "      <td>0</td>\n",
       "      <td>2</td>\n",
       "      <td>MENA</td>\n",
       "      <td>Android</td>\n",
       "      <td>A</td>\n",
       "    </tr>\n",
       "    <tr>\n",
       "      <th>3</th>\n",
       "      <td>43D7585009168086</td>\n",
       "      <td>5763C0C353C22263</td>\n",
       "      <td>2025-10-24</td>\n",
       "      <td>2025-10-24 15:01:57</td>\n",
       "      <td>2025-10-18</td>\n",
       "      <td>4</td>\n",
       "      <td>0</td>\n",
       "      <td>1</td>\n",
       "      <td>CIS</td>\n",
       "      <td>iPhone</td>\n",
       "      <td>B</td>\n",
       "    </tr>\n",
       "    <tr>\n",
       "      <th>4</th>\n",
       "      <td>15AD68B14D62D88C</td>\n",
       "      <td>B1AD09F93C1053BC</td>\n",
       "      <td>2025-10-17</td>\n",
       "      <td>2025-10-17 17:34:39</td>\n",
       "      <td>2025-10-17</td>\n",
       "      <td>1</td>\n",
       "      <td>0</td>\n",
       "      <td>2</td>\n",
       "      <td>MENA</td>\n",
       "      <td>Android</td>\n",
       "      <td>B</td>\n",
       "    </tr>\n",
       "  </tbody>\n",
       "</table>\n",
       "</div>"
      ],
      "text/plain": [
       "            user_id        session_id session_date     session_start_ts  \\\n",
       "0  6DAE3B3654DA738E  C69249E26E58F6E2   2025-10-26  2025-10-26 18:15:05   \n",
       "1  0A3FE5D1DD59110A  66D66D7C9F5181B7   2025-10-21  2025-10-21 17:04:53   \n",
       "2  2041F1D7AA740B88  50DE51D42215E74C   2025-10-23  2025-10-23 17:39:29   \n",
       "3  43D7585009168086  5763C0C353C22263   2025-10-24  2025-10-24 15:01:57   \n",
       "4  15AD68B14D62D88C  B1AD09F93C1053BC   2025-10-17  2025-10-17 17:34:39   \n",
       "\n",
       "  install_date  session_number  registration_flag  page_counter region  \\\n",
       "0   2025-10-16               3                  0             3   MENA   \n",
       "1   2025-10-15               2                  1             2    CIS   \n",
       "2   2025-10-19               3                  0             2   MENA   \n",
       "3   2025-10-18               4                  0             1    CIS   \n",
       "4   2025-10-17               1                  0             2   MENA   \n",
       "\n",
       "    device test_group  \n",
       "0  Android          A  \n",
       "1  Android          B  \n",
       "2  Android          A  \n",
       "3   iPhone          B  \n",
       "4  Android          B  "
      ]
     },
     "metadata": {},
     "output_type": "display_data"
    },
    {
     "name": "stdout",
     "output_type": "stream",
     "text": [
      "<class 'pandas.core.frame.DataFrame'>\n",
      "RangeIndex: 100005 entries, 0 to 100004\n",
      "Data columns (total 11 columns):\n",
      " #   Column             Non-Null Count   Dtype \n",
      "---  ------             --------------   ----- \n",
      " 0   user_id            100005 non-null  object\n",
      " 1   session_id         100005 non-null  object\n",
      " 2   session_date       100005 non-null  object\n",
      " 3   session_start_ts   100005 non-null  object\n",
      " 4   install_date       100005 non-null  object\n",
      " 5   session_number     100005 non-null  int64 \n",
      " 6   registration_flag  100005 non-null  int64 \n",
      " 7   page_counter       100005 non-null  int64 \n",
      " 8   region             100005 non-null  object\n",
      " 9   device             100005 non-null  object\n",
      " 10  test_group         100005 non-null  object\n",
      "dtypes: int64(3), object(8)\n",
      "memory usage: 8.4+ MB\n"
     ]
    },
    {
     "data": {
      "text/plain": [
       "None"
      ]
     },
     "metadata": {},
     "output_type": "display_data"
    }
   ],
   "source": [
    "# Выгружаем данные из датасета sessions_project_test.csv в датафрейм sessions_test\n",
    "sessions_test = pd.read_csv('/datasets/sessions_project_test.csv')\n",
    "\n",
    "# Выводим первые строки датафрейма на экран\n",
    "display(sessions_test.head())    \n",
    "display(sessions_test.info())  "
   ]
  },
  {
   "cell_type": "markdown",
   "metadata": {},
   "source": [
    "Данные заполнено корректно, пустых строк нет, в таблице 100005 записей."
   ]
  },
  {
   "cell_type": "code",
   "execution_count": 28,
   "metadata": {},
   "outputs": [
    {
     "data": {
      "text/html": [
       "<div>\n",
       "<style scoped>\n",
       "    .dataframe tbody tr th:only-of-type {\n",
       "        vertical-align: middle;\n",
       "    }\n",
       "\n",
       "    .dataframe tbody tr th {\n",
       "        vertical-align: top;\n",
       "    }\n",
       "\n",
       "    .dataframe thead th {\n",
       "        text-align: right;\n",
       "    }\n",
       "</style>\n",
       "<table border=\"1\" class=\"dataframe\">\n",
       "  <thead>\n",
       "    <tr style=\"text-align: right;\">\n",
       "      <th></th>\n",
       "      <th>user_id</th>\n",
       "      <th>session_id</th>\n",
       "      <th>session_date</th>\n",
       "      <th>session_start_ts</th>\n",
       "      <th>install_date</th>\n",
       "      <th>session_number</th>\n",
       "      <th>registration_flag</th>\n",
       "      <th>page_counter</th>\n",
       "      <th>region</th>\n",
       "      <th>device</th>\n",
       "      <th>test_group</th>\n",
       "      <th>good_session</th>\n",
       "    </tr>\n",
       "  </thead>\n",
       "  <tbody>\n",
       "    <tr>\n",
       "      <th>0</th>\n",
       "      <td>6DAE3B3654DA738E</td>\n",
       "      <td>C69249E26E58F6E2</td>\n",
       "      <td>2025-10-26</td>\n",
       "      <td>2025-10-26 18:15:05</td>\n",
       "      <td>2025-10-16</td>\n",
       "      <td>3</td>\n",
       "      <td>0</td>\n",
       "      <td>3</td>\n",
       "      <td>MENA</td>\n",
       "      <td>Android</td>\n",
       "      <td>A</td>\n",
       "      <td>0</td>\n",
       "    </tr>\n",
       "    <tr>\n",
       "      <th>1</th>\n",
       "      <td>0A3FE5D1DD59110A</td>\n",
       "      <td>66D66D7C9F5181B7</td>\n",
       "      <td>2025-10-21</td>\n",
       "      <td>2025-10-21 17:04:53</td>\n",
       "      <td>2025-10-15</td>\n",
       "      <td>2</td>\n",
       "      <td>1</td>\n",
       "      <td>2</td>\n",
       "      <td>CIS</td>\n",
       "      <td>Android</td>\n",
       "      <td>B</td>\n",
       "      <td>0</td>\n",
       "    </tr>\n",
       "    <tr>\n",
       "      <th>2</th>\n",
       "      <td>2041F1D7AA740B88</td>\n",
       "      <td>50DE51D42215E74C</td>\n",
       "      <td>2025-10-23</td>\n",
       "      <td>2025-10-23 17:39:29</td>\n",
       "      <td>2025-10-19</td>\n",
       "      <td>3</td>\n",
       "      <td>0</td>\n",
       "      <td>2</td>\n",
       "      <td>MENA</td>\n",
       "      <td>Android</td>\n",
       "      <td>A</td>\n",
       "      <td>0</td>\n",
       "    </tr>\n",
       "    <tr>\n",
       "      <th>3</th>\n",
       "      <td>43D7585009168086</td>\n",
       "      <td>5763C0C353C22263</td>\n",
       "      <td>2025-10-24</td>\n",
       "      <td>2025-10-24 15:01:57</td>\n",
       "      <td>2025-10-18</td>\n",
       "      <td>4</td>\n",
       "      <td>0</td>\n",
       "      <td>1</td>\n",
       "      <td>CIS</td>\n",
       "      <td>iPhone</td>\n",
       "      <td>B</td>\n",
       "      <td>0</td>\n",
       "    </tr>\n",
       "    <tr>\n",
       "      <th>4</th>\n",
       "      <td>15AD68B14D62D88C</td>\n",
       "      <td>B1AD09F93C1053BC</td>\n",
       "      <td>2025-10-17</td>\n",
       "      <td>2025-10-17 17:34:39</td>\n",
       "      <td>2025-10-17</td>\n",
       "      <td>1</td>\n",
       "      <td>0</td>\n",
       "      <td>2</td>\n",
       "      <td>MENA</td>\n",
       "      <td>Android</td>\n",
       "      <td>B</td>\n",
       "      <td>0</td>\n",
       "    </tr>\n",
       "  </tbody>\n",
       "</table>\n",
       "</div>"
      ],
      "text/plain": [
       "            user_id        session_id session_date     session_start_ts  \\\n",
       "0  6DAE3B3654DA738E  C69249E26E58F6E2   2025-10-26  2025-10-26 18:15:05   \n",
       "1  0A3FE5D1DD59110A  66D66D7C9F5181B7   2025-10-21  2025-10-21 17:04:53   \n",
       "2  2041F1D7AA740B88  50DE51D42215E74C   2025-10-23  2025-10-23 17:39:29   \n",
       "3  43D7585009168086  5763C0C353C22263   2025-10-24  2025-10-24 15:01:57   \n",
       "4  15AD68B14D62D88C  B1AD09F93C1053BC   2025-10-17  2025-10-17 17:34:39   \n",
       "\n",
       "  install_date  session_number  registration_flag  page_counter region  \\\n",
       "0   2025-10-16               3                  0             3   MENA   \n",
       "1   2025-10-15               2                  1             2    CIS   \n",
       "2   2025-10-19               3                  0             2   MENA   \n",
       "3   2025-10-18               4                  0             1    CIS   \n",
       "4   2025-10-17               1                  0             2   MENA   \n",
       "\n",
       "    device test_group  good_session  \n",
       "0  Android          A             0  \n",
       "1  Android          B             0  \n",
       "2  Android          A             0  \n",
       "3   iPhone          B             0  \n",
       "4  Android          B             0  "
      ]
     },
     "execution_count": 28,
     "metadata": {},
     "output_type": "execute_result"
    }
   ],
   "source": [
    "# Создаем новый столбец 'good_session' на основе данных в столбце'page_counter' в таблице :\n",
    "sessions_test['good_session'] = (sessions_test['page_counter'].apply(create_good))\n",
    "\n",
    "# Проверяем результат\n",
    "sessions_test.head()"
   ]
  },
  {
   "cell_type": "markdown",
   "metadata": {
    "id": "aeYhrMYy0eM2"
   },
   "source": [
    "#### 4.2. Проверка корректности результатов теста\n",
    "\n",
    "Прежде чем приступать к анализу ключевых продуктовых метрик, необходимо убедиться, что тест проведён корректно и две группы сопоставимы.\n",
    "\n",
    "- Рассчитаем количество уникальных сессий для каждого дня и обеих тестовых групп, используя группировку.\n",
    "\n",
    "- Проверим, что количество уникальных дневных сессий в двух выборках не различается или различия не статистически значимы. "
   ]
  },
  {
   "cell_type": "code",
   "execution_count": 29,
   "metadata": {
    "id": "5NUlcltkTTSU"
   },
   "outputs": [
    {
     "data": {
      "image/png": "[encoded data removed]",
      "text/plain": [
       "<Figure size 1080x576 with 1 Axes>"
      ]
     },
     "metadata": {
      "needs_background": "light"
     },
     "output_type": "display_data"
    }
   ],
   "source": [
    "#Рассчитаем количество уникальных сессий по дням для обеих тестовых групп  и визуализируем результат\n",
    "unique_session_test = (\n",
    "    sessions_test\n",
    "    .groupby(['test_group', 'session_date'])\n",
    "    .agg({\n",
    "        'session_id': 'nunique',\n",
    "    })\n",
    "    .reset_index()\n",
    ")\n",
    "\n",
    "x = unique_session_test.session_date.unique()\n",
    "y_a = unique_session_test[unique_session_test.test_group=='A'].session_id\n",
    "y_b = unique_session_test[unique_session_test.test_group=='B'].session_id\n",
    "\n",
    "plt.figure(figsize=(15, 8))\n",
    "plt.plot(x, y_a, label ='group_A')\n",
    "plt.plot(x, y_b,label ='group_B')\n",
    "\n",
    "plt.xlabel(\"Дата\")\n",
    "plt.ylabel(\"Количество уникальных сессий\")\n",
    "plt.legend()\n",
    "plt.title('Сравнение динамик групп A и B по количеству сессий')\n",
    "plt.xticks(rotation=90)\n",
    "plt.show()"
   ]
  },
  {
   "cell_type": "markdown",
   "metadata": {},
   "source": [
    "На первый взгляд, количество уникальных сессий в разбивке по дням сопоставимы для обеих групп.\n",
    "Для проверки отсутствия статистически значимых различий в количестве уникальных дневных сессий в двух выборках выбераем статистический тест, позволяющий сделать вывод о равенстве средних двух выборок - t-тест. Нормальность выборочного среднего нам гарантирует большой объем наблюдений, независимость наблюдений мы проверяли на предыдущем шаге.  А применение t-теста Уэлча не требует проверки на равенство дисперсий.\n",
    "Зафиксируем уровень значимости для проверки гипотезы на уровне 5%. И проверим обе выборки на равенство среднего количество сессий в двух выбрках. Нулевая гипотеза - \"среднее количество уникальных сессий в день в выборках  равны\", альнернативная гипотеза - \"среднее количество уникальных сессий в день в выборках имеет статистически значимое отличие\"."
   ]
  },
  {
   "cell_type": "code",
   "execution_count": 30,
   "metadata": {},
   "outputs": [
    {
     "name": "stdout",
     "output_type": "stream",
     "text": [
      "p-value теста Уэлча =0.94\n",
      "Количество уникальных дневных сессий в двух выборках не имеет статистически значимого отличия\n"
     ]
    }
   ],
   "source": [
    "metric_a = unique_session_test[unique_session_test.test_group=='A'].session_id\n",
    "metric_b = unique_session_test[unique_session_test.test_group=='B'].session_id \n",
    "\n",
    "alpha = 0.05 ## уровень значимости для проверки гипотезы о равенстве выборочных средних\n",
    "\n",
    "stat_welch_ttest, p_value_welch_ttest = ttest_ind(\n",
    "    metric_a, \n",
    "    metric_b, \n",
    "    equal_var=False,\n",
    "    alternative='two-sided' \n",
    ") \n",
    "\n",
    "if p_value_welch_ttest>alpha:\n",
    "    print(f'p-value теста Уэлча ={round(p_value_welch_ttest, 2)}')\n",
    "    print('Количество уникальных дневных сессий в двух выборках не имеет статистически значимого отличия')\n",
    "else:\n",
    "    print(f'p-value теста Уэлча ={round(p_value_welch_ttest, 2)}')\n",
    "    print('Количество уникальных дневных сессий в двух выборках различно')"
   ]
  },
  {
   "cell_type": "markdown",
   "metadata": {},
   "source": [
    "С помощью t-тест мы подтвердили, что количество уникальных дневных сессий в двух выборках не имеет статистически значимого различия, а значит группы A и B сопоставимы и тест проведен корректно. Можем  приступать к анализу ключевых продуктовых метрик."
   ]
  },
  {
   "cell_type": "markdown",
   "metadata": {
    "id": "7kwRxzg70eM3"
   },
   "source": [
    "#### 4.3. Сравнение доли успешных сессий\n",
    "\n",
    "Теперь можно переходить к анализу ключевой метрики — доли успешных сессий.\n",
    "\n",
    "Рассчитаем долю успешных сессий для выборок A и B, а также разницу в этом показателе."
   ]
  },
  {
   "cell_type": "code",
   "execution_count": 31,
   "metadata": {
    "id": "Uku-V1CpPRCz"
   },
   "outputs": [
    {
     "name": "stdout",
     "output_type": "stream",
     "text": [
      "Доля успешных сессий в группе В составила 0.318, в группе А - 0.308, разница в пользу тестовой группы 0.011\n"
     ]
    }
   ],
   "source": [
    "#рассчитаем долю успешных сессий для выборок A и B, и найдем разницу между ними\n",
    "good_a = sessions_test[sessions_test['test_group']=='A']['good_session'].mean()\n",
    "good_b = sessions_test[sessions_test['test_group']=='B']['good_session'].mean()\n",
    "print(f'Доля успешных сессий в группе В составила {round(good_b, 3)}, в группе А - {round(good_a, 3)}, разница в пользу тестовой группы {round(good_b - good_a, 3)}')"
   ]
  },
  {
   "cell_type": "markdown",
   "metadata": {},
   "source": [
    "Доля успешных сессий а группе В на протяжении периода тестирования оказалась выше на 1.1%. Это может говорить о том, что новый алгоритм рекомендаций действительно дал положительный результат, и интерес пользователей к приложению вырос. Однако, чтобы сделать окончательный вывод, проверим является ли этот результат статистически значимым."
   ]
  },
  {
   "cell_type": "markdown",
   "metadata": {
    "id": "9fMFuja10eM4"
   },
   "source": [
    "#### 4.4. Насколько статистически значимо изменение ключевой метрики\n",
    "\n",
    "Мы убедились, что количество успешных сессий в тестовой выборке примерно на 1.1% выше, чем в контрольной, но делать выводы только на основе этого значения будет некорректно. Для принятия решения всегда необходимо проверить является ли это изменение статистически значимым."
   ]
  },
  {
   "cell_type": "markdown",
   "metadata": {
    "id": "gFvhRGwlPLS0"
   },
   "source": [
    "Для проверки статистической значимости полученного  резульата будем использовать  Z-тест пропорций.\n",
    "Проверим достаточный размер каждой из выборок для данного теста"
   ]
  },
  {
   "cell_type": "code",
   "execution_count": 32,
   "metadata": {},
   "outputs": [
    {
     "name": "stdout",
     "output_type": "stream",
     "text": [
      "n_a=49551, n_b=50454\n",
      "m_a=15248, m_b=16059\n",
      "p_a=0.3077233557344958, p_b=0.31828992745867524\n",
      "Предпосылка о достаточном количестве данных выполняется!\n"
     ]
    }
   ],
   "source": [
    "#Проверим достаточный размер каждой из выборок для данного теста\n",
    "n_a = sessions_test[sessions_test.test_group=='A'].shape[0]## размер выбороки A\n",
    "n_b = sessions_test[sessions_test.test_group=='B'].shape[0]## размер выбороки B\n",
    "m_a = sessions_test[(sessions_test.test_group=='A')&(sessions_test.good_session==1)].shape[0] # количество успехов в группе A\n",
    "m_b = sessions_test[(sessions_test.test_group=='B')&(sessions_test.good_session==1)].shape[0] # количество успехов в группе B\n",
    "\n",
    "p_a, p_b = m_a/n_a, m_b/n_b # рассчитываем доли успехов для каждой группы: A и B\n",
    "\n",
    "print(f'n_a={n_a}, n_b={n_b}')\n",
    "\n",
    "print(f'm_a={m_a}, m_b={m_b}')\n",
    "\n",
    "print(f'p_a={p_a}, p_b={p_b}')\n",
    "\n",
    "if (p_a*n_a > 10)and((1-p_a)*n_a > 10)and(p_b*n_b > 10)and((1-p_b)*n_b > 10):\n",
    "    print('Предпосылка о достаточном количестве данных выполняется!')\n",
    "else:\n",
    "    print('Предпосылка о достаточном количестве данных НЕ выполняется!')"
   ]
  },
  {
   "cell_type": "markdown",
   "metadata": {},
   "source": [
    "Предпосылки для проведения теста соблюдены: независимость данных и достаточный размер каждой из выборок.\n",
    "\n",
    "Сформулируем нулевую гипотезу: \"Доли успешных сессий в группах А и В равны.\" H0:pA = pB. \n",
    "Альтернативная гипотеза: \"Доля успешных сессий в группе В выше, чем в группе А.\" H1:pA < pB\n",
    "\n",
    "Основная метрика для проверки этой гипотезы — доля успешных сессий (с 4 и более просмотренными страницами).\n",
    "\n",
    "Уровень статистической значимости  0.05."
   ]
  },
  {
   "cell_type": "code",
   "execution_count": 34,
   "metadata": {},
   "outputs": [
    {
     "name": "stdout",
     "output_type": "stream",
     "text": [
      "pvalue=0.0001574739988036123 < 0.05\n",
      "Нулевая гипотеза не находит подтверждения!\n"
     ]
    }
   ],
   "source": [
    "#Импортируем тест\n",
    "from statsmodels.stats.proportion import proportions_ztest\n",
    "alpha = 0.05 \n",
    "\n",
    "stat_ztest, p_value_ztest = proportions_ztest(\n",
    "    [m_a, m_b],\n",
    "    [n_a, n_b],\n",
    "    alternative='smaller'\n",
    ")\n",
    "\n",
    "if p_value_ztest > alpha:\n",
    "    print(f'pvalue={p_value_ztest} > {alpha}')\n",
    "    print('Нулевая гипотеза находит подтверждение!')\n",
    "else:\n",
    "    print(f'pvalue={p_value_ztest} < {alpha}')\n",
    "    print('Нулевая гипотеза не находит подтверждения!')"
   ]
  },
  {
   "cell_type": "markdown",
   "metadata": {},
   "source": [
    "Нулевая гипотеза не подтвердилась, а значит мы можем говорить о том, что доля успешных сессий в тествойгрупе действительно выше,чем в контрольной.\n",
    "Таким образом,  мы подтвердили статистическую значимость полученного резульата с помощью Z-тест пропорций, и теперь можем в дальнейшем отталкиваться от того, что новый алгоритм рекомендаций действительно привел к увеличению просматриваемых страниц, а значит контент для пользователей стал интереснее."
   ]
  },
  {
   "cell_type": "markdown",
   "metadata": {},
   "source": [
    "[*К содержанию*](#intro) "
   ]
  },
  {
   "cell_type": "markdown",
   "metadata": {
    "id": "GnJrkY9Q63zS"
   },
   "source": [
    "<a id='5'></a>\n",
    "### 5. Вывод по результатам A/B-эксперимента"
   ]
  },
  {
   "cell_type": "markdown",
   "metadata": {},
   "source": [
    "В проекте был проведен анализ результатов А/В тестирования для развлекательного приложеня.\n",
    "\n",
    "В ходе исследования было проведено ознакомление с историческими данными на временном провежутке от 11 августа 2025г до 23 сентября 2025г. Проанализирована динамика количества уникальных пользователей в день, а также зарегистрированных пользователй в день и их доля. Также было проанализировано количество просматриваемых страниц за одну сессию, чем выше этот показатель, тем выше заинтересованность пользователя. \n",
    "В качестве ключевой метрики для проведения тестирования была выбрана доля сессий, количество прсомотров страниц в которой 4 и более.\n",
    "\n",
    "Далее был рассчитан необходимый для эксперимента размер выбоки. Для расчета были использованы следующие параметры:\n",
    "- уровень значимости 0.05,\n",
    "- вероятность ошибки второго рода  0.2,\n",
    "- минимальный детектируемый эффект, или MDE,  3%. \n",
    "Необходимый размер выборки составил 17441 пользователей для каждой группы.\n",
    "При данном размере выборки минимально необходимая длительность A/B-теста при рассчитанном уровене трафика в 9907 пользователей в день составил 4 дня.\n",
    "\n",
    "На следующем этапе мы проводили мониторинг А/В тестирования.\n",
    "Длительность теста  составила 20 дней, а количество уникальных пользователей  в первый день тестирвоания в группах А и В составило\tсоответсвенно 1477 и 1466 человек.\n",
    "Мы убедились, что:\n",
    "- процентная разница в количестве пользователей в группах A и B составляет менее 1%, а значит группы сопоставимы по размеру;\n",
    "- группы независимы, никто из пользователей не попал в обе группы одновременно;\n",
    "- пользователи в группах равномерно распределены по типам устройства и регионам,\n",
    "- количество уникальных дневных сессий в двух выборках сопоставимо и не имеет статистически значимых различий (для этого был применен t-тест к данным эксперимента).\n",
    "\n",
    "В результате анализа результатов проведенного тестирования, было установлено, что доля успешных сессий в тестовой группе оказалась выше, чем в контрольной группе, на 1.06%. С помощью Z-теста пропорций мы убедились, что данное изменение является для нас статистически значимым. Рассчитанный pvalue  составил 0.00016, что значительно ниже установленного уровня значимости в 5%.\n",
    "\n",
    "**Основные выводы:**\n",
    "Результаты A/B-тестирования, которое было проведено корректно, показали, что новый алгоритм рекомендаций, который должен показывать более интересный контент для каждого пользователя, дал положительные результаты. Доля успешных сессий в тестовой группе оказалась выше, чем в контрольной группе, на 1.1%. Доли составили соответсвенно в группе В 32%, в группе А 31%. \n",
    "Данный положительный  результат является статистически значимым, а значит новвоведение рекомендовано к внедрению."
   ]
  },
  {
   "cell_type": "markdown",
   "metadata": {},
   "source": [
    "[*К содержанию*](#intro) "
   ]
  }
 ],
 "metadata": {
  "ExecuteTimeLog": [
   {
    "duration": 387,
    "start_time": "2025-03-31T12:20:09.616Z"
   },
   {
    "duration": 2105,
    "start_time": "2025-03-31T12:24:12.037Z"
   },
   {
    "duration": 73,
    "start_time": "2025-03-31T12:24:36.662Z"
   },
   {
    "duration": 27,
    "start_time": "2025-03-31T12:25:27.046Z"
   },
   {
    "duration": 536,
    "start_time": "2025-03-31T12:38:03.951Z"
   },
   {
    "duration": 586,
    "start_time": "2025-03-31T12:38:19.120Z"
   },
   {
    "duration": 314,
    "start_time": "2025-03-31T12:38:42.892Z"
   },
   {
    "duration": 556,
    "start_time": "2025-03-31T12:39:16.772Z"
   },
   {
    "duration": 635,
    "start_time": "2025-03-31T12:41:19.556Z"
   },
   {
    "duration": 571,
    "start_time": "2025-03-31T12:43:22.120Z"
   },
   {
    "duration": 645,
    "start_time": "2025-03-31T12:43:35.837Z"
   },
   {
    "duration": 572,
    "start_time": "2025-03-31T12:46:34.233Z"
   },
   {
    "duration": 4,
    "start_time": "2025-03-31T12:47:13.760Z"
   },
   {
    "duration": 39,
    "start_time": "2025-03-31T12:54:52.779Z"
   },
   {
    "duration": 227,
    "start_time": "2025-03-31T13:08:20.367Z"
   },
   {
    "duration": 228,
    "start_time": "2025-03-31T13:09:52.259Z"
   },
   {
    "duration": 215,
    "start_time": "2025-03-31T13:10:35.516Z"
   },
   {
    "duration": 220,
    "start_time": "2025-03-31T13:29:13.871Z"
   },
   {
    "duration": 50,
    "start_time": "2025-03-31T16:42:29.989Z"
   },
   {
    "duration": 396,
    "start_time": "2025-03-31T16:42:58.027Z"
   },
   {
    "duration": 2067,
    "start_time": "2025-03-31T16:42:58.425Z"
   },
   {
    "duration": 22,
    "start_time": "2025-03-31T16:43:00.494Z"
   },
   {
    "duration": 542,
    "start_time": "2025-03-31T16:43:00.517Z"
   },
   {
    "duration": 4,
    "start_time": "2025-03-31T16:43:01.060Z"
   },
   {
    "duration": 54,
    "start_time": "2025-03-31T16:43:01.065Z"
   },
   {
    "duration": 205,
    "start_time": "2025-03-31T16:43:01.120Z"
   },
   {
    "duration": 66,
    "start_time": "2025-03-31T16:43:01.327Z"
   },
   {
    "duration": 0,
    "start_time": "2025-03-31T16:43:01.407Z"
   },
   {
    "duration": 0,
    "start_time": "2025-03-31T16:43:01.408Z"
   },
   {
    "duration": 952,
    "start_time": "2025-03-31T16:43:48.439Z"
   },
   {
    "duration": 551,
    "start_time": "2025-03-31T16:48:38.858Z"
   },
   {
    "duration": 689,
    "start_time": "2025-03-31T16:52:15.164Z"
   },
   {
    "duration": 14,
    "start_time": "2025-03-31T17:06:29.904Z"
   },
   {
    "duration": 10,
    "start_time": "2025-03-31T17:06:42.163Z"
   },
   {
    "duration": 232,
    "start_time": "2025-03-31T17:07:36.936Z"
   },
   {
    "duration": 210,
    "start_time": "2025-03-31T17:12:17.515Z"
   },
   {
    "duration": 257,
    "start_time": "2025-03-31T17:12:34.138Z"
   },
   {
    "duration": 192,
    "start_time": "2025-03-31T17:15:05.885Z"
   },
   {
    "duration": 565,
    "start_time": "2025-03-31T17:15:54.180Z"
   },
   {
    "duration": 12,
    "start_time": "2025-03-31T17:19:45.975Z"
   },
   {
    "duration": 22,
    "start_time": "2025-03-31T17:20:32.398Z"
   },
   {
    "duration": 21,
    "start_time": "2025-03-31T17:20:39.121Z"
   },
   {
    "duration": 3,
    "start_time": "2025-03-31T17:24:47.190Z"
   },
   {
    "duration": 628,
    "start_time": "2025-03-31T17:24:57.174Z"
   },
   {
    "duration": 520,
    "start_time": "2025-03-31T17:27:48.758Z"
   },
   {
    "duration": 48,
    "start_time": "2025-04-01T11:31:20.139Z"
   },
   {
    "duration": 421,
    "start_time": "2025-04-01T11:31:31.036Z"
   },
   {
    "duration": 2010,
    "start_time": "2025-04-01T11:31:31.459Z"
   },
   {
    "duration": 16,
    "start_time": "2025-04-01T11:31:33.471Z"
   },
   {
    "duration": 562,
    "start_time": "2025-04-01T11:31:33.489Z"
   },
   {
    "duration": 4,
    "start_time": "2025-04-01T11:31:34.053Z"
   },
   {
    "duration": 63,
    "start_time": "2025-04-01T11:31:34.059Z"
   },
   {
    "duration": 200,
    "start_time": "2025-04-01T11:31:34.124Z"
   },
   {
    "duration": 393,
    "start_time": "2025-04-01T11:31:34.325Z"
   },
   {
    "duration": 554,
    "start_time": "2025-04-01T11:31:34.720Z"
   },
   {
    "duration": 14,
    "start_time": "2025-04-01T11:31:35.277Z"
   },
   {
    "duration": 504,
    "start_time": "2025-04-01T11:31:35.293Z"
   },
   {
    "duration": 83,
    "start_time": "2025-04-01T11:31:35.799Z"
   },
   {
    "duration": 0,
    "start_time": "2025-04-01T11:31:35.883Z"
   },
   {
    "duration": 0,
    "start_time": "2025-04-01T11:31:35.885Z"
   },
   {
    "duration": 0,
    "start_time": "2025-04-01T11:31:35.886Z"
   },
   {
    "duration": 43,
    "start_time": "2025-04-01T11:32:12.222Z"
   },
   {
    "duration": 70,
    "start_time": "2025-04-01T11:35:00.346Z"
   },
   {
    "duration": 226,
    "start_time": "2025-04-01T11:35:08.593Z"
   },
   {
    "duration": 240,
    "start_time": "2025-04-01T11:35:31.098Z"
   },
   {
    "duration": 192,
    "start_time": "2025-04-01T11:35:41.496Z"
   },
   {
    "duration": 26,
    "start_time": "2025-04-01T11:37:52.500Z"
   },
   {
    "duration": 27,
    "start_time": "2025-04-01T11:37:58.048Z"
   },
   {
    "duration": 35,
    "start_time": "2025-04-01T11:38:23.513Z"
   },
   {
    "duration": 71,
    "start_time": "2025-04-01T11:38:51.117Z"
   },
   {
    "duration": 177,
    "start_time": "2025-04-01T11:39:02.204Z"
   },
   {
    "duration": 210,
    "start_time": "2025-04-01T11:39:16.484Z"
   },
   {
    "duration": 181,
    "start_time": "2025-04-01T11:40:23.461Z"
   },
   {
    "duration": 190,
    "start_time": "2025-04-01T11:40:30.101Z"
   },
   {
    "duration": 171,
    "start_time": "2025-04-01T11:41:37.051Z"
   },
   {
    "duration": 177,
    "start_time": "2025-04-01T11:47:34.991Z"
   },
   {
    "duration": 176,
    "start_time": "2025-04-01T11:47:41.211Z"
   },
   {
    "duration": 17,
    "start_time": "2025-04-01T12:07:27.008Z"
   },
   {
    "duration": 14,
    "start_time": "2025-04-01T12:07:52.893Z"
   },
   {
    "duration": 30,
    "start_time": "2025-04-01T12:08:20.596Z"
   },
   {
    "duration": 25,
    "start_time": "2025-04-01T12:11:24.664Z"
   },
   {
    "duration": 20,
    "start_time": "2025-04-01T12:11:58.042Z"
   },
   {
    "duration": 10,
    "start_time": "2025-04-01T12:17:47.220Z"
   },
   {
    "duration": 413,
    "start_time": "2025-04-01T12:23:43.329Z"
   },
   {
    "duration": 2216,
    "start_time": "2025-04-01T12:23:43.744Z"
   },
   {
    "duration": 15,
    "start_time": "2025-04-01T12:23:45.962Z"
   },
   {
    "duration": 558,
    "start_time": "2025-04-01T12:23:45.980Z"
   },
   {
    "duration": 4,
    "start_time": "2025-04-01T12:23:46.540Z"
   },
   {
    "duration": 40,
    "start_time": "2025-04-01T12:23:46.545Z"
   },
   {
    "duration": 226,
    "start_time": "2025-04-01T12:23:46.587Z"
   },
   {
    "duration": 227,
    "start_time": "2025-04-01T12:23:46.815Z"
   },
   {
    "duration": 561,
    "start_time": "2025-04-01T12:23:47.043Z"
   },
   {
    "duration": 14,
    "start_time": "2025-04-01T12:23:47.606Z"
   },
   {
    "duration": 569,
    "start_time": "2025-04-01T12:23:47.621Z"
   },
   {
    "duration": 44,
    "start_time": "2025-04-01T12:23:48.192Z"
   },
   {
    "duration": 175,
    "start_time": "2025-04-01T12:23:48.238Z"
   },
   {
    "duration": 147,
    "start_time": "2025-04-01T12:23:48.414Z"
   },
   {
    "duration": 43,
    "start_time": "2025-04-01T12:23:48.563Z"
   },
   {
    "duration": 558,
    "start_time": "2025-04-01T12:23:48.607Z"
   },
   {
    "duration": 0,
    "start_time": "2025-04-01T12:23:49.166Z"
   },
   {
    "duration": 45,
    "start_time": "2025-04-01T12:25:27.769Z"
   },
   {
    "duration": 197,
    "start_time": "2025-04-01T12:32:37.163Z"
   },
   {
    "duration": 191,
    "start_time": "2025-04-01T12:33:54.510Z"
   },
   {
    "duration": 163,
    "start_time": "2025-04-01T12:34:09.206Z"
   },
   {
    "duration": 1467,
    "start_time": "2025-04-01T12:36:33.558Z"
   },
   {
    "duration": 168,
    "start_time": "2025-04-01T12:36:40.083Z"
   },
   {
    "duration": 216,
    "start_time": "2025-04-01T12:39:58.823Z"
   },
   {
    "duration": 491,
    "start_time": "2025-04-01T12:40:29.047Z"
   },
   {
    "duration": 527,
    "start_time": "2025-04-01T12:41:11.110Z"
   },
   {
    "duration": 17,
    "start_time": "2025-04-01T13:17:43.506Z"
   },
   {
    "duration": 11,
    "start_time": "2025-04-01T13:23:57.718Z"
   },
   {
    "duration": 7,
    "start_time": "2025-04-01T13:24:12.798Z"
   },
   {
    "duration": 6,
    "start_time": "2025-04-01T13:30:50.937Z"
   },
   {
    "duration": 54,
    "start_time": "2025-04-01T13:32:50.319Z"
   },
   {
    "duration": 72,
    "start_time": "2025-04-01T13:33:07.021Z"
   },
   {
    "duration": 95,
    "start_time": "2025-04-01T13:33:52.533Z"
   },
   {
    "duration": 57,
    "start_time": "2025-04-01T13:39:53.870Z"
   },
   {
    "duration": 12,
    "start_time": "2025-04-01T13:51:57.173Z"
   },
   {
    "duration": 5,
    "start_time": "2025-04-01T13:53:26.274Z"
   },
   {
    "duration": 8,
    "start_time": "2025-04-01T13:56:25.697Z"
   },
   {
    "duration": 9,
    "start_time": "2025-04-01T13:59:48.198Z"
   },
   {
    "duration": 8,
    "start_time": "2025-04-01T14:04:27.883Z"
   },
   {
    "duration": 9,
    "start_time": "2025-04-01T14:04:39.640Z"
   },
   {
    "duration": 7,
    "start_time": "2025-04-01T14:05:03.656Z"
   },
   {
    "duration": 4,
    "start_time": "2025-04-01T14:07:40.504Z"
   },
   {
    "duration": 396,
    "start_time": "2025-04-03T12:46:47.221Z"
   },
   {
    "duration": 2077,
    "start_time": "2025-04-03T12:46:47.619Z"
   },
   {
    "duration": 19,
    "start_time": "2025-04-03T12:46:49.698Z"
   },
   {
    "duration": 659,
    "start_time": "2025-04-03T12:46:49.719Z"
   },
   {
    "duration": 5,
    "start_time": "2025-04-03T12:46:50.381Z"
   },
   {
    "duration": 45,
    "start_time": "2025-04-03T12:46:50.389Z"
   },
   {
    "duration": 276,
    "start_time": "2025-04-03T12:46:50.435Z"
   },
   {
    "duration": 455,
    "start_time": "2025-04-03T12:46:50.712Z"
   },
   {
    "duration": 648,
    "start_time": "2025-04-03T12:46:51.169Z"
   },
   {
    "duration": 16,
    "start_time": "2025-04-03T12:46:51.819Z"
   },
   {
    "duration": 626,
    "start_time": "2025-04-03T12:46:51.836Z"
   },
   {
    "duration": 64,
    "start_time": "2025-04-03T12:46:52.463Z"
   },
   {
    "duration": 251,
    "start_time": "2025-04-03T12:46:52.529Z"
   },
   {
    "duration": 170,
    "start_time": "2025-04-03T12:46:52.782Z"
   },
   {
    "duration": 599,
    "start_time": "2025-04-03T12:46:52.954Z"
   },
   {
    "duration": 472,
    "start_time": "2025-04-03T12:46:53.554Z"
   },
   {
    "duration": 6,
    "start_time": "2025-04-03T12:46:54.028Z"
   },
   {
    "duration": 95,
    "start_time": "2025-04-03T12:46:54.035Z"
   },
   {
    "duration": 7,
    "start_time": "2025-04-03T12:46:54.132Z"
   },
   {
    "duration": 11,
    "start_time": "2025-04-03T12:46:54.141Z"
   },
   {
    "duration": 91,
    "start_time": "2025-04-03T12:53:58.820Z"
   },
   {
    "duration": 88,
    "start_time": "2025-04-03T12:54:12.122Z"
   },
   {
    "duration": 163,
    "start_time": "2025-04-03T12:54:31.717Z"
   },
   {
    "duration": 91,
    "start_time": "2025-04-03T12:54:36.750Z"
   },
   {
    "duration": 92,
    "start_time": "2025-04-03T12:54:43.794Z"
   },
   {
    "duration": 92,
    "start_time": "2025-04-03T12:54:51.352Z"
   },
   {
    "duration": 94,
    "start_time": "2025-04-03T12:55:04.437Z"
   },
   {
    "duration": 191,
    "start_time": "2025-04-03T12:58:52.924Z"
   },
   {
    "duration": 111,
    "start_time": "2025-04-03T12:59:32.588Z"
   },
   {
    "duration": 12,
    "start_time": "2025-04-03T13:01:47.821Z"
   },
   {
    "duration": 1231,
    "start_time": "2025-04-03T13:02:46.563Z"
   },
   {
    "duration": 15,
    "start_time": "2025-04-03T13:04:19.769Z"
   },
   {
    "duration": 11,
    "start_time": "2025-04-03T13:04:34.478Z"
   },
   {
    "duration": 16,
    "start_time": "2025-04-03T13:05:12.770Z"
   },
   {
    "duration": 14,
    "start_time": "2025-04-03T13:05:30.390Z"
   },
   {
    "duration": 14,
    "start_time": "2025-04-03T13:05:45.727Z"
   },
   {
    "duration": 113,
    "start_time": "2025-04-03T13:06:10.746Z"
   },
   {
    "duration": 20,
    "start_time": "2025-04-03T13:09:40.682Z"
   },
   {
    "duration": 385,
    "start_time": "2025-04-03T13:09:56.009Z"
   },
   {
    "duration": 2052,
    "start_time": "2025-04-03T13:09:56.395Z"
   },
   {
    "duration": 17,
    "start_time": "2025-04-03T13:09:58.449Z"
   },
   {
    "duration": 602,
    "start_time": "2025-04-03T13:09:58.477Z"
   },
   {
    "duration": 4,
    "start_time": "2025-04-03T13:09:59.081Z"
   },
   {
    "duration": 58,
    "start_time": "2025-04-03T13:09:59.086Z"
   },
   {
    "duration": 255,
    "start_time": "2025-04-03T13:09:59.146Z"
   },
   {
    "duration": 241,
    "start_time": "2025-04-03T13:09:59.403Z"
   },
   {
    "duration": 593,
    "start_time": "2025-04-03T13:09:59.645Z"
   },
   {
    "duration": 14,
    "start_time": "2025-04-03T13:10:00.240Z"
   },
   {
    "duration": 564,
    "start_time": "2025-04-03T13:10:00.256Z"
   },
   {
    "duration": 36,
    "start_time": "2025-04-03T13:10:00.821Z"
   },
   {
    "duration": 185,
    "start_time": "2025-04-03T13:10:00.858Z"
   },
   {
    "duration": 160,
    "start_time": "2025-04-03T13:10:01.045Z"
   },
   {
    "duration": 650,
    "start_time": "2025-04-03T13:10:01.207Z"
   },
   {
    "duration": 462,
    "start_time": "2025-04-03T13:10:01.859Z"
   },
   {
    "duration": 8,
    "start_time": "2025-04-03T13:10:02.323Z"
   },
   {
    "duration": 149,
    "start_time": "2025-04-03T13:10:02.334Z"
   },
   {
    "duration": 8,
    "start_time": "2025-04-03T13:10:02.485Z"
   },
   {
    "duration": 19,
    "start_time": "2025-04-03T13:10:02.495Z"
   },
   {
    "duration": 117,
    "start_time": "2025-04-03T13:10:02.516Z"
   },
   {
    "duration": 0,
    "start_time": "2025-04-03T13:10:02.634Z"
   },
   {
    "duration": 10,
    "start_time": "2025-04-03T13:11:19.863Z"
   },
   {
    "duration": 17,
    "start_time": "2025-04-03T13:11:30.078Z"
   },
   {
    "duration": 97,
    "start_time": "2025-04-03T13:12:33.945Z"
   },
   {
    "duration": 19,
    "start_time": "2025-04-03T13:22:41.676Z"
   },
   {
    "duration": 11,
    "start_time": "2025-04-03T13:23:26.628Z"
   },
   {
    "duration": 11,
    "start_time": "2025-04-03T13:23:47.516Z"
   },
   {
    "duration": 11,
    "start_time": "2025-04-03T13:24:06.254Z"
   },
   {
    "duration": 96,
    "start_time": "2025-04-03T13:26:24.452Z"
   },
   {
    "duration": 8,
    "start_time": "2025-04-03T13:32:26.776Z"
   },
   {
    "duration": 131,
    "start_time": "2025-04-03T13:46:48.548Z"
   },
   {
    "duration": 204,
    "start_time": "2025-04-03T13:47:29.643Z"
   },
   {
    "duration": 57,
    "start_time": "2025-04-04T06:52:34.298Z"
   },
   {
    "duration": 418,
    "start_time": "2025-04-04T06:52:49.877Z"
   },
   {
    "duration": 2142,
    "start_time": "2025-04-04T06:52:50.296Z"
   },
   {
    "duration": 18,
    "start_time": "2025-04-04T06:52:52.440Z"
   },
   {
    "duration": 669,
    "start_time": "2025-04-04T06:52:52.460Z"
   },
   {
    "duration": 5,
    "start_time": "2025-04-04T06:52:53.132Z"
   },
   {
    "duration": 52,
    "start_time": "2025-04-04T06:52:53.139Z"
   },
   {
    "duration": 243,
    "start_time": "2025-04-04T06:52:53.193Z"
   },
   {
    "duration": 464,
    "start_time": "2025-04-04T06:52:53.438Z"
   },
   {
    "duration": 658,
    "start_time": "2025-04-04T06:52:53.905Z"
   },
   {
    "duration": 15,
    "start_time": "2025-04-04T06:52:54.567Z"
   },
   {
    "duration": 572,
    "start_time": "2025-04-04T06:52:54.583Z"
   },
   {
    "duration": 66,
    "start_time": "2025-04-04T06:52:55.158Z"
   },
   {
    "duration": 248,
    "start_time": "2025-04-04T06:52:55.226Z"
   },
   {
    "duration": 191,
    "start_time": "2025-04-04T06:52:55.476Z"
   },
   {
    "duration": 659,
    "start_time": "2025-04-04T06:52:55.669Z"
   },
   {
    "duration": 467,
    "start_time": "2025-04-04T06:52:56.330Z"
   },
   {
    "duration": 8,
    "start_time": "2025-04-04T06:52:56.799Z"
   },
   {
    "duration": 87,
    "start_time": "2025-04-04T06:52:56.810Z"
   },
   {
    "duration": 15,
    "start_time": "2025-04-04T06:52:56.899Z"
   },
   {
    "duration": 125,
    "start_time": "2025-04-04T06:52:56.917Z"
   },
   {
    "duration": 0,
    "start_time": "2025-04-04T06:52:57.043Z"
   },
   {
    "duration": 0,
    "start_time": "2025-04-04T06:52:57.045Z"
   },
   {
    "duration": 0,
    "start_time": "2025-04-04T06:52:57.046Z"
   },
   {
    "duration": 0,
    "start_time": "2025-04-04T06:52:57.047Z"
   },
   {
    "duration": 0,
    "start_time": "2025-04-04T06:52:57.048Z"
   },
   {
    "duration": 13,
    "start_time": "2025-04-04T06:54:10.636Z"
   },
   {
    "duration": 5,
    "start_time": "2025-04-04T06:55:39.466Z"
   },
   {
    "duration": 7,
    "start_time": "2025-04-04T06:56:05.915Z"
   },
   {
    "duration": 7,
    "start_time": "2025-04-04T06:58:04.451Z"
   },
   {
    "duration": 7,
    "start_time": "2025-04-04T06:59:21.474Z"
   },
   {
    "duration": 112,
    "start_time": "2025-04-04T06:59:29.639Z"
   },
   {
    "duration": 11,
    "start_time": "2025-04-04T06:59:38.854Z"
   },
   {
    "duration": 23,
    "start_time": "2025-04-04T06:59:45.445Z"
   },
   {
    "duration": 31,
    "start_time": "2025-04-04T07:00:15.767Z"
   },
   {
    "duration": 16,
    "start_time": "2025-04-04T07:00:33.684Z"
   },
   {
    "duration": 21,
    "start_time": "2025-04-04T07:03:41.967Z"
   },
   {
    "duration": 152,
    "start_time": "2025-04-04T07:03:57.313Z"
   },
   {
    "duration": 20,
    "start_time": "2025-04-04T07:04:53.846Z"
   },
   {
    "duration": 20,
    "start_time": "2025-04-04T07:05:09.370Z"
   },
   {
    "duration": 19,
    "start_time": "2025-04-04T07:07:25.274Z"
   },
   {
    "duration": 246,
    "start_time": "2025-04-04T07:10:54.419Z"
   },
   {
    "duration": 17,
    "start_time": "2025-04-04T07:12:03.277Z"
   },
   {
    "duration": 184,
    "start_time": "2025-04-04T07:12:20.785Z"
   },
   {
    "duration": 204,
    "start_time": "2025-04-04T07:17:32.868Z"
   },
   {
    "duration": 1529,
    "start_time": "2025-04-04T07:18:55.245Z"
   },
   {
    "duration": 201,
    "start_time": "2025-04-04T07:19:25.924Z"
   },
   {
    "duration": 125,
    "start_time": "2025-04-04T07:21:00.384Z"
   },
   {
    "duration": 191,
    "start_time": "2025-04-04T07:22:44.040Z"
   },
   {
    "duration": 190,
    "start_time": "2025-04-04T07:23:13.526Z"
   },
   {
    "duration": 1296,
    "start_time": "2025-04-04T07:24:27.656Z"
   },
   {
    "duration": 199,
    "start_time": "2025-04-04T07:24:55.409Z"
   },
   {
    "duration": 190,
    "start_time": "2025-04-04T07:41:41.541Z"
   },
   {
    "duration": 277,
    "start_time": "2025-04-04T07:41:53.016Z"
   },
   {
    "duration": 16,
    "start_time": "2025-04-04T07:42:47.064Z"
   },
   {
    "duration": 18,
    "start_time": "2025-04-04T07:43:03.800Z"
   },
   {
    "duration": 168,
    "start_time": "2025-04-04T07:49:47.147Z"
   },
   {
    "duration": 17,
    "start_time": "2025-04-04T07:58:54.783Z"
   },
   {
    "duration": 13,
    "start_time": "2025-04-04T07:59:02.779Z"
   },
   {
    "duration": 126,
    "start_time": "2025-04-04T08:01:23.307Z"
   },
   {
    "duration": 10,
    "start_time": "2025-04-04T08:05:37.476Z"
   },
   {
    "duration": 10,
    "start_time": "2025-04-04T08:05:51.010Z"
   },
   {
    "duration": 9,
    "start_time": "2025-04-04T08:09:18.997Z"
   },
   {
    "duration": 13,
    "start_time": "2025-04-04T08:10:38.534Z"
   },
   {
    "duration": 12,
    "start_time": "2025-04-04T08:10:49.566Z"
   },
   {
    "duration": 438,
    "start_time": "2025-04-04T08:11:11.189Z"
   },
   {
    "duration": 1784,
    "start_time": "2025-04-04T08:11:11.630Z"
   },
   {
    "duration": 20,
    "start_time": "2025-04-04T08:11:13.416Z"
   },
   {
    "duration": 683,
    "start_time": "2025-04-04T08:11:13.439Z"
   },
   {
    "duration": 5,
    "start_time": "2025-04-04T08:11:14.124Z"
   },
   {
    "duration": 48,
    "start_time": "2025-04-04T08:11:14.132Z"
   },
   {
    "duration": 267,
    "start_time": "2025-04-04T08:11:14.182Z"
   },
   {
    "duration": 294,
    "start_time": "2025-04-04T08:11:14.451Z"
   },
   {
    "duration": 643,
    "start_time": "2025-04-04T08:11:14.747Z"
   },
   {
    "duration": 24,
    "start_time": "2025-04-04T08:11:15.393Z"
   },
   {
    "duration": 599,
    "start_time": "2025-04-04T08:11:15.419Z"
   },
   {
    "duration": 40,
    "start_time": "2025-04-04T08:11:16.020Z"
   },
   {
    "duration": 208,
    "start_time": "2025-04-04T08:11:16.062Z"
   },
   {
    "duration": 192,
    "start_time": "2025-04-04T08:11:16.273Z"
   },
   {
    "duration": 669,
    "start_time": "2025-04-04T08:11:16.467Z"
   },
   {
    "duration": 480,
    "start_time": "2025-04-04T08:11:17.139Z"
   },
   {
    "duration": 8,
    "start_time": "2025-04-04T08:11:17.621Z"
   },
   {
    "duration": 150,
    "start_time": "2025-04-04T08:11:17.630Z"
   },
   {
    "duration": 13,
    "start_time": "2025-04-04T08:11:17.781Z"
   },
   {
    "duration": 10,
    "start_time": "2025-04-04T08:11:17.797Z"
   },
   {
    "duration": 150,
    "start_time": "2025-04-04T08:11:17.810Z"
   },
   {
    "duration": 42,
    "start_time": "2025-04-04T08:11:17.963Z"
   },
   {
    "duration": 51,
    "start_time": "2025-04-04T08:11:18.008Z"
   },
   {
    "duration": 28,
    "start_time": "2025-04-04T08:11:18.062Z"
   },
   {
    "duration": 239,
    "start_time": "2025-04-04T08:11:18.093Z"
   },
   {
    "duration": 122,
    "start_time": "2025-04-04T08:11:18.334Z"
   },
   {
    "duration": 0,
    "start_time": "2025-04-04T08:11:18.458Z"
   },
   {
    "duration": 0,
    "start_time": "2025-04-04T08:11:18.460Z"
   },
   {
    "duration": 0,
    "start_time": "2025-04-04T08:11:18.462Z"
   },
   {
    "duration": 476,
    "start_time": "2025-04-04T08:13:31.487Z"
   },
   {
    "duration": 1876,
    "start_time": "2025-04-04T08:13:31.965Z"
   },
   {
    "duration": 18,
    "start_time": "2025-04-04T08:13:33.843Z"
   },
   {
    "duration": 646,
    "start_time": "2025-04-04T08:13:33.863Z"
   },
   {
    "duration": 4,
    "start_time": "2025-04-04T08:13:34.510Z"
   },
   {
    "duration": 55,
    "start_time": "2025-04-04T08:13:34.516Z"
   },
   {
    "duration": 249,
    "start_time": "2025-04-04T08:13:34.573Z"
   },
   {
    "duration": 279,
    "start_time": "2025-04-04T08:13:34.824Z"
   },
   {
    "duration": 642,
    "start_time": "2025-04-04T08:13:35.105Z"
   },
   {
    "duration": 15,
    "start_time": "2025-04-04T08:13:35.750Z"
   },
   {
    "duration": 594,
    "start_time": "2025-04-04T08:13:35.767Z"
   },
   {
    "duration": 52,
    "start_time": "2025-04-04T08:13:36.363Z"
   },
   {
    "duration": 193,
    "start_time": "2025-04-04T08:13:36.416Z"
   },
   {
    "duration": 170,
    "start_time": "2025-04-04T08:13:36.611Z"
   },
   {
    "duration": 694,
    "start_time": "2025-04-04T08:13:36.782Z"
   },
   {
    "duration": 484,
    "start_time": "2025-04-04T08:13:37.478Z"
   },
   {
    "duration": 8,
    "start_time": "2025-04-04T08:13:37.964Z"
   },
   {
    "duration": 103,
    "start_time": "2025-04-04T08:13:37.974Z"
   },
   {
    "duration": 11,
    "start_time": "2025-04-04T08:13:38.079Z"
   },
   {
    "duration": 6,
    "start_time": "2025-04-04T08:13:38.092Z"
   },
   {
    "duration": 112,
    "start_time": "2025-04-04T08:13:38.100Z"
   },
   {
    "duration": 10,
    "start_time": "2025-04-04T08:13:38.216Z"
   },
   {
    "duration": 25,
    "start_time": "2025-04-04T08:13:38.229Z"
   },
   {
    "duration": 45,
    "start_time": "2025-04-04T08:13:38.257Z"
   },
   {
    "duration": 278,
    "start_time": "2025-04-04T08:13:38.304Z"
   },
   {
    "duration": 6,
    "start_time": "2025-04-04T08:17:17.960Z"
   },
   {
    "duration": 12,
    "start_time": "2025-04-04T08:17:28.417Z"
   },
   {
    "duration": 109,
    "start_time": "2025-04-04T08:18:42.336Z"
   },
   {
    "duration": 479,
    "start_time": "2025-04-04T08:19:06.696Z"
   },
   {
    "duration": 2100,
    "start_time": "2025-04-04T08:19:07.177Z"
   },
   {
    "duration": 31,
    "start_time": "2025-04-04T08:19:09.279Z"
   },
   {
    "duration": 654,
    "start_time": "2025-04-04T08:19:09.313Z"
   },
   {
    "duration": 4,
    "start_time": "2025-04-04T08:19:09.969Z"
   },
   {
    "duration": 138,
    "start_time": "2025-04-04T08:19:09.975Z"
   },
   {
    "duration": 250,
    "start_time": "2025-04-04T08:19:10.114Z"
   },
   {
    "duration": 263,
    "start_time": "2025-04-04T08:19:10.366Z"
   },
   {
    "duration": 700,
    "start_time": "2025-04-04T08:19:10.631Z"
   },
   {
    "duration": 16,
    "start_time": "2025-04-04T08:19:11.333Z"
   },
   {
    "duration": 570,
    "start_time": "2025-04-04T08:19:11.350Z"
   },
   {
    "duration": 39,
    "start_time": "2025-04-04T08:19:11.921Z"
   },
   {
    "duration": 198,
    "start_time": "2025-04-04T08:19:11.962Z"
   },
   {
    "duration": 224,
    "start_time": "2025-04-04T08:19:12.162Z"
   },
   {
    "duration": 713,
    "start_time": "2025-04-04T08:19:12.387Z"
   },
   {
    "duration": 448,
    "start_time": "2025-04-04T08:19:13.102Z"
   },
   {
    "duration": 8,
    "start_time": "2025-04-04T08:19:13.552Z"
   },
   {
    "duration": 57,
    "start_time": "2025-04-04T08:19:13.561Z"
   },
   {
    "duration": 12,
    "start_time": "2025-04-04T08:19:13.620Z"
   },
   {
    "duration": 6,
    "start_time": "2025-04-04T08:19:13.634Z"
   },
   {
    "duration": 131,
    "start_time": "2025-04-04T08:19:13.642Z"
   },
   {
    "duration": 9,
    "start_time": "2025-04-04T08:19:13.774Z"
   },
   {
    "duration": 32,
    "start_time": "2025-04-04T08:19:13.784Z"
   },
   {
    "duration": 20,
    "start_time": "2025-04-04T08:19:13.817Z"
   },
   {
    "duration": 241,
    "start_time": "2025-04-04T08:19:13.839Z"
   },
   {
    "duration": 118,
    "start_time": "2025-04-04T08:19:14.082Z"
   },
   {
    "duration": 12,
    "start_time": "2025-04-04T08:19:37.197Z"
   },
   {
    "duration": 19,
    "start_time": "2025-04-04T08:22:18.272Z"
   },
   {
    "duration": 18,
    "start_time": "2025-04-04T08:23:16.602Z"
   },
   {
    "duration": 296,
    "start_time": "2025-04-04T08:25:29.592Z"
   },
   {
    "duration": 16,
    "start_time": "2025-04-04T08:26:00.544Z"
   },
   {
    "duration": 414,
    "start_time": "2025-04-04T08:26:08.632Z"
   },
   {
    "duration": 3281,
    "start_time": "2025-04-04T08:26:09.048Z"
   },
   {
    "duration": 18,
    "start_time": "2025-04-04T08:26:12.331Z"
   },
   {
    "duration": 712,
    "start_time": "2025-04-04T08:26:12.351Z"
   },
   {
    "duration": 4,
    "start_time": "2025-04-04T08:26:13.065Z"
   },
   {
    "duration": 54,
    "start_time": "2025-04-04T08:26:13.070Z"
   },
   {
    "duration": 250,
    "start_time": "2025-04-04T08:26:13.125Z"
   },
   {
    "duration": 254,
    "start_time": "2025-04-04T08:26:13.377Z"
   },
   {
    "duration": 621,
    "start_time": "2025-04-04T08:26:13.633Z"
   },
   {
    "duration": 14,
    "start_time": "2025-04-04T08:26:14.257Z"
   },
   {
    "duration": 570,
    "start_time": "2025-04-04T08:26:14.272Z"
   },
   {
    "duration": 39,
    "start_time": "2025-04-04T08:26:14.844Z"
   },
   {
    "duration": 230,
    "start_time": "2025-04-04T08:26:14.885Z"
   },
   {
    "duration": 160,
    "start_time": "2025-04-04T08:26:15.117Z"
   },
   {
    "duration": 693,
    "start_time": "2025-04-04T08:26:15.279Z"
   },
   {
    "duration": 497,
    "start_time": "2025-04-04T08:26:15.975Z"
   },
   {
    "duration": 8,
    "start_time": "2025-04-04T08:26:16.474Z"
   },
   {
    "duration": 72,
    "start_time": "2025-04-04T08:26:16.483Z"
   },
   {
    "duration": 11,
    "start_time": "2025-04-04T08:26:16.557Z"
   },
   {
    "duration": 7,
    "start_time": "2025-04-04T08:26:16.570Z"
   },
   {
    "duration": 107,
    "start_time": "2025-04-04T08:26:16.578Z"
   },
   {
    "duration": 17,
    "start_time": "2025-04-04T08:26:16.687Z"
   },
   {
    "duration": 17,
    "start_time": "2025-04-04T08:26:16.706Z"
   },
   {
    "duration": 20,
    "start_time": "2025-04-04T08:26:16.725Z"
   },
   {
    "duration": 224,
    "start_time": "2025-04-04T08:26:16.747Z"
   },
   {
    "duration": 11,
    "start_time": "2025-04-04T08:26:16.972Z"
   },
   {
    "duration": 36,
    "start_time": "2025-04-04T08:26:16.985Z"
   },
   {
    "duration": 8,
    "start_time": "2025-04-04T08:26:45.332Z"
   },
   {
    "duration": 447,
    "start_time": "2025-04-04T08:27:06.796Z"
   },
   {
    "duration": 1840,
    "start_time": "2025-04-04T08:27:07.245Z"
   },
   {
    "duration": 31,
    "start_time": "2025-04-04T08:27:09.087Z"
   },
   {
    "duration": 663,
    "start_time": "2025-04-04T08:27:09.121Z"
   },
   {
    "duration": 5,
    "start_time": "2025-04-04T08:27:09.786Z"
   },
   {
    "duration": 46,
    "start_time": "2025-04-04T08:27:09.804Z"
   },
   {
    "duration": 264,
    "start_time": "2025-04-04T08:27:09.852Z"
   },
   {
    "duration": 254,
    "start_time": "2025-04-04T08:27:10.118Z"
   },
   {
    "duration": 649,
    "start_time": "2025-04-04T08:27:10.374Z"
   },
   {
    "duration": 16,
    "start_time": "2025-04-04T08:27:11.027Z"
   },
   {
    "duration": 564,
    "start_time": "2025-04-04T08:27:11.045Z"
   },
   {
    "duration": 45,
    "start_time": "2025-04-04T08:27:11.611Z"
   },
   {
    "duration": 206,
    "start_time": "2025-04-04T08:27:11.657Z"
   },
   {
    "duration": 163,
    "start_time": "2025-04-04T08:27:11.866Z"
   },
   {
    "duration": 689,
    "start_time": "2025-04-04T08:27:12.031Z"
   },
   {
    "duration": 483,
    "start_time": "2025-04-04T08:27:12.723Z"
   },
   {
    "duration": 8,
    "start_time": "2025-04-04T08:27:13.208Z"
   },
   {
    "duration": 79,
    "start_time": "2025-04-04T08:27:13.218Z"
   },
   {
    "duration": 12,
    "start_time": "2025-04-04T08:27:13.299Z"
   },
   {
    "duration": 24,
    "start_time": "2025-04-04T08:27:13.313Z"
   },
   {
    "duration": 106,
    "start_time": "2025-04-04T08:27:13.339Z"
   },
   {
    "duration": 7,
    "start_time": "2025-04-04T08:27:13.448Z"
   },
   {
    "duration": 22,
    "start_time": "2025-04-04T08:27:13.457Z"
   },
   {
    "duration": 34,
    "start_time": "2025-04-04T08:27:13.481Z"
   },
   {
    "duration": 232,
    "start_time": "2025-04-04T08:27:13.517Z"
   },
   {
    "duration": 11,
    "start_time": "2025-04-04T08:27:13.751Z"
   },
   {
    "duration": 37,
    "start_time": "2025-04-04T08:27:13.764Z"
   },
   {
    "duration": 10,
    "start_time": "2025-04-04T08:29:27.428Z"
   },
   {
    "duration": 435,
    "start_time": "2025-04-04T08:29:51.529Z"
   },
   {
    "duration": 1824,
    "start_time": "2025-04-04T08:29:51.966Z"
   },
   {
    "duration": 25,
    "start_time": "2025-04-04T08:29:53.792Z"
   },
   {
    "duration": 681,
    "start_time": "2025-04-04T08:29:53.820Z"
   },
   {
    "duration": 4,
    "start_time": "2025-04-04T08:29:54.503Z"
   },
   {
    "duration": 63,
    "start_time": "2025-04-04T08:29:54.509Z"
   },
   {
    "duration": 237,
    "start_time": "2025-04-04T08:29:54.573Z"
   },
   {
    "duration": 256,
    "start_time": "2025-04-04T08:29:54.812Z"
   },
   {
    "duration": 656,
    "start_time": "2025-04-04T08:29:55.070Z"
   },
   {
    "duration": 16,
    "start_time": "2025-04-04T08:29:55.730Z"
   },
   {
    "duration": 592,
    "start_time": "2025-04-04T08:29:55.749Z"
   },
   {
    "duration": 39,
    "start_time": "2025-04-04T08:29:56.343Z"
   },
   {
    "duration": 292,
    "start_time": "2025-04-04T08:29:56.383Z"
   },
   {
    "duration": 162,
    "start_time": "2025-04-04T08:29:56.677Z"
   },
   {
    "duration": 680,
    "start_time": "2025-04-04T08:29:56.840Z"
   },
   {
    "duration": 437,
    "start_time": "2025-04-04T08:29:57.522Z"
   },
   {
    "duration": 8,
    "start_time": "2025-04-04T08:29:57.961Z"
   },
   {
    "duration": 169,
    "start_time": "2025-04-04T08:29:57.971Z"
   },
   {
    "duration": 12,
    "start_time": "2025-04-04T08:29:58.142Z"
   },
   {
    "duration": 30,
    "start_time": "2025-04-04T08:29:58.156Z"
   },
   {
    "duration": 142,
    "start_time": "2025-04-04T08:29:58.188Z"
   },
   {
    "duration": 11,
    "start_time": "2025-04-04T08:29:58.333Z"
   },
   {
    "duration": 147,
    "start_time": "2025-04-04T08:29:58.346Z"
   },
   {
    "duration": 30,
    "start_time": "2025-04-04T08:29:58.495Z"
   },
   {
    "duration": 223,
    "start_time": "2025-04-04T08:29:58.527Z"
   },
   {
    "duration": 11,
    "start_time": "2025-04-04T08:29:58.753Z"
   },
   {
    "duration": 16,
    "start_time": "2025-04-04T08:29:58.766Z"
   },
   {
    "duration": 137,
    "start_time": "2025-04-04T08:29:58.804Z"
   },
   {
    "duration": 11,
    "start_time": "2025-04-04T08:30:48.687Z"
   },
   {
    "duration": 399,
    "start_time": "2025-04-04T08:31:20.653Z"
   },
   {
    "duration": 2049,
    "start_time": "2025-04-04T08:31:21.055Z"
   },
   {
    "duration": 19,
    "start_time": "2025-04-04T08:31:23.106Z"
   },
   {
    "duration": 647,
    "start_time": "2025-04-04T08:31:23.127Z"
   },
   {
    "duration": 4,
    "start_time": "2025-04-04T08:31:23.776Z"
   },
   {
    "duration": 56,
    "start_time": "2025-04-04T08:31:23.782Z"
   },
   {
    "duration": 248,
    "start_time": "2025-04-04T08:31:23.840Z"
   },
   {
    "duration": 261,
    "start_time": "2025-04-04T08:31:24.089Z"
   },
   {
    "duration": 623,
    "start_time": "2025-04-04T08:31:24.352Z"
   },
   {
    "duration": 15,
    "start_time": "2025-04-04T08:31:24.977Z"
   },
   {
    "duration": 559,
    "start_time": "2025-04-04T08:31:25.005Z"
   },
   {
    "duration": 53,
    "start_time": "2025-04-04T08:31:25.566Z"
   },
   {
    "duration": 188,
    "start_time": "2025-04-04T08:31:25.621Z"
   },
   {
    "duration": 167,
    "start_time": "2025-04-04T08:31:25.811Z"
   },
   {
    "duration": 676,
    "start_time": "2025-04-04T08:31:25.980Z"
   },
   {
    "duration": 441,
    "start_time": "2025-04-04T08:31:26.659Z"
   },
   {
    "duration": 10,
    "start_time": "2025-04-04T08:31:27.104Z"
   },
   {
    "duration": 73,
    "start_time": "2025-04-04T08:31:27.116Z"
   },
   {
    "duration": 13,
    "start_time": "2025-04-04T08:31:27.191Z"
   },
   {
    "duration": 9,
    "start_time": "2025-04-04T08:31:27.206Z"
   },
   {
    "duration": 112,
    "start_time": "2025-04-04T08:31:27.217Z"
   },
   {
    "duration": 8,
    "start_time": "2025-04-04T08:31:27.330Z"
   },
   {
    "duration": 21,
    "start_time": "2025-04-04T08:31:27.340Z"
   },
   {
    "duration": 18,
    "start_time": "2025-04-04T08:31:27.363Z"
   },
   {
    "duration": 227,
    "start_time": "2025-04-04T08:31:27.405Z"
   },
   {
    "duration": 14,
    "start_time": "2025-04-04T08:31:27.634Z"
   },
   {
    "duration": 154,
    "start_time": "2025-04-04T08:31:27.650Z"
   },
   {
    "duration": 367,
    "start_time": "2025-04-04T08:35:41.611Z"
   },
   {
    "duration": 444,
    "start_time": "2025-04-04T08:37:06.014Z"
   },
   {
    "duration": 1763,
    "start_time": "2025-04-04T08:37:06.461Z"
   },
   {
    "duration": 28,
    "start_time": "2025-04-04T08:37:08.227Z"
   },
   {
    "duration": 693,
    "start_time": "2025-04-04T08:37:08.258Z"
   },
   {
    "duration": 4,
    "start_time": "2025-04-04T08:37:08.953Z"
   },
   {
    "duration": 84,
    "start_time": "2025-04-04T08:37:08.959Z"
   },
   {
    "duration": 263,
    "start_time": "2025-04-04T08:37:09.045Z"
   },
   {
    "duration": 257,
    "start_time": "2025-04-04T08:37:09.310Z"
   },
   {
    "duration": 653,
    "start_time": "2025-04-04T08:37:09.569Z"
   },
   {
    "duration": 16,
    "start_time": "2025-04-04T08:37:10.224Z"
   },
   {
    "duration": 638,
    "start_time": "2025-04-04T08:37:10.241Z"
   },
   {
    "duration": 48,
    "start_time": "2025-04-04T08:37:10.881Z"
   },
   {
    "duration": 213,
    "start_time": "2025-04-04T08:37:10.931Z"
   },
   {
    "duration": 167,
    "start_time": "2025-04-04T08:37:11.146Z"
   },
   {
    "duration": 693,
    "start_time": "2025-04-04T08:37:11.315Z"
   },
   {
    "duration": 467,
    "start_time": "2025-04-04T08:37:12.011Z"
   },
   {
    "duration": 9,
    "start_time": "2025-04-04T08:37:12.480Z"
   },
   {
    "duration": 115,
    "start_time": "2025-04-04T08:37:12.491Z"
   },
   {
    "duration": 13,
    "start_time": "2025-04-04T08:37:12.608Z"
   },
   {
    "duration": 8,
    "start_time": "2025-04-04T08:37:12.623Z"
   },
   {
    "duration": 136,
    "start_time": "2025-04-04T08:37:12.633Z"
   },
   {
    "duration": 9,
    "start_time": "2025-04-04T08:37:12.771Z"
   },
   {
    "duration": 37,
    "start_time": "2025-04-04T08:37:12.781Z"
   },
   {
    "duration": 23,
    "start_time": "2025-04-04T08:37:12.820Z"
   },
   {
    "duration": 220,
    "start_time": "2025-04-04T08:37:12.845Z"
   },
   {
    "duration": 3,
    "start_time": "2025-04-04T08:37:13.067Z"
   },
   {
    "duration": 158,
    "start_time": "2025-04-04T08:37:13.071Z"
   },
   {
    "duration": 419,
    "start_time": "2025-04-04T08:37:13.233Z"
   },
   {
    "duration": 10,
    "start_time": "2025-04-04T08:37:52.785Z"
   },
   {
    "duration": 413,
    "start_time": "2025-04-04T08:38:15.853Z"
   },
   {
    "duration": 1801,
    "start_time": "2025-04-04T08:38:16.268Z"
   },
   {
    "duration": 32,
    "start_time": "2025-04-04T08:38:18.073Z"
   },
   {
    "duration": 704,
    "start_time": "2025-04-04T08:38:18.107Z"
   },
   {
    "duration": 4,
    "start_time": "2025-04-04T08:38:18.813Z"
   },
   {
    "duration": 51,
    "start_time": "2025-04-04T08:38:18.819Z"
   },
   {
    "duration": 262,
    "start_time": "2025-04-04T08:38:18.872Z"
   },
   {
    "duration": 265,
    "start_time": "2025-04-04T08:38:19.136Z"
   },
   {
    "duration": 644,
    "start_time": "2025-04-04T08:38:19.404Z"
   },
   {
    "duration": 16,
    "start_time": "2025-04-04T08:38:20.050Z"
   },
   {
    "duration": 657,
    "start_time": "2025-04-04T08:38:20.068Z"
   },
   {
    "duration": 42,
    "start_time": "2025-04-04T08:38:20.728Z"
   },
   {
    "duration": 222,
    "start_time": "2025-04-04T08:38:20.772Z"
   },
   {
    "duration": 166,
    "start_time": "2025-04-04T08:38:21.003Z"
   },
   {
    "duration": 721,
    "start_time": "2025-04-04T08:38:21.171Z"
   },
   {
    "duration": 483,
    "start_time": "2025-04-04T08:38:21.894Z"
   },
   {
    "duration": 9,
    "start_time": "2025-04-04T08:38:22.379Z"
   },
   {
    "duration": 161,
    "start_time": "2025-04-04T08:38:22.389Z"
   },
   {
    "duration": 12,
    "start_time": "2025-04-04T08:38:22.552Z"
   },
   {
    "duration": 6,
    "start_time": "2025-04-04T08:38:22.566Z"
   },
   {
    "duration": 113,
    "start_time": "2025-04-04T08:38:22.574Z"
   },
   {
    "duration": 18,
    "start_time": "2025-04-04T08:38:22.689Z"
   },
   {
    "duration": 16,
    "start_time": "2025-04-04T08:38:22.709Z"
   },
   {
    "duration": 28,
    "start_time": "2025-04-04T08:38:22.727Z"
   },
   {
    "duration": 226,
    "start_time": "2025-04-04T08:38:22.757Z"
   },
   {
    "duration": 3,
    "start_time": "2025-04-04T08:38:22.986Z"
   },
   {
    "duration": 63,
    "start_time": "2025-04-04T08:38:23.003Z"
   },
   {
    "duration": 148,
    "start_time": "2025-04-04T08:38:23.068Z"
   },
   {
    "duration": 386,
    "start_time": "2025-04-04T08:38:23.219Z"
   },
   {
    "duration": 181,
    "start_time": "2025-04-04T08:40:54.565Z"
   },
   {
    "duration": 183,
    "start_time": "2025-04-04T08:43:34.610Z"
   },
   {
    "duration": 180,
    "start_time": "2025-04-04T08:44:10.765Z"
   },
   {
    "duration": 20,
    "start_time": "2025-04-04T08:46:04.494Z"
   },
   {
    "duration": 182,
    "start_time": "2025-04-04T08:47:08.907Z"
   },
   {
    "duration": 235,
    "start_time": "2025-04-04T09:00:18.639Z"
   },
   {
    "duration": 10,
    "start_time": "2025-04-04T09:16:17.287Z"
   },
   {
    "duration": 6,
    "start_time": "2025-04-04T09:40:33.517Z"
   },
   {
    "duration": 86,
    "start_time": "2025-04-04T09:46:47.412Z"
   },
   {
    "duration": 532,
    "start_time": "2025-04-04T10:22:17.287Z"
   },
   {
    "duration": 578,
    "start_time": "2025-04-04T11:47:40.546Z"
   },
   {
    "duration": 45,
    "start_time": "2025-04-04T11:52:03.384Z"
   },
   {
    "duration": 65,
    "start_time": "2025-04-04T11:52:12.640Z"
   },
   {
    "duration": 49,
    "start_time": "2025-04-04T11:56:42.380Z"
   },
   {
    "duration": 46,
    "start_time": "2025-04-04T11:57:19.764Z"
   },
   {
    "duration": 324,
    "start_time": "2025-04-04T12:39:08.898Z"
   },
   {
    "duration": 327,
    "start_time": "2025-04-04T12:40:10.590Z"
   },
   {
    "duration": 9,
    "start_time": "2025-04-04T13:02:53.093Z"
   },
   {
    "duration": 45,
    "start_time": "2025-04-04T13:19:15.804Z"
   },
   {
    "duration": 38,
    "start_time": "2025-04-04T13:22:09.257Z"
   },
   {
    "duration": 37,
    "start_time": "2025-04-04T13:22:35.692Z"
   },
   {
    "duration": 55,
    "start_time": "2025-04-04T13:47:17.669Z"
   },
   {
    "duration": 9,
    "start_time": "2025-04-04T13:52:53.383Z"
   },
   {
    "duration": 46,
    "start_time": "2025-04-04T14:27:17.267Z"
   },
   {
    "duration": 61,
    "start_time": "2025-04-04T15:07:17.391Z"
   },
   {
    "duration": 39,
    "start_time": "2025-04-04T15:07:31.797Z"
   },
   {
    "duration": 36,
    "start_time": "2025-04-04T15:08:28.443Z"
   },
   {
    "duration": 36,
    "start_time": "2025-04-04T15:08:37.997Z"
   },
   {
    "duration": 466,
    "start_time": "2025-04-04T15:11:33.605Z"
   },
   {
    "duration": 2269,
    "start_time": "2025-04-04T15:11:34.073Z"
   },
   {
    "duration": 21,
    "start_time": "2025-04-04T15:11:36.344Z"
   },
   {
    "duration": 737,
    "start_time": "2025-04-04T15:11:36.368Z"
   },
   {
    "duration": 5,
    "start_time": "2025-04-04T15:11:37.107Z"
   },
   {
    "duration": 47,
    "start_time": "2025-04-04T15:11:37.114Z"
   },
   {
    "duration": 250,
    "start_time": "2025-04-04T15:11:37.163Z"
   },
   {
    "duration": 271,
    "start_time": "2025-04-04T15:11:37.415Z"
   },
   {
    "duration": 654,
    "start_time": "2025-04-04T15:11:37.688Z"
   },
   {
    "duration": 11,
    "start_time": "2025-04-04T15:11:38.345Z"
   },
   {
    "duration": 608,
    "start_time": "2025-04-04T15:11:38.358Z"
   },
   {
    "duration": 51,
    "start_time": "2025-04-04T15:11:38.968Z"
   },
   {
    "duration": 183,
    "start_time": "2025-04-04T15:11:39.021Z"
   },
   {
    "duration": 164,
    "start_time": "2025-04-04T15:11:39.206Z"
   },
   {
    "duration": 680,
    "start_time": "2025-04-04T15:11:39.372Z"
   },
   {
    "duration": 404,
    "start_time": "2025-04-04T15:11:40.054Z"
   },
   {
    "duration": 7,
    "start_time": "2025-04-04T15:11:40.460Z"
   },
   {
    "duration": 64,
    "start_time": "2025-04-04T15:11:40.469Z"
   },
   {
    "duration": 11,
    "start_time": "2025-04-04T15:11:40.535Z"
   },
   {
    "duration": 41,
    "start_time": "2025-04-04T15:11:40.548Z"
   },
   {
    "duration": 125,
    "start_time": "2025-04-04T15:11:40.591Z"
   },
   {
    "duration": 8,
    "start_time": "2025-04-04T15:11:40.718Z"
   },
   {
    "duration": 38,
    "start_time": "2025-04-04T15:11:40.728Z"
   },
   {
    "duration": 200,
    "start_time": "2025-04-04T15:11:40.768Z"
   },
   {
    "duration": 19,
    "start_time": "2025-04-04T15:11:40.969Z"
   },
   {
    "duration": 205,
    "start_time": "2025-04-04T15:11:40.989Z"
   },
   {
    "duration": 569,
    "start_time": "2025-04-04T15:11:41.196Z"
   },
   {
    "duration": 62,
    "start_time": "2025-04-04T15:11:41.770Z"
   },
   {
    "duration": 484,
    "start_time": "2025-04-04T15:11:41.833Z"
   },
   {
    "duration": 8,
    "start_time": "2025-04-04T15:11:42.319Z"
   },
   {
    "duration": 113,
    "start_time": "2025-04-04T15:11:42.329Z"
   },
   {
    "duration": 60,
    "start_time": "2025-04-04T15:11:42.444Z"
   },
   {
    "duration": 9,
    "start_time": "2025-04-04T15:11:42.506Z"
   },
   {
    "duration": 5,
    "start_time": "2025-04-04T15:23:55.650Z"
   }
  ],
  "colab": {
   "provenance": []
  },
  "kernelspec": {
   "display_name": "Python 3 (ipykernel)",
   "language": "python",
   "name": "python3"
  },
  "language_info": {
   "codemirror_mode": {
    "name": "ipython",
    "version": 3
   },
   "file_extension": ".py",
   "mimetype": "text/x-python",
   "name": "python",
   "nbconvert_exporter": "python",
   "pygments_lexer": "ipython3",
   "version": "3.9.7"
  },
  "toc": {
   "base_numbering": 1,
   "nav_menu": {},
   "number_sections": true,
   "sideBar": true,
   "skip_h1_title": true,
   "title_cell": "Table of Contents",
   "title_sidebar": "Contents",
   "toc_cell": false,
   "toc_position": {},
   "toc_section_display": true,
   "toc_window_display": false
  }
 },
 "nbformat": 4,
 "nbformat_minor": 1
}
