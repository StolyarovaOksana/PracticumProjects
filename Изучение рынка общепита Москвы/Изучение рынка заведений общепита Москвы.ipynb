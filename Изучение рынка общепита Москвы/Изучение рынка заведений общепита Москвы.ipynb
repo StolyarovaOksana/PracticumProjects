{
 "cells": [
  {
   "cell_type": "markdown",
   "id": "e06910dd",
   "metadata": {
    "id": "e06910dd"
   },
   "source": [
    "# Изучение рынка заведений общественного питания Москвы\n",
    "\n",
    "- Автор: Столярова Оксана\n",
    "- Дата: 25.01.2025"
   ]
  },
  {
   "cell_type": "markdown",
   "id": "4149134c",
   "metadata": {
    "id": "4149134c"
   },
   "source": [
    "### Цели и задачи проекта\n",
    "\n",
    "**Цель:** провести исследовательский анализ рынка общественного питания Москвы с опредением наиболее перспективного формата заведения для инвестирования.\n",
    "\n",
    "**Задачи:**\n",
    "1. Загрузить данные и познакомиться с их содеражанием.\n",
    "2. Подготовить данные к исследовательскому анализу.\n",
    "3. Провести исследовательский анализ исходных данных и ответьте на вопросы:\n",
    "- изучить представленность категорий заведений общественного питания по каждой категории,\n",
    "- определить распределение количества заведений по административным районам Москвы  с акцентом на Центральном административном округе Москвы, \n",
    "- изучить соотношение сетевых и несетевых заведений в целом и в разрезе категорий,\n",
    "- исследовать количество посадочных мест в заведениях,\n",
    "- изучить рейтинг заведений,\n",
    "- определить какие параметры больше всего влияют на  рейтинги заведений,\n",
    "- выделить топ-15 популярных сетей в Москве,\n",
    "- изучить вариацию среднего чека заведений в зависимости от района Москвы. \n",
    "4. Сформулировать выводы и рекомендации по проведённому анализу."
   ]
  },
  {
   "cell_type": "markdown",
   "id": "728986ea",
   "metadata": {
    "id": "728986ea"
   },
   "source": [
    "### Описание данных\n",
    "\n",
    "Для анализа доступны данные датасетов:\n",
    "- rest_info.csv содержит информацию о заведениях общественного питания;\n",
    "- rest_price.csv содержит информацию о среднем чеке в заведениях общественного питания."
   ]
  },
  {
   "cell_type": "markdown",
   "id": "4fecaf95",
   "metadata": {
    "id": "4fecaf95"
   },
   "source": [
    "<a id=intro></a>\n",
    "### Содержимое проекта\n",
    "\n",
    "1. [Загрузка данных и знакомство с ними](#1)\n",
    "2. [Предобработка данных](#2)\n",
    "3. [Исследовательский анализ данных](#3)\n",
    "4. [Итоговый вывод и рекомендации](#4)\n",
    "---"
   ]
  },
  {
   "cell_type": "markdown",
   "id": "6f7d21d6",
   "metadata": {
    "id": "6f7d21d6"
   },
   "source": [
    "## 1. Загрузка данных и знакомство с ними<a id='1'></a>"
   ]
  },
  {
   "cell_type": "markdown",
   "id": "19870c66",
   "metadata": {
    "id": "05faf34b"
   },
   "source": [
    "Загрузим необходимые библиотеки и датасеты `rest_info` и `rest_price`. Будем использовать pandas и библиотеки визуализации данных matplotlib и seaborn, а также phik для построения матрицы корреляции. Данные датасетов сохраним в двух переменных: `rest_info_df` и `rest_price_df`.\n"
   ]
  },
  {
   "cell_type": "code",
   "execution_count": 1,
   "id": "4698583c",
   "metadata": {},
   "outputs": [
    {
     "name": "stdout",
     "output_type": "stream",
     "text": [
      "Requirement already satisfied: phik in c:\\programdata\\anaconda3\\lib\\site-packages (0.12.4)\n",
      "Requirement already satisfied: matplotlib>=2.2.3 in c:\\programdata\\anaconda3\\lib\\site-packages (from phik) (3.4.3)\n",
      "Requirement already satisfied: pandas>=0.25.1 in c:\\programdata\\anaconda3\\lib\\site-packages (from phik) (1.3.4)\n",
      "Requirement already satisfied: joblib>=0.14.1 in c:\\programdata\\anaconda3\\lib\\site-packages (from phik) (1.1.0)\n",
      "Requirement already satisfied: scipy>=1.5.2 in c:\\programdata\\anaconda3\\lib\\site-packages (from phik) (1.7.1)\n",
      "Requirement already satisfied: numpy>=1.18.0 in c:\\programdata\\anaconda3\\lib\\site-packages (from phik) (1.20.3)\n",
      "Requirement already satisfied: pillow>=6.2.0 in c:\\programdata\\anaconda3\\lib\\site-packages (from matplotlib>=2.2.3->phik) (8.4.0)\n",
      "Requirement already satisfied: pyparsing>=2.2.1 in c:\\programdata\\anaconda3\\lib\\site-packages (from matplotlib>=2.2.3->phik) (3.0.4)\n",
      "Requirement already satisfied: kiwisolver>=1.0.1 in c:\\programdata\\anaconda3\\lib\\site-packages (from matplotlib>=2.2.3->phik) (1.3.1)\n",
      "Requirement already satisfied: cycler>=0.10 in c:\\programdata\\anaconda3\\lib\\site-packages (from matplotlib>=2.2.3->phik) (0.10.0)\n",
      "Requirement already satisfied: python-dateutil>=2.7 in c:\\programdata\\anaconda3\\lib\\site-packages (from matplotlib>=2.2.3->phik) (2.8.2)\n",
      "Requirement already satisfied: six in c:\\programdata\\anaconda3\\lib\\site-packages (from cycler>=0.10->matplotlib>=2.2.3->phik) (1.16.0)\n",
      "Requirement already satisfied: pytz>=2017.3 in c:\\programdata\\anaconda3\\lib\\site-packages (from pandas>=0.25.1->phik) (2021.3)\n"
     ]
    }
   ],
   "source": [
    "!pip install phik"
   ]
  },
  {
   "cell_type": "code",
   "execution_count": 2,
   "id": "ce87c1db",
   "metadata": {
    "id": "ce87c1db"
   },
   "outputs": [],
   "source": [
    "# Импортируем библиотеки\n",
    "import pandas as pd\n",
    "import matplotlib.pyplot as plt\n",
    "import seaborn as sns\n",
    "from phik import phik_matrix"
   ]
  },
  {
   "cell_type": "code",
   "execution_count": 3,
   "id": "90fee493",
   "metadata": {
    "id": "90fee493"
   },
   "outputs": [],
   "source": [
    "# Выгружаем данные в переменные rest_info_df и rest_price_df\n",
    "rest_info_df = pd.read_csv('/datasets/rest_info.csv')\n",
    "rest_price_df = pd.read_csv('/datasets/rest_price.csv')"
   ]
  },
  {
   "cell_type": "markdown",
   "id": "8c80cdc3",
   "metadata": {
    "id": "f68a7419"
   },
   "source": [
    "Сначала познакомимся с данными датасета `rest_info.csv` — выведем первые строки методом `head()`, а информацию о датафрейме методом `info()`:"
   ]
  },
  {
   "cell_type": "code",
   "execution_count": 4,
   "id": "dd415c80",
   "metadata": {
    "id": "dd415c80"
   },
   "outputs": [
    {
     "data": {
      "text/html": [
       "<div>\n",
       "<style scoped>\n",
       "    .dataframe tbody tr th:only-of-type {\n",
       "        vertical-align: middle;\n",
       "    }\n",
       "\n",
       "    .dataframe tbody tr th {\n",
       "        vertical-align: top;\n",
       "    }\n",
       "\n",
       "    .dataframe thead th {\n",
       "        text-align: right;\n",
       "    }\n",
       "</style>\n",
       "<table border=\"1\" class=\"dataframe\">\n",
       "  <thead>\n",
       "    <tr style=\"text-align: right;\">\n",
       "      <th></th>\n",
       "      <th>id</th>\n",
       "      <th>name</th>\n",
       "      <th>category</th>\n",
       "      <th>address</th>\n",
       "      <th>district</th>\n",
       "      <th>hours</th>\n",
       "      <th>rating</th>\n",
       "      <th>chain</th>\n",
       "      <th>seats</th>\n",
       "    </tr>\n",
       "  </thead>\n",
       "  <tbody>\n",
       "    <tr>\n",
       "      <th>0</th>\n",
       "      <td>0c3e3439a8c64ea5bf6ecd6ca6ae19f0</td>\n",
       "      <td>WoWфли</td>\n",
       "      <td>кафе</td>\n",
       "      <td>Москва, улица Дыбенко, 7/1</td>\n",
       "      <td>Северный административный округ</td>\n",
       "      <td>ежедневно, 10:00–22:00</td>\n",
       "      <td>5.0</td>\n",
       "      <td>0</td>\n",
       "      <td>NaN</td>\n",
       "    </tr>\n",
       "    <tr>\n",
       "      <th>1</th>\n",
       "      <td>045780ada3474c57a2112e505d74b633</td>\n",
       "      <td>Четыре комнаты</td>\n",
       "      <td>ресторан</td>\n",
       "      <td>Москва, улица Дыбенко, 36, корп. 1</td>\n",
       "      <td>Северный административный округ</td>\n",
       "      <td>ежедневно, 10:00–22:00</td>\n",
       "      <td>4.5</td>\n",
       "      <td>0</td>\n",
       "      <td>4.0</td>\n",
       "    </tr>\n",
       "    <tr>\n",
       "      <th>2</th>\n",
       "      <td>1070b6b59144425896c65889347fcff6</td>\n",
       "      <td>Хазри</td>\n",
       "      <td>кафе</td>\n",
       "      <td>Москва, Клязьминская улица, 15</td>\n",
       "      <td>Северный административный округ</td>\n",
       "      <td>пн-чт 11:00–02:00; пт,сб 11:00–05:00; вс 11:00...</td>\n",
       "      <td>4.6</td>\n",
       "      <td>0</td>\n",
       "      <td>45.0</td>\n",
       "    </tr>\n",
       "    <tr>\n",
       "      <th>3</th>\n",
       "      <td>03ac7cd772104f65b58b349dc59f03ee</td>\n",
       "      <td>Dormouse Coffee Shop</td>\n",
       "      <td>кофейня</td>\n",
       "      <td>Москва, улица Маршала Федоренко, 12</td>\n",
       "      <td>Северный административный округ</td>\n",
       "      <td>ежедневно, 09:00–22:00</td>\n",
       "      <td>5.0</td>\n",
       "      <td>0</td>\n",
       "      <td>NaN</td>\n",
       "    </tr>\n",
       "    <tr>\n",
       "      <th>4</th>\n",
       "      <td>a163aada139c4c7f87b0b1c0b466a50f</td>\n",
       "      <td>Иль Марко</td>\n",
       "      <td>пиццерия</td>\n",
       "      <td>Москва, Правобережная улица, 1Б</td>\n",
       "      <td>Северный административный округ</td>\n",
       "      <td>ежедневно, 10:00–22:00</td>\n",
       "      <td>5.0</td>\n",
       "      <td>1</td>\n",
       "      <td>148.0</td>\n",
       "    </tr>\n",
       "  </tbody>\n",
       "</table>\n",
       "</div>"
      ],
      "text/plain": [
       "                                 id                  name  category  \\\n",
       "0  0c3e3439a8c64ea5bf6ecd6ca6ae19f0                WoWфли      кафе   \n",
       "1  045780ada3474c57a2112e505d74b633        Четыре комнаты  ресторан   \n",
       "2  1070b6b59144425896c65889347fcff6                 Хазри      кафе   \n",
       "3  03ac7cd772104f65b58b349dc59f03ee  Dormouse Coffee Shop   кофейня   \n",
       "4  a163aada139c4c7f87b0b1c0b466a50f             Иль Марко  пиццерия   \n",
       "\n",
       "                               address                         district  \\\n",
       "0           Москва, улица Дыбенко, 7/1  Северный административный округ   \n",
       "1   Москва, улица Дыбенко, 36, корп. 1  Северный административный округ   \n",
       "2       Москва, Клязьминская улица, 15  Северный административный округ   \n",
       "3  Москва, улица Маршала Федоренко, 12  Северный административный округ   \n",
       "4      Москва, Правобережная улица, 1Б  Северный административный округ   \n",
       "\n",
       "                                               hours  rating  chain  seats  \n",
       "0                             ежедневно, 10:00–22:00     5.0      0    NaN  \n",
       "1                             ежедневно, 10:00–22:00     4.5      0    4.0  \n",
       "2  пн-чт 11:00–02:00; пт,сб 11:00–05:00; вс 11:00...     4.6      0   45.0  \n",
       "3                             ежедневно, 09:00–22:00     5.0      0    NaN  \n",
       "4                             ежедневно, 10:00–22:00     5.0      1  148.0  "
      ]
     },
     "execution_count": 4,
     "metadata": {},
     "output_type": "execute_result"
    }
   ],
   "source": [
    "# Выводим первые строки датафрейма на экран\n",
    "rest_info_df.head()"
   ]
  },
  {
   "cell_type": "code",
   "execution_count": 5,
   "id": "3158ad37",
   "metadata": {
    "id": "3158ad37"
   },
   "outputs": [
    {
     "name": "stdout",
     "output_type": "stream",
     "text": [
      "<class 'pandas.core.frame.DataFrame'>\n",
      "RangeIndex: 8406 entries, 0 to 8405\n",
      "Data columns (total 9 columns):\n",
      " #   Column    Non-Null Count  Dtype  \n",
      "---  ------    --------------  -----  \n",
      " 0   id        8406 non-null   object \n",
      " 1   name      8406 non-null   object \n",
      " 2   category  8406 non-null   object \n",
      " 3   address   8406 non-null   object \n",
      " 4   district  8406 non-null   object \n",
      " 5   hours     7870 non-null   object \n",
      " 6   rating    8406 non-null   float64\n",
      " 7   chain     8406 non-null   int64  \n",
      " 8   seats     4795 non-null   float64\n",
      "dtypes: float64(2), int64(1), object(6)\n",
      "memory usage: 591.2+ KB\n"
     ]
    }
   ],
   "source": [
    "# Выводим информацию о датафрейме\n",
    "rest_info_df.info()"
   ]
  },
  {
   "cell_type": "markdown",
   "id": "acd27723",
   "metadata": {},
   "source": [
    "Датасет `rest_info.csv` содержит 9 столбцов и 8406 строк, в которых представлена информацияо заведениях общественного питания Москвы.\n",
    "\n",
    "После первичного анализа данных можно сделать следующие выводы:\n",
    "- Названия столбцов имеют корректный формат snake case.\n",
    "- Первые пять столбцов  `id`, `name`, `address`, `district`, `category`, `hours` имеют тип данных `object`. Столбец `chain` представлен типом `int64`, его размерность можно оптимизировать. Столбцы `rating` и `seats` представлены типом `float64`. Для 'rating' этот тип корректный, для 'seats' оптимальным будет целочисленный тип, но для преобразования сначала необходимо будет избавиться от пропусков.\n",
    "- Пропуски содержатся только в столбцах `hours` и `seats`, остальные столбцы необходимо будет проверить на значения-индикаторы, которые по сути тоже будут говорить об отсутствии данных.\n",
    "- Судя по первому знакомству с данными, значения в столбцах соответствуют своему описанию."
   ]
  },
  {
   "cell_type": "markdown",
   "id": "cfb3fa25",
   "metadata": {},
   "source": [
    "Теперь познакомимся с данными датасета `rest_price.csv` с помощью тех же методов:"
   ]
  },
  {
   "cell_type": "code",
   "execution_count": 6,
   "id": "e9abf480",
   "metadata": {},
   "outputs": [
    {
     "data": {
      "text/html": [
       "<div>\n",
       "<style scoped>\n",
       "    .dataframe tbody tr th:only-of-type {\n",
       "        vertical-align: middle;\n",
       "    }\n",
       "\n",
       "    .dataframe tbody tr th {\n",
       "        vertical-align: top;\n",
       "    }\n",
       "\n",
       "    .dataframe thead th {\n",
       "        text-align: right;\n",
       "    }\n",
       "</style>\n",
       "<table border=\"1\" class=\"dataframe\">\n",
       "  <thead>\n",
       "    <tr style=\"text-align: right;\">\n",
       "      <th></th>\n",
       "      <th>id</th>\n",
       "      <th>price</th>\n",
       "      <th>avg_bill</th>\n",
       "      <th>middle_avg_bill</th>\n",
       "      <th>middle_coffee_cup</th>\n",
       "    </tr>\n",
       "  </thead>\n",
       "  <tbody>\n",
       "    <tr>\n",
       "      <th>0</th>\n",
       "      <td>045780ada3474c57a2112e505d74b633</td>\n",
       "      <td>выше среднего</td>\n",
       "      <td>Средний счёт:1500–1600 ₽</td>\n",
       "      <td>1550.0</td>\n",
       "      <td>NaN</td>\n",
       "    </tr>\n",
       "    <tr>\n",
       "      <th>1</th>\n",
       "      <td>1070b6b59144425896c65889347fcff6</td>\n",
       "      <td>средние</td>\n",
       "      <td>Средний счёт:от 1000 ₽</td>\n",
       "      <td>1000.0</td>\n",
       "      <td>NaN</td>\n",
       "    </tr>\n",
       "    <tr>\n",
       "      <th>2</th>\n",
       "      <td>03ac7cd772104f65b58b349dc59f03ee</td>\n",
       "      <td>NaN</td>\n",
       "      <td>Цена чашки капучино:155–185 ₽</td>\n",
       "      <td>NaN</td>\n",
       "      <td>170.0</td>\n",
       "    </tr>\n",
       "    <tr>\n",
       "      <th>3</th>\n",
       "      <td>a163aada139c4c7f87b0b1c0b466a50f</td>\n",
       "      <td>средние</td>\n",
       "      <td>Средний счёт:400–600 ₽</td>\n",
       "      <td>500.0</td>\n",
       "      <td>NaN</td>\n",
       "    </tr>\n",
       "    <tr>\n",
       "      <th>4</th>\n",
       "      <td>8a343546b24e4a499ad96eb7d0797a8a</td>\n",
       "      <td>средние</td>\n",
       "      <td>NaN</td>\n",
       "      <td>NaN</td>\n",
       "      <td>NaN</td>\n",
       "    </tr>\n",
       "  </tbody>\n",
       "</table>\n",
       "</div>"
      ],
      "text/plain": [
       "                                 id          price  \\\n",
       "0  045780ada3474c57a2112e505d74b633  выше среднего   \n",
       "1  1070b6b59144425896c65889347fcff6        средние   \n",
       "2  03ac7cd772104f65b58b349dc59f03ee            NaN   \n",
       "3  a163aada139c4c7f87b0b1c0b466a50f        средние   \n",
       "4  8a343546b24e4a499ad96eb7d0797a8a        средние   \n",
       "\n",
       "                        avg_bill  middle_avg_bill  middle_coffee_cup  \n",
       "0       Средний счёт:1500–1600 ₽           1550.0                NaN  \n",
       "1         Средний счёт:от 1000 ₽           1000.0                NaN  \n",
       "2  Цена чашки капучино:155–185 ₽              NaN              170.0  \n",
       "3         Средний счёт:400–600 ₽            500.0                NaN  \n",
       "4                            NaN              NaN                NaN  "
      ]
     },
     "execution_count": 6,
     "metadata": {},
     "output_type": "execute_result"
    }
   ],
   "source": [
    "# Выводим первые строки датафрейма на экран\n",
    "rest_price_df.head()"
   ]
  },
  {
   "cell_type": "code",
   "execution_count": 7,
   "id": "5360780a",
   "metadata": {},
   "outputs": [
    {
     "name": "stdout",
     "output_type": "stream",
     "text": [
      "<class 'pandas.core.frame.DataFrame'>\n",
      "RangeIndex: 4058 entries, 0 to 4057\n",
      "Data columns (total 5 columns):\n",
      " #   Column             Non-Null Count  Dtype  \n",
      "---  ------             --------------  -----  \n",
      " 0   id                 4058 non-null   object \n",
      " 1   price              3315 non-null   object \n",
      " 2   avg_bill           3816 non-null   object \n",
      " 3   middle_avg_bill    3149 non-null   float64\n",
      " 4   middle_coffee_cup  535 non-null    float64\n",
      "dtypes: float64(2), object(3)\n",
      "memory usage: 158.6+ KB\n"
     ]
    }
   ],
   "source": [
    "# Выводим информацию о датафрейме\n",
    "rest_price_df.info()"
   ]
  },
  {
   "cell_type": "markdown",
   "id": "f8da6680",
   "metadata": {},
   "source": [
    "Датасет `rest_price.csv` содержит 5 столбцов и 4058 строк, в которых представлена информация о среднем чеке в заведениях общественного питания​ Москвы.\n",
    "\n",
    "После первичного анализа данных можно сделать следующие выводы:\n",
    "- Названия столбцов имеют корректный формат snake case.\n",
    "- Первые три столбца  'id', 'price', 'avg_bill'  имеют тип данных 'object'. Столбцы 'middle_avg_bill', 'middle_coffee_cup' представлены типом 'float64'. Типы данных корректны.\n",
    "- Пропуски содержатся во всех столбцах, кроме 'id'.\n",
    "- Судя по первому знакомству с данными, значения в столбцах соответствуют своему описанию."
   ]
  },
  {
   "cell_type": "markdown",
   "id": "2c614a62",
   "metadata": {
    "id": "2c614a62"
   },
   "source": [
    "---\n",
    "\n",
    "### Промежуточный вывод"
   ]
  },
  {
   "cell_type": "markdown",
   "id": "038815eb",
   "metadata": {
    "id": "3593b7d5"
   },
   "source": [
    "Первичное знакомство показывает, что данные соответствуют описанию и выглядят корректными, названия столбцов в нужном формате. В данных присутствуют пропущенные значения, которые необходимо будет обработать. Кроме того, во втором датасете количество строк значительно меньше, а это значит, что при объединении таблиц, появятся дополнительные пропуски.\n",
    "Типы данных в части столбцов желательно оптимизировать."
   ]
  },
  {
   "cell_type": "markdown",
   "id": "8a8d1491",
   "metadata": {
    "id": "8a8d1491"
   },
   "source": [
    "### Подготовка единого датафрейма"
   ]
  },
  {
   "cell_type": "markdown",
   "id": "7e600eba",
   "metadata": {
    "id": "3408e303"
   },
   "source": [
    "Для достижения цели проекта необходимы данные из двух датасетов, поэтому их  данные можно объединить в один. Так нам проще будет искать закономерности в данных и определять формат наиболее перспективного для открытия заведения. "
   ]
  },
  {
   "cell_type": "code",
   "execution_count": 8,
   "id": "5695950b",
   "metadata": {
    "id": "5695950b"
   },
   "outputs": [
    {
     "name": "stdout",
     "output_type": "stream",
     "text": [
      "<class 'pandas.core.frame.DataFrame'>\n",
      "Int64Index: 8406 entries, 0 to 8405\n",
      "Data columns (total 13 columns):\n",
      " #   Column             Non-Null Count  Dtype  \n",
      "---  ------             --------------  -----  \n",
      " 0   id                 8406 non-null   object \n",
      " 1   name               8406 non-null   object \n",
      " 2   category           8406 non-null   object \n",
      " 3   address            8406 non-null   object \n",
      " 4   district           8406 non-null   object \n",
      " 5   hours              7870 non-null   object \n",
      " 6   rating             8406 non-null   float64\n",
      " 7   chain              8406 non-null   int64  \n",
      " 8   seats              4795 non-null   float64\n",
      " 9   price              3315 non-null   object \n",
      " 10  avg_bill           3816 non-null   object \n",
      " 11  middle_avg_bill    3149 non-null   float64\n",
      " 12  middle_coffee_cup  535 non-null    float64\n",
      "dtypes: float64(4), int64(1), object(8)\n",
      "memory usage: 919.4+ KB\n"
     ]
    }
   ],
   "source": [
    "# Соединяем данные в единый датафрейм df\n",
    "df = rest_info_df.merge(rest_price_df, how='left', on='id')\n",
    "# Выводим информацию о датафрейме\n",
    "df.info()"
   ]
  },
  {
   "cell_type": "markdown",
   "id": "5638d430",
   "metadata": {},
   "source": [
    "Данные соединены, и информация обо всех заведениях сохранилась."
   ]
  },
  {
   "cell_type": "markdown",
   "id": "fd0f9c1d",
   "metadata": {
    "id": "6577c71c"
   },
   "source": [
    "[*К содержанию*](#intro) "
   ]
  },
  {
   "cell_type": "markdown",
   "id": "956e82e2",
   "metadata": {
    "id": "956e82e2"
   },
   "source": [
    "## 2. Предобработка данных<a id='2'></a>"
   ]
  },
  {
   "cell_type": "markdown",
   "id": "763f5911",
   "metadata": {
    "id": "67956690"
   },
   "source": [
    "Проведем оптимизацию типов данных. На предыдущем шаге, мы выяснили, что можно провести оптимизацию целочисленных данных в столбце 'chain'. Для оптимизации будем использовать метод pd.to_numeric с аргументом downcast='integer'."
   ]
  },
  {
   "cell_type": "code",
   "execution_count": 9,
   "id": "b5f2a94d",
   "metadata": {
    "id": "b5f2a94d"
   },
   "outputs": [],
   "source": [
    "# Оптимизируем целочисленный тип данных в столбце 'chain':\n",
    "df['chain'] = pd.to_numeric(df['chain'], downcast='integer')"
   ]
  },
  {
   "cell_type": "code",
   "execution_count": 10,
   "id": "620d2f08",
   "metadata": {
    "id": "620d2f08"
   },
   "outputs": [
    {
     "data": {
      "text/plain": [
       "id                    object\n",
       "name                  object\n",
       "category              object\n",
       "address               object\n",
       "district              object\n",
       "hours                 object\n",
       "rating               float64\n",
       "chain                   int8\n",
       "seats                float64\n",
       "price                 object\n",
       "avg_bill              object\n",
       "middle_avg_bill      float64\n",
       "middle_coffee_cup    float64\n",
       "dtype: object"
      ]
     },
     "execution_count": 10,
     "metadata": {},
     "output_type": "execute_result"
    }
   ],
   "source": [
    "# Проверим типы данных в датафрейме bank_df с помощью атрибута dtypes\n",
    "df.dtypes"
   ]
  },
  {
   "cell_type": "markdown",
   "id": "38fc77f3",
   "metadata": {},
   "source": [
    "Столбцы  'seats', 'middle_avg_bill', 'middle_coffee_cup' представлены типом 'float64'. Для них оптимальным будет целочисленный тип, это преобразование можно будет сделать после обработки пропуков, т.к. именно они скорее всего были причинной этого типа данных."
   ]
  },
  {
   "cell_type": "markdown",
   "id": "3b057858",
   "metadata": {
    "id": "3d8840ca"
   },
   "source": [
    "При первичном анализе мы обнаружили пропуски в нескольких столбцах. Узнаем их абсолютное и относительное количество пропусков в датафрейме."
   ]
  },
  {
   "cell_type": "code",
   "execution_count": 11,
   "id": "2ea145ca",
   "metadata": {
    "id": "2ea145ca"
   },
   "outputs": [
    {
     "data": {
      "text/plain": [
       "id                      0\n",
       "name                    0\n",
       "category                0\n",
       "address                 0\n",
       "district                0\n",
       "rating                  0\n",
       "chain                   0\n",
       "hours                 536\n",
       "seats                3611\n",
       "avg_bill             4590\n",
       "price                5091\n",
       "middle_avg_bill      5257\n",
       "middle_coffee_cup    7871\n",
       "dtype: int64"
      ]
     },
     "execution_count": 11,
     "metadata": {},
     "output_type": "execute_result"
    }
   ],
   "source": [
    "# Применяем метод isna() к датафрейму df\n",
    "df.isna().sum().sort_values()"
   ]
  },
  {
   "cell_type": "code",
   "execution_count": 12,
   "id": "d9e7c358",
   "metadata": {
    "id": "d9e7c358"
   },
   "outputs": [
    {
     "data": {
      "text/plain": [
       "id                   0.000000\n",
       "name                 0.000000\n",
       "category             0.000000\n",
       "address              0.000000\n",
       "district             0.000000\n",
       "rating               0.000000\n",
       "chain                0.000000\n",
       "hours                0.063764\n",
       "seats                0.429574\n",
       "avg_bill             0.546039\n",
       "price                0.605639\n",
       "middle_avg_bill      0.625387\n",
       "middle_coffee_cup    0.936355\n",
       "dtype: float64"
      ]
     },
     "execution_count": 12,
     "metadata": {},
     "output_type": "execute_result"
    }
   ],
   "source": [
    "# Подсчитываем долю строк с пропусками\n",
    "(df.isna().sum() / df.shape[0]).sort_values()"
   ]
  },
  {
   "cell_type": "markdown",
   "id": "8619b0de",
   "metadata": {},
   "source": [
    "Пропуски присутствуют в столбцах 'hours', 'seats', 'price', 'avg_bill', 'middle_avg_bill', 'middle_coffee_cup' и их процент выше 5%. Значит удалив их, мы потерям огромное количество данных.\n",
    "\n",
    "Пропуски в значениях большинства столбцов скорее всего вызваны отсутствием данных, т.к. они были взяты с сервисов Яндекс Карты и Яндекс Бизнес, где информация могла быть добавлена как пользователями, так и найдена в общедоступных источниках. Больше всего пропусков  в столбце 'middle_coffee_cup', что очевидно связано с типом заведения, т.к. этот показатель свойственен как правило кофейням. Это можно будет проверить при дальнейшем анализе.\n",
    "\n",
    "Таким образом, пропущенные значения в столбцах корректнее всего будет заменить на значения-индикаторы. Для столбцов с типом данных object используем индикатор  \"нет данных\". Для числовых данных, необходимо убедиться, что они не повлияют на рузультат. Так как указанные столбцы предполагают положительный цифры, проверим их на минимальные значения и в случае подтверждения нашего предположения поставим индикатор '-1'."
   ]
  },
  {
   "cell_type": "code",
   "execution_count": 13,
   "id": "0769b681",
   "metadata": {
    "id": "0769b681"
   },
   "outputs": [
    {
     "name": "stdout",
     "output_type": "stream",
     "text": [
      "Минимальное значение в столбце seats: 0.0\n",
      "Минимальное значение в столбце middle_avg_bill: 0.0\n",
      "Минимальное значение в столбце middle_coffee_cup: 60.0\n"
     ]
    }
   ],
   "source": [
    "for col in  ['seats', 'middle_avg_bill', 'middle_coffee_cup']:\n",
    "    print(f'Минимальное значение в столбце {col}: {df[col].min()}')"
   ]
  },
  {
   "cell_type": "markdown",
   "id": "6f477373",
   "metadata": {
    "id": "95b15cd0"
   },
   "source": [
    "Так как все значения в указанных столбцах оказались неотрицательными числами, можен провести замену пропусков на индикатор '-1'."
   ]
  },
  {
   "cell_type": "code",
   "execution_count": 14,
   "id": "b52bae9a",
   "metadata": {
    "id": "b52bae9a"
   },
   "outputs": [],
   "source": [
    "#Заменим пропуски в столбцах с числовым типом данных на индикатор '-1', \n",
    "#чтобы он не мог быть использован при расчете данных:\n",
    "for col in ['seats', 'middle_avg_bill', 'middle_coffee_cup']:\n",
    "    df[col] = df[col].fillna(-1)\n",
    "#Пропуски в столбцах с типом данных object заменим на индикатор \"нет данных\":\n",
    "for col in ['hours', 'price', 'avg_bill']:\n",
    "    df[col] = df[col].fillna('нет данных')"
   ]
  },
  {
   "cell_type": "markdown",
   "id": "cd9c5b11",
   "metadata": {},
   "source": [
    "Теперь, когда пропуски обработаны, можем привести столбец 'seats' к целочисленному типу:"
   ]
  },
  {
   "cell_type": "code",
   "execution_count": 15,
   "id": "5bd8b456",
   "metadata": {},
   "outputs": [],
   "source": [
    "# Оптимизируем целочисленный тип данных в столбцах 'seats', 'middle_avg_bill', 'middle_coffee_cup':\n",
    "for col in ['seats', 'middle_avg_bill', 'middle_coffee_cup']:\n",
    "    df[col] = pd.to_numeric(df[col], downcast='integer')"
   ]
  },
  {
   "cell_type": "markdown",
   "id": "02c3e942",
   "metadata": {},
   "source": [
    "Проверим корректность проведенных преобразований:"
   ]
  },
  {
   "cell_type": "code",
   "execution_count": 16,
   "id": "af666326",
   "metadata": {},
   "outputs": [
    {
     "name": "stdout",
     "output_type": "stream",
     "text": [
      "<class 'pandas.core.frame.DataFrame'>\n",
      "Int64Index: 8406 entries, 0 to 8405\n",
      "Data columns (total 13 columns):\n",
      " #   Column             Non-Null Count  Dtype  \n",
      "---  ------             --------------  -----  \n",
      " 0   id                 8406 non-null   object \n",
      " 1   name               8406 non-null   object \n",
      " 2   category           8406 non-null   object \n",
      " 3   address            8406 non-null   object \n",
      " 4   district           8406 non-null   object \n",
      " 5   hours              8406 non-null   object \n",
      " 6   rating             8406 non-null   float64\n",
      " 7   chain              8406 non-null   int8   \n",
      " 8   seats              8406 non-null   int16  \n",
      " 9   price              8406 non-null   object \n",
      " 10  avg_bill           8406 non-null   object \n",
      " 11  middle_avg_bill    8406 non-null   int32  \n",
      " 12  middle_coffee_cup  8406 non-null   int16  \n",
      "dtypes: float64(1), int16(2), int32(1), int8(1), object(8)\n",
      "memory usage: 730.6+ KB\n"
     ]
    }
   ],
   "source": [
    "df.info()"
   ]
  },
  {
   "cell_type": "markdown",
   "id": "142679b4",
   "metadata": {},
   "source": [
    "Пропуски удалены, типы данных оптимизированы, можем переходить к проверке данных на дубликаты."
   ]
  },
  {
   "cell_type": "markdown",
   "id": "7eb32777",
   "metadata": {
    "id": "d8a8a963"
   },
   "source": [
    "Проверим данные на наличие явных и неявных дубликатов. Начнём с полных дубликатов:"
   ]
  },
  {
   "cell_type": "code",
   "execution_count": 17,
   "id": "42d1e685",
   "metadata": {
    "id": "42d1e685"
   },
   "outputs": [
    {
     "data": {
      "text/plain": [
       "0"
      ]
     },
     "execution_count": 17,
     "metadata": {},
     "output_type": "execute_result"
    }
   ],
   "source": [
    "# Проверяем полные дубликаты в датафрейме df\n",
    "df.duplicated().sum()"
   ]
  },
  {
   "cell_type": "markdown",
   "id": "d1a78282",
   "metadata": {
    "id": "61304e83"
   },
   "source": [
    "Полные дубликаты отсутствуют. Проверим наличие неявных дубликатов.\n",
    "Значения по id заведений должны быть уникальными, начнем с их проверки."
   ]
  },
  {
   "cell_type": "code",
   "execution_count": 18,
   "id": "8c4311ce",
   "metadata": {},
   "outputs": [
    {
     "data": {
      "text/plain": [
       "0"
      ]
     },
     "execution_count": 18,
     "metadata": {},
     "output_type": "execute_result"
    }
   ],
   "source": [
    "#Проверяем дубликаты по столбцу 'id':\n",
    "df.duplicated(subset='id').sum()"
   ]
  },
  {
   "cell_type": "markdown",
   "id": "617faacd",
   "metadata": {},
   "source": [
    "Дубликаты по id отсутствуют"
   ]
  },
  {
   "cell_type": "markdown",
   "id": "b51051ff",
   "metadata": {},
   "source": [
    "В столбцах со строковым типом данных могут встречаться разные стили написания одних и тех же данных,  приведем эти значения (так как теоретически там тоже могут быть такие дубликаты) к единому регистру."
   ]
  },
  {
   "cell_type": "code",
   "execution_count": 19,
   "id": "dd806974",
   "metadata": {},
   "outputs": [],
   "source": [
    "#Используем метод lower() и акцессор .str для приведения нужных столбцов к нижнему регистру и удаления лишних пробелов:\n",
    "for col in ['name', 'address', 'district', 'category', 'hours', 'price', 'avg_bill']:\n",
    "    df[col] = df[col].str.lower()\n",
    "    df[col] = df[col].str.strip() \n"
   ]
  },
  {
   "cell_type": "code",
   "execution_count": 20,
   "id": "1add08bd",
   "metadata": {},
   "outputs": [
    {
     "data": {
      "text/html": [
       "<div>\n",
       "<style scoped>\n",
       "    .dataframe tbody tr th:only-of-type {\n",
       "        vertical-align: middle;\n",
       "    }\n",
       "\n",
       "    .dataframe tbody tr th {\n",
       "        vertical-align: top;\n",
       "    }\n",
       "\n",
       "    .dataframe thead th {\n",
       "        text-align: right;\n",
       "    }\n",
       "</style>\n",
       "<table border=\"1\" class=\"dataframe\">\n",
       "  <thead>\n",
       "    <tr style=\"text-align: right;\">\n",
       "      <th></th>\n",
       "      <th>id</th>\n",
       "      <th>name</th>\n",
       "      <th>category</th>\n",
       "      <th>address</th>\n",
       "      <th>district</th>\n",
       "      <th>hours</th>\n",
       "      <th>rating</th>\n",
       "      <th>chain</th>\n",
       "      <th>seats</th>\n",
       "      <th>price</th>\n",
       "      <th>avg_bill</th>\n",
       "      <th>middle_avg_bill</th>\n",
       "      <th>middle_coffee_cup</th>\n",
       "    </tr>\n",
       "  </thead>\n",
       "  <tbody>\n",
       "    <tr>\n",
       "      <th>189</th>\n",
       "      <td>072032ce16dc47bfbc63b672c75bd371</td>\n",
       "      <td>кафе</td>\n",
       "      <td>кафе</td>\n",
       "      <td>москва, парк ангарские пруды</td>\n",
       "      <td>северный административный округ</td>\n",
       "      <td>ежедневно, 09:00–23:00</td>\n",
       "      <td>3.2</td>\n",
       "      <td>0</td>\n",
       "      <td>-1</td>\n",
       "      <td>нет данных</td>\n",
       "      <td>нет данных</td>\n",
       "      <td>-1</td>\n",
       "      <td>-1</td>\n",
       "    </tr>\n",
       "    <tr>\n",
       "      <th>215</th>\n",
       "      <td>897ddbc6746c4388b19dc8a9fcdbb488</td>\n",
       "      <td>кафе</td>\n",
       "      <td>кафе</td>\n",
       "      <td>москва, парк ангарские пруды</td>\n",
       "      <td>северный административный округ</td>\n",
       "      <td>ежедневно, 10:00–22:00</td>\n",
       "      <td>3.2</td>\n",
       "      <td>0</td>\n",
       "      <td>-1</td>\n",
       "      <td>нет данных</td>\n",
       "      <td>нет данных</td>\n",
       "      <td>-1</td>\n",
       "      <td>-1</td>\n",
       "    </tr>\n",
       "    <tr>\n",
       "      <th>1430</th>\n",
       "      <td>62608690e9cc464fbcd980cfd552e334</td>\n",
       "      <td>more poke</td>\n",
       "      <td>ресторан</td>\n",
       "      <td>москва, волоколамское шоссе, 11, стр. 2</td>\n",
       "      <td>северный административный округ</td>\n",
       "      <td>ежедневно, 09:00–21:00</td>\n",
       "      <td>4.2</td>\n",
       "      <td>0</td>\n",
       "      <td>188</td>\n",
       "      <td>нет данных</td>\n",
       "      <td>нет данных</td>\n",
       "      <td>-1</td>\n",
       "      <td>-1</td>\n",
       "    </tr>\n",
       "    <tr>\n",
       "      <th>1511</th>\n",
       "      <td>a69f018d5c064873a3b491b0121bc1b4</td>\n",
       "      <td>more poke</td>\n",
       "      <td>ресторан</td>\n",
       "      <td>москва, волоколамское шоссе, 11, стр. 2</td>\n",
       "      <td>северный административный округ</td>\n",
       "      <td>пн-чт 09:00–18:00; пт,сб 09:00–21:00; вс 09:00...</td>\n",
       "      <td>4.2</td>\n",
       "      <td>1</td>\n",
       "      <td>188</td>\n",
       "      <td>нет данных</td>\n",
       "      <td>нет данных</td>\n",
       "      <td>-1</td>\n",
       "      <td>-1</td>\n",
       "    </tr>\n",
       "    <tr>\n",
       "      <th>2211</th>\n",
       "      <td>c6ef39ae8a8c483d8f9a6531bc386a2c</td>\n",
       "      <td>раковарня клешни и хвосты</td>\n",
       "      <td>ресторан</td>\n",
       "      <td>москва, проспект мира, 118</td>\n",
       "      <td>северо-восточный административный округ</td>\n",
       "      <td>ежедневно, 12:00–00:00</td>\n",
       "      <td>4.4</td>\n",
       "      <td>0</td>\n",
       "      <td>150</td>\n",
       "      <td>нет данных</td>\n",
       "      <td>нет данных</td>\n",
       "      <td>-1</td>\n",
       "      <td>-1</td>\n",
       "    </tr>\n",
       "    <tr>\n",
       "      <th>2420</th>\n",
       "      <td>aba1de7ad7d64ac0a3f8684bda29d905</td>\n",
       "      <td>раковарня клешни и хвосты</td>\n",
       "      <td>бар,паб</td>\n",
       "      <td>москва, проспект мира, 118</td>\n",
       "      <td>северо-восточный административный округ</td>\n",
       "      <td>пн-чт 12:00–00:00; пт,сб 12:00–01:00; вс 12:00...</td>\n",
       "      <td>4.4</td>\n",
       "      <td>1</td>\n",
       "      <td>150</td>\n",
       "      <td>нет данных</td>\n",
       "      <td>нет данных</td>\n",
       "      <td>-1</td>\n",
       "      <td>-1</td>\n",
       "    </tr>\n",
       "    <tr>\n",
       "      <th>3091</th>\n",
       "      <td>3c2a73ea79a04be48858fab3685f2f37</td>\n",
       "      <td>хлеб да выпечка</td>\n",
       "      <td>булочная</td>\n",
       "      <td>москва, ярцевская улица, 19</td>\n",
       "      <td>западный административный округ</td>\n",
       "      <td>ежедневно, 09:00–22:00</td>\n",
       "      <td>4.1</td>\n",
       "      <td>1</td>\n",
       "      <td>276</td>\n",
       "      <td>нет данных</td>\n",
       "      <td>нет данных</td>\n",
       "      <td>-1</td>\n",
       "      <td>-1</td>\n",
       "    </tr>\n",
       "    <tr>\n",
       "      <th>3109</th>\n",
       "      <td>d3116844e4e048f99614eb30be3214e0</td>\n",
       "      <td>хлеб да выпечка</td>\n",
       "      <td>кафе</td>\n",
       "      <td>москва, ярцевская улица, 19</td>\n",
       "      <td>западный административный округ</td>\n",
       "      <td>нет данных</td>\n",
       "      <td>4.1</td>\n",
       "      <td>0</td>\n",
       "      <td>276</td>\n",
       "      <td>нет данных</td>\n",
       "      <td>нет данных</td>\n",
       "      <td>-1</td>\n",
       "      <td>-1</td>\n",
       "    </tr>\n",
       "  </tbody>\n",
       "</table>\n",
       "</div>"
      ],
      "text/plain": [
       "                                    id                       name  category  \\\n",
       "189   072032ce16dc47bfbc63b672c75bd371                       кафе      кафе   \n",
       "215   897ddbc6746c4388b19dc8a9fcdbb488                       кафе      кафе   \n",
       "1430  62608690e9cc464fbcd980cfd552e334                  more poke  ресторан   \n",
       "1511  a69f018d5c064873a3b491b0121bc1b4                  more poke  ресторан   \n",
       "2211  c6ef39ae8a8c483d8f9a6531bc386a2c  раковарня клешни и хвосты  ресторан   \n",
       "2420  aba1de7ad7d64ac0a3f8684bda29d905  раковарня клешни и хвосты   бар,паб   \n",
       "3091  3c2a73ea79a04be48858fab3685f2f37            хлеб да выпечка  булочная   \n",
       "3109  d3116844e4e048f99614eb30be3214e0            хлеб да выпечка      кафе   \n",
       "\n",
       "                                      address  \\\n",
       "189              москва, парк ангарские пруды   \n",
       "215              москва, парк ангарские пруды   \n",
       "1430  москва, волоколамское шоссе, 11, стр. 2   \n",
       "1511  москва, волоколамское шоссе, 11, стр. 2   \n",
       "2211               москва, проспект мира, 118   \n",
       "2420               москва, проспект мира, 118   \n",
       "3091              москва, ярцевская улица, 19   \n",
       "3109              москва, ярцевская улица, 19   \n",
       "\n",
       "                                     district  \\\n",
       "189           северный административный округ   \n",
       "215           северный административный округ   \n",
       "1430          северный административный округ   \n",
       "1511          северный административный округ   \n",
       "2211  северо-восточный административный округ   \n",
       "2420  северо-восточный административный округ   \n",
       "3091          западный административный округ   \n",
       "3109          западный административный округ   \n",
       "\n",
       "                                                  hours  rating  chain  seats  \\\n",
       "189                              ежедневно, 09:00–23:00     3.2      0     -1   \n",
       "215                              ежедневно, 10:00–22:00     3.2      0     -1   \n",
       "1430                             ежедневно, 09:00–21:00     4.2      0    188   \n",
       "1511  пн-чт 09:00–18:00; пт,сб 09:00–21:00; вс 09:00...     4.2      1    188   \n",
       "2211                             ежедневно, 12:00–00:00     4.4      0    150   \n",
       "2420  пн-чт 12:00–00:00; пт,сб 12:00–01:00; вс 12:00...     4.4      1    150   \n",
       "3091                             ежедневно, 09:00–22:00     4.1      1    276   \n",
       "3109                                         нет данных     4.1      0    276   \n",
       "\n",
       "           price    avg_bill  middle_avg_bill  middle_coffee_cup  \n",
       "189   нет данных  нет данных               -1                 -1  \n",
       "215   нет данных  нет данных               -1                 -1  \n",
       "1430  нет данных  нет данных               -1                 -1  \n",
       "1511  нет данных  нет данных               -1                 -1  \n",
       "2211  нет данных  нет данных               -1                 -1  \n",
       "2420  нет данных  нет данных               -1                 -1  \n",
       "3091  нет данных  нет данных               -1                 -1  \n",
       "3109  нет данных  нет данных               -1                 -1  "
      ]
     },
     "metadata": {},
     "output_type": "display_data"
    }
   ],
   "source": [
    "#Теперь проверим столбцы с названием заведения и его адресом на дубликаты:\n",
    "duplicates = df[df.duplicated(subset=['name', 'address'], keep=False)]\n",
    "display(duplicates)"
   ]
  },
  {
   "cell_type": "markdown",
   "id": "01e32f3f",
   "metadata": {},
   "source": [
    "Сопоставив выведенные строки, можно сделать вывод о том, что эти значения являются дубликатами. Т.к. дубликатов немного, удалим строки с меньшим количеством данных по индексам."
   ]
  },
  {
   "cell_type": "code",
   "execution_count": 21,
   "id": "d7e904e8",
   "metadata": {},
   "outputs": [
    {
     "data": {
      "text/plain": [
       "0"
      ]
     },
     "execution_count": 21,
     "metadata": {},
     "output_type": "execute_result"
    }
   ],
   "source": [
    "#Удаляем строки с неявными дубликатами по известным нам теперь индексам:\n",
    "df = df.drop(index=[215, 1430, 2211, 3109])\n",
    "#Обновим индексы строк после удаления:\n",
    "df = df.reset_index(drop=True)\n",
    "#Проверяем отсутствие дубликатов:\n",
    "df.duplicated(subset=['name', 'address']).sum()"
   ]
  },
  {
   "cell_type": "markdown",
   "id": "c2dd2b3b",
   "metadata": {},
   "source": [
    "Для дальнейшего анализа нам может понадобиться столбец, который будет показывать является ли заведение круглосуточным и работающим 7 дней в неделю. Назовем его 'is_24_7'. Если в строке есть данные о работе в режиме 24/7, то значение в новом столбце будет True, в противном случае - False. Затем можно использовать эти данные для изучения корреляции между рейтингом кафе и режимом его работы.\n",
    "Данные о режиме работы содержаться в столбце 'hours'. "
   ]
  },
  {
   "cell_type": "code",
   "execution_count": 22,
   "id": "cef2ddd1",
   "metadata": {},
   "outputs": [
    {
     "name": "stdout",
     "output_type": "stream",
     "text": [
      "<class 'pandas.core.frame.DataFrame'>\n",
      "RangeIndex: 8402 entries, 0 to 8401\n",
      "Data columns (total 14 columns):\n",
      " #   Column             Non-Null Count  Dtype  \n",
      "---  ------             --------------  -----  \n",
      " 0   id                 8402 non-null   object \n",
      " 1   name               8402 non-null   object \n",
      " 2   category           8402 non-null   object \n",
      " 3   address            8402 non-null   object \n",
      " 4   district           8402 non-null   object \n",
      " 5   hours              8402 non-null   object \n",
      " 6   rating             8402 non-null   float64\n",
      " 7   chain              8402 non-null   int8   \n",
      " 8   seats              8402 non-null   int16  \n",
      " 9   price              8402 non-null   object \n",
      " 10  avg_bill           8402 non-null   object \n",
      " 11  middle_avg_bill    8402 non-null   int32  \n",
      " 12  middle_coffee_cup  8402 non-null   int16  \n",
      " 13  is_24_7            8402 non-null   int8   \n",
      "dtypes: float64(1), int16(2), int32(1), int8(2), object(8)\n",
      "memory usage: 672.9+ KB\n"
     ]
    },
    {
     "data": {
      "text/html": [
       "<div>\n",
       "<style scoped>\n",
       "    .dataframe tbody tr th:only-of-type {\n",
       "        vertical-align: middle;\n",
       "    }\n",
       "\n",
       "    .dataframe tbody tr th {\n",
       "        vertical-align: top;\n",
       "    }\n",
       "\n",
       "    .dataframe thead th {\n",
       "        text-align: right;\n",
       "    }\n",
       "</style>\n",
       "<table border=\"1\" class=\"dataframe\">\n",
       "  <thead>\n",
       "    <tr style=\"text-align: right;\">\n",
       "      <th></th>\n",
       "      <th>id</th>\n",
       "      <th>name</th>\n",
       "      <th>category</th>\n",
       "      <th>address</th>\n",
       "      <th>district</th>\n",
       "      <th>hours</th>\n",
       "      <th>rating</th>\n",
       "      <th>chain</th>\n",
       "      <th>seats</th>\n",
       "      <th>price</th>\n",
       "      <th>avg_bill</th>\n",
       "      <th>middle_avg_bill</th>\n",
       "      <th>middle_coffee_cup</th>\n",
       "      <th>is_24_7</th>\n",
       "    </tr>\n",
       "  </thead>\n",
       "  <tbody>\n",
       "    <tr>\n",
       "      <th>0</th>\n",
       "      <td>0c3e3439a8c64ea5bf6ecd6ca6ae19f0</td>\n",
       "      <td>wowфли</td>\n",
       "      <td>кафе</td>\n",
       "      <td>москва, улица дыбенко, 7/1</td>\n",
       "      <td>северный административный округ</td>\n",
       "      <td>ежедневно, 10:00–22:00</td>\n",
       "      <td>5.0</td>\n",
       "      <td>0</td>\n",
       "      <td>-1</td>\n",
       "      <td>нет данных</td>\n",
       "      <td>нет данных</td>\n",
       "      <td>-1</td>\n",
       "      <td>-1</td>\n",
       "      <td>0</td>\n",
       "    </tr>\n",
       "    <tr>\n",
       "      <th>1</th>\n",
       "      <td>045780ada3474c57a2112e505d74b633</td>\n",
       "      <td>четыре комнаты</td>\n",
       "      <td>ресторан</td>\n",
       "      <td>москва, улица дыбенко, 36, корп. 1</td>\n",
       "      <td>северный административный округ</td>\n",
       "      <td>ежедневно, 10:00–22:00</td>\n",
       "      <td>4.5</td>\n",
       "      <td>0</td>\n",
       "      <td>4</td>\n",
       "      <td>выше среднего</td>\n",
       "      <td>средний счёт:1500–1600 ₽</td>\n",
       "      <td>1550</td>\n",
       "      <td>-1</td>\n",
       "      <td>0</td>\n",
       "    </tr>\n",
       "    <tr>\n",
       "      <th>2</th>\n",
       "      <td>1070b6b59144425896c65889347fcff6</td>\n",
       "      <td>хазри</td>\n",
       "      <td>кафе</td>\n",
       "      <td>москва, клязьминская улица, 15</td>\n",
       "      <td>северный административный округ</td>\n",
       "      <td>пн-чт 11:00–02:00; пт,сб 11:00–05:00; вс 11:00...</td>\n",
       "      <td>4.6</td>\n",
       "      <td>0</td>\n",
       "      <td>45</td>\n",
       "      <td>средние</td>\n",
       "      <td>средний счёт:от 1000 ₽</td>\n",
       "      <td>1000</td>\n",
       "      <td>-1</td>\n",
       "      <td>0</td>\n",
       "    </tr>\n",
       "    <tr>\n",
       "      <th>3</th>\n",
       "      <td>03ac7cd772104f65b58b349dc59f03ee</td>\n",
       "      <td>dormouse coffee shop</td>\n",
       "      <td>кофейня</td>\n",
       "      <td>москва, улица маршала федоренко, 12</td>\n",
       "      <td>северный административный округ</td>\n",
       "      <td>ежедневно, 09:00–22:00</td>\n",
       "      <td>5.0</td>\n",
       "      <td>0</td>\n",
       "      <td>-1</td>\n",
       "      <td>нет данных</td>\n",
       "      <td>цена чашки капучино:155–185 ₽</td>\n",
       "      <td>-1</td>\n",
       "      <td>170</td>\n",
       "      <td>0</td>\n",
       "    </tr>\n",
       "    <tr>\n",
       "      <th>4</th>\n",
       "      <td>a163aada139c4c7f87b0b1c0b466a50f</td>\n",
       "      <td>иль марко</td>\n",
       "      <td>пиццерия</td>\n",
       "      <td>москва, правобережная улица, 1б</td>\n",
       "      <td>северный административный округ</td>\n",
       "      <td>ежедневно, 10:00–22:00</td>\n",
       "      <td>5.0</td>\n",
       "      <td>1</td>\n",
       "      <td>148</td>\n",
       "      <td>средние</td>\n",
       "      <td>средний счёт:400–600 ₽</td>\n",
       "      <td>500</td>\n",
       "      <td>-1</td>\n",
       "      <td>0</td>\n",
       "    </tr>\n",
       "    <tr>\n",
       "      <th>5</th>\n",
       "      <td>8a343546b24e4a499ad96eb7d0797a8a</td>\n",
       "      <td>sergio pizza</td>\n",
       "      <td>пиццерия</td>\n",
       "      <td>москва, ижорская улица, вл8б</td>\n",
       "      <td>северный административный округ</td>\n",
       "      <td>ежедневно, 10:00–23:00</td>\n",
       "      <td>4.6</td>\n",
       "      <td>0</td>\n",
       "      <td>-1</td>\n",
       "      <td>средние</td>\n",
       "      <td>нет данных</td>\n",
       "      <td>-1</td>\n",
       "      <td>-1</td>\n",
       "      <td>0</td>\n",
       "    </tr>\n",
       "    <tr>\n",
       "      <th>6</th>\n",
       "      <td>96ebceb1a09e4e3191133b9fe0379a64</td>\n",
       "      <td>огни города</td>\n",
       "      <td>бар,паб</td>\n",
       "      <td>москва, клязьминская улица, 9, стр. 3</td>\n",
       "      <td>северный административный округ</td>\n",
       "      <td>пн 15:00–04:00; вт-вс 15:00–05:00</td>\n",
       "      <td>4.4</td>\n",
       "      <td>0</td>\n",
       "      <td>45</td>\n",
       "      <td>средние</td>\n",
       "      <td>средний счёт:199 ₽</td>\n",
       "      <td>199</td>\n",
       "      <td>-1</td>\n",
       "      <td>0</td>\n",
       "    </tr>\n",
       "    <tr>\n",
       "      <th>7</th>\n",
       "      <td>0243288b78024af090b8e947842c969c</td>\n",
       "      <td>mr. уголёк</td>\n",
       "      <td>быстрое питание</td>\n",
       "      <td>москва, клязьминская улица, 9, стр. 3</td>\n",
       "      <td>северный административный округ</td>\n",
       "      <td>пн-чт 10:00–22:00; пт,сб 10:00–23:00; вс 10:00...</td>\n",
       "      <td>4.7</td>\n",
       "      <td>0</td>\n",
       "      <td>45</td>\n",
       "      <td>средние</td>\n",
       "      <td>средний счёт:200–300 ₽</td>\n",
       "      <td>250</td>\n",
       "      <td>-1</td>\n",
       "      <td>0</td>\n",
       "    </tr>\n",
       "    <tr>\n",
       "      <th>8</th>\n",
       "      <td>36aeb0ffa69c48fdb0021549520deb10</td>\n",
       "      <td>donna maria</td>\n",
       "      <td>ресторан</td>\n",
       "      <td>москва, дмитровское шоссе, 107, корп. 4</td>\n",
       "      <td>северный административный округ</td>\n",
       "      <td>ежедневно, 10:00–22:00</td>\n",
       "      <td>4.8</td>\n",
       "      <td>0</td>\n",
       "      <td>79</td>\n",
       "      <td>средние</td>\n",
       "      <td>средний счёт:от 500 ₽</td>\n",
       "      <td>500</td>\n",
       "      <td>-1</td>\n",
       "      <td>0</td>\n",
       "    </tr>\n",
       "    <tr>\n",
       "      <th>9</th>\n",
       "      <td>487167877eb04288bc90d4fa80646fc2</td>\n",
       "      <td>готика</td>\n",
       "      <td>кафе</td>\n",
       "      <td>москва, ангарская улица, 39</td>\n",
       "      <td>северный административный округ</td>\n",
       "      <td>ежедневно, 12:00–00:00</td>\n",
       "      <td>4.3</td>\n",
       "      <td>0</td>\n",
       "      <td>65</td>\n",
       "      <td>средние</td>\n",
       "      <td>средний счёт:1000–1200 ₽</td>\n",
       "      <td>1100</td>\n",
       "      <td>-1</td>\n",
       "      <td>0</td>\n",
       "    </tr>\n",
       "    <tr>\n",
       "      <th>10</th>\n",
       "      <td>ac32978af97641bfacf996e7f5a50ee5</td>\n",
       "      <td>great room bar</td>\n",
       "      <td>бар,паб</td>\n",
       "      <td>москва, левобережная улица, 12</td>\n",
       "      <td>северный административный округ</td>\n",
       "      <td>ежедневно, круглосуточно</td>\n",
       "      <td>4.5</td>\n",
       "      <td>0</td>\n",
       "      <td>102</td>\n",
       "      <td>средние</td>\n",
       "      <td>цена бокала пива:250–350 ₽</td>\n",
       "      <td>-1</td>\n",
       "      <td>-1</td>\n",
       "      <td>1</td>\n",
       "    </tr>\n",
       "    <tr>\n",
       "      <th>11</th>\n",
       "      <td>53ac103717c142f29907080db1f0ce58</td>\n",
       "      <td>шашлык шефф</td>\n",
       "      <td>кафе</td>\n",
       "      <td>москва, улица маршала федоренко, 10с1</td>\n",
       "      <td>северный административный округ</td>\n",
       "      <td>ежедневно, 10:00–21:00</td>\n",
       "      <td>4.9</td>\n",
       "      <td>0</td>\n",
       "      <td>-1</td>\n",
       "      <td>нет данных</td>\n",
       "      <td>нет данных</td>\n",
       "      <td>-1</td>\n",
       "      <td>-1</td>\n",
       "      <td>0</td>\n",
       "    </tr>\n",
       "    <tr>\n",
       "      <th>12</th>\n",
       "      <td>9384a51a4b2749759234df689b3a4857</td>\n",
       "      <td>заправка</td>\n",
       "      <td>кафе</td>\n",
       "      <td>москва, мкад, 80-й километр, 1</td>\n",
       "      <td>северный административный округ</td>\n",
       "      <td>вт-сб 09:00–18:00</td>\n",
       "      <td>4.3</td>\n",
       "      <td>0</td>\n",
       "      <td>-1</td>\n",
       "      <td>средние</td>\n",
       "      <td>средний счёт:330 ₽</td>\n",
       "      <td>330</td>\n",
       "      <td>-1</td>\n",
       "      <td>0</td>\n",
       "    </tr>\n",
       "    <tr>\n",
       "      <th>13</th>\n",
       "      <td>aea18265b0a0415893f1e796b82568fe</td>\n",
       "      <td>буханка</td>\n",
       "      <td>булочная</td>\n",
       "      <td>москва, базовская улица, 15, корп. 1</td>\n",
       "      <td>северный административный округ</td>\n",
       "      <td>ежедневно, 08:00–22:00</td>\n",
       "      <td>4.8</td>\n",
       "      <td>1</td>\n",
       "      <td>180</td>\n",
       "      <td>нет данных</td>\n",
       "      <td>нет данных</td>\n",
       "      <td>-1</td>\n",
       "      <td>-1</td>\n",
       "      <td>0</td>\n",
       "    </tr>\n",
       "    <tr>\n",
       "      <th>14</th>\n",
       "      <td>b9469750090f4a19829cc717bc369988</td>\n",
       "      <td>у сильвы</td>\n",
       "      <td>бар,паб</td>\n",
       "      <td>москва, ангарская улица, 42с1</td>\n",
       "      <td>северный административный округ</td>\n",
       "      <td>ежедневно, 13:00–00:00</td>\n",
       "      <td>4.2</td>\n",
       "      <td>0</td>\n",
       "      <td>-1</td>\n",
       "      <td>выше среднего</td>\n",
       "      <td>средний счёт:1500 ₽</td>\n",
       "      <td>1500</td>\n",
       "      <td>-1</td>\n",
       "      <td>0</td>\n",
       "    </tr>\n",
       "    <tr>\n",
       "      <th>15</th>\n",
       "      <td>9b8421c55aef47efa4c6bc9e6fb4c239</td>\n",
       "      <td>дом обеда</td>\n",
       "      <td>столовая</td>\n",
       "      <td>москва, улица бусиновская горка, 2</td>\n",
       "      <td>северный административный округ</td>\n",
       "      <td>пн-пт 08:30–18:30; сб 10:00–20:00</td>\n",
       "      <td>4.1</td>\n",
       "      <td>0</td>\n",
       "      <td>180</td>\n",
       "      <td>средние</td>\n",
       "      <td>средний счёт:300–500 ₽</td>\n",
       "      <td>400</td>\n",
       "      <td>-1</td>\n",
       "      <td>0</td>\n",
       "    </tr>\n",
       "    <tr>\n",
       "      <th>16</th>\n",
       "      <td>ccda3acc54e34bfcac4d6a25a5205bcb</td>\n",
       "      <td>база стритфуд</td>\n",
       "      <td>кафе</td>\n",
       "      <td>москва, базовская улица, 15, корп. 8</td>\n",
       "      <td>северный административный округ</td>\n",
       "      <td>ежедневно, 10:00–23:00</td>\n",
       "      <td>4.2</td>\n",
       "      <td>0</td>\n",
       "      <td>-1</td>\n",
       "      <td>средние</td>\n",
       "      <td>средний счёт:140–350 ₽</td>\n",
       "      <td>245</td>\n",
       "      <td>-1</td>\n",
       "      <td>0</td>\n",
       "    </tr>\n",
       "    <tr>\n",
       "      <th>17</th>\n",
       "      <td>b55465d0869648a295ad1d85ed9b5c4f</td>\n",
       "      <td>чайхана беш-бармак</td>\n",
       "      <td>ресторан</td>\n",
       "      <td>москва, ленинградское шоссе, 71б, стр. 2</td>\n",
       "      <td>северный административный округ</td>\n",
       "      <td>ежедневно, круглосуточно</td>\n",
       "      <td>4.4</td>\n",
       "      <td>0</td>\n",
       "      <td>96</td>\n",
       "      <td>средние</td>\n",
       "      <td>средний счёт:350–500 ₽</td>\n",
       "      <td>425</td>\n",
       "      <td>-1</td>\n",
       "      <td>1</td>\n",
       "    </tr>\n",
       "    <tr>\n",
       "      <th>18</th>\n",
       "      <td>06e4244f6832490ea35c0c1f8824bb30</td>\n",
       "      <td>час-пик</td>\n",
       "      <td>столовая</td>\n",
       "      <td>москва, коровинское шоссе, 30а</td>\n",
       "      <td>северный административный округ</td>\n",
       "      <td>ежедневно, 09:00–21:00</td>\n",
       "      <td>4.3</td>\n",
       "      <td>0</td>\n",
       "      <td>25</td>\n",
       "      <td>средние</td>\n",
       "      <td>средний счёт:200–300 ₽</td>\n",
       "      <td>250</td>\n",
       "      <td>-1</td>\n",
       "      <td>0</td>\n",
       "    </tr>\n",
       "    <tr>\n",
       "      <th>19</th>\n",
       "      <td>feec6bedccae44cb877d99c13f9aa5d7</td>\n",
       "      <td>пекарня</td>\n",
       "      <td>булочная</td>\n",
       "      <td>москва, ижорский проезд, 5</td>\n",
       "      <td>северный административный округ</td>\n",
       "      <td>ежедневно, круглосуточно</td>\n",
       "      <td>4.4</td>\n",
       "      <td>1</td>\n",
       "      <td>-1</td>\n",
       "      <td>нет данных</td>\n",
       "      <td>нет данных</td>\n",
       "      <td>-1</td>\n",
       "      <td>-1</td>\n",
       "      <td>1</td>\n",
       "    </tr>\n",
       "  </tbody>\n",
       "</table>\n",
       "</div>"
      ],
      "text/plain": [
       "                                  id                  name         category  \\\n",
       "0   0c3e3439a8c64ea5bf6ecd6ca6ae19f0                wowфли             кафе   \n",
       "1   045780ada3474c57a2112e505d74b633        четыре комнаты         ресторан   \n",
       "2   1070b6b59144425896c65889347fcff6                 хазри             кафе   \n",
       "3   03ac7cd772104f65b58b349dc59f03ee  dormouse coffee shop          кофейня   \n",
       "4   a163aada139c4c7f87b0b1c0b466a50f             иль марко         пиццерия   \n",
       "5   8a343546b24e4a499ad96eb7d0797a8a          sergio pizza         пиццерия   \n",
       "6   96ebceb1a09e4e3191133b9fe0379a64           огни города          бар,паб   \n",
       "7   0243288b78024af090b8e947842c969c            mr. уголёк  быстрое питание   \n",
       "8   36aeb0ffa69c48fdb0021549520deb10           donna maria         ресторан   \n",
       "9   487167877eb04288bc90d4fa80646fc2                готика             кафе   \n",
       "10  ac32978af97641bfacf996e7f5a50ee5        great room bar          бар,паб   \n",
       "11  53ac103717c142f29907080db1f0ce58           шашлык шефф             кафе   \n",
       "12  9384a51a4b2749759234df689b3a4857              заправка             кафе   \n",
       "13  aea18265b0a0415893f1e796b82568fe               буханка         булочная   \n",
       "14  b9469750090f4a19829cc717bc369988              у сильвы          бар,паб   \n",
       "15  9b8421c55aef47efa4c6bc9e6fb4c239             дом обеда         столовая   \n",
       "16  ccda3acc54e34bfcac4d6a25a5205bcb         база стритфуд             кафе   \n",
       "17  b55465d0869648a295ad1d85ed9b5c4f    чайхана беш-бармак         ресторан   \n",
       "18  06e4244f6832490ea35c0c1f8824bb30               час-пик         столовая   \n",
       "19  feec6bedccae44cb877d99c13f9aa5d7               пекарня         булочная   \n",
       "\n",
       "                                     address                         district  \\\n",
       "0                 москва, улица дыбенко, 7/1  северный административный округ   \n",
       "1         москва, улица дыбенко, 36, корп. 1  северный административный округ   \n",
       "2             москва, клязьминская улица, 15  северный административный округ   \n",
       "3        москва, улица маршала федоренко, 12  северный административный округ   \n",
       "4            москва, правобережная улица, 1б  северный административный округ   \n",
       "5               москва, ижорская улица, вл8б  северный административный округ   \n",
       "6      москва, клязьминская улица, 9, стр. 3  северный административный округ   \n",
       "7      москва, клязьминская улица, 9, стр. 3  северный административный округ   \n",
       "8    москва, дмитровское шоссе, 107, корп. 4  северный административный округ   \n",
       "9                москва, ангарская улица, 39  северный административный округ   \n",
       "10            москва, левобережная улица, 12  северный административный округ   \n",
       "11     москва, улица маршала федоренко, 10с1  северный административный округ   \n",
       "12            москва, мкад, 80-й километр, 1  северный административный округ   \n",
       "13      москва, базовская улица, 15, корп. 1  северный административный округ   \n",
       "14             москва, ангарская улица, 42с1  северный административный округ   \n",
       "15        москва, улица бусиновская горка, 2  северный административный округ   \n",
       "16      москва, базовская улица, 15, корп. 8  северный административный округ   \n",
       "17  москва, ленинградское шоссе, 71б, стр. 2  северный административный округ   \n",
       "18            москва, коровинское шоссе, 30а  северный административный округ   \n",
       "19                москва, ижорский проезд, 5  северный административный округ   \n",
       "\n",
       "                                                hours  rating  chain  seats  \\\n",
       "0                              ежедневно, 10:00–22:00     5.0      0     -1   \n",
       "1                              ежедневно, 10:00–22:00     4.5      0      4   \n",
       "2   пн-чт 11:00–02:00; пт,сб 11:00–05:00; вс 11:00...     4.6      0     45   \n",
       "3                              ежедневно, 09:00–22:00     5.0      0     -1   \n",
       "4                              ежедневно, 10:00–22:00     5.0      1    148   \n",
       "5                              ежедневно, 10:00–23:00     4.6      0     -1   \n",
       "6                   пн 15:00–04:00; вт-вс 15:00–05:00     4.4      0     45   \n",
       "7   пн-чт 10:00–22:00; пт,сб 10:00–23:00; вс 10:00...     4.7      0     45   \n",
       "8                              ежедневно, 10:00–22:00     4.8      0     79   \n",
       "9                              ежедневно, 12:00–00:00     4.3      0     65   \n",
       "10                           ежедневно, круглосуточно     4.5      0    102   \n",
       "11                             ежедневно, 10:00–21:00     4.9      0     -1   \n",
       "12                                  вт-сб 09:00–18:00     4.3      0     -1   \n",
       "13                             ежедневно, 08:00–22:00     4.8      1    180   \n",
       "14                             ежедневно, 13:00–00:00     4.2      0     -1   \n",
       "15                  пн-пт 08:30–18:30; сб 10:00–20:00     4.1      0    180   \n",
       "16                             ежедневно, 10:00–23:00     4.2      0     -1   \n",
       "17                           ежедневно, круглосуточно     4.4      0     96   \n",
       "18                             ежедневно, 09:00–21:00     4.3      0     25   \n",
       "19                           ежедневно, круглосуточно     4.4      1     -1   \n",
       "\n",
       "            price                       avg_bill  middle_avg_bill  \\\n",
       "0      нет данных                     нет данных               -1   \n",
       "1   выше среднего       средний счёт:1500–1600 ₽             1550   \n",
       "2         средние         средний счёт:от 1000 ₽             1000   \n",
       "3      нет данных  цена чашки капучино:155–185 ₽               -1   \n",
       "4         средние         средний счёт:400–600 ₽              500   \n",
       "5         средние                     нет данных               -1   \n",
       "6         средние             средний счёт:199 ₽              199   \n",
       "7         средние         средний счёт:200–300 ₽              250   \n",
       "8         средние          средний счёт:от 500 ₽              500   \n",
       "9         средние       средний счёт:1000–1200 ₽             1100   \n",
       "10        средние     цена бокала пива:250–350 ₽               -1   \n",
       "11     нет данных                     нет данных               -1   \n",
       "12        средние             средний счёт:330 ₽              330   \n",
       "13     нет данных                     нет данных               -1   \n",
       "14  выше среднего            средний счёт:1500 ₽             1500   \n",
       "15        средние         средний счёт:300–500 ₽              400   \n",
       "16        средние         средний счёт:140–350 ₽              245   \n",
       "17        средние         средний счёт:350–500 ₽              425   \n",
       "18        средние         средний счёт:200–300 ₽              250   \n",
       "19     нет данных                     нет данных               -1   \n",
       "\n",
       "    middle_coffee_cup  is_24_7  \n",
       "0                  -1        0  \n",
       "1                  -1        0  \n",
       "2                  -1        0  \n",
       "3                 170        0  \n",
       "4                  -1        0  \n",
       "5                  -1        0  \n",
       "6                  -1        0  \n",
       "7                  -1        0  \n",
       "8                  -1        0  \n",
       "9                  -1        0  \n",
       "10                 -1        1  \n",
       "11                 -1        0  \n",
       "12                 -1        0  \n",
       "13                 -1        0  \n",
       "14                 -1        0  \n",
       "15                 -1        0  \n",
       "16                 -1        0  \n",
       "17                 -1        1  \n",
       "18                 -1        0  \n",
       "19                 -1        1  "
      ]
     },
     "execution_count": 22,
     "metadata": {},
     "output_type": "execute_result"
    }
   ],
   "source": [
    "#создаем новый столбец 'is_24_7' с булевыми значениями на основе данных в столбце' hours':\n",
    "df['is_24_7'] = df['hours'].str.contains('круглосуточно', na=False) & df['hours'].str.contains('ежедневно', na=False)\n",
    "#Приведем полученный столбцец к целочисленному типу\n",
    "#и сразу оптимизируем его разрядность по аналогии с другими столбцами-индикаторами в таблице:\n",
    "df['is_24_7'] = df['is_24_7'].astype(int)\n",
    "df['is_24_7'] = pd.to_numeric(df['is_24_7'], downcast='integer')\n",
    "#Выведем информацию о подготовленной к анализу таблице, чтобы проверить корректность проведенных изменений:\n",
    "df.info()\n",
    "df.head(20)"
   ]
  },
  {
   "cell_type": "markdown",
   "id": "b07857ce",
   "metadata": {},
   "source": [
    "Изменения проведены корректно."
   ]
  },
  {
   "cell_type": "markdown",
   "id": "562f30ab",
   "metadata": {
    "id": "562f30ab"
   },
   "source": [
    "---\n",
    "\n",
    "### Промежуточный вывод"
   ]
  },
  {
   "cell_type": "markdown",
   "id": "33f499d2",
   "metadata": {
    "id": "4e587ce1"
   },
   "source": [
    "Мы завершили предобработку данных. В результате проведенной работы мы:\n",
    "- провели оптимизацию типов данных в таблице: столбцы 'chain', 'seats', 'middle_avg_bill', 'middle_coffee_cup' преобразованы в целочисленной тип с наименьшей разрядностью;\n",
    "- изучили пропуски в данных. Пропуски обнаружились в столбцах  'hours', 'seats', 'price', 'avg_bill', 'middle_avg_bill', 'middle_coffee_cup' и их процент выше 5%.  Скорее всего пропуски являются следствием метода сбора информации и отсутсвия нужной информации в источниках, но так как их много и удаление приведет к потере большого количества информации, мы заменили их на индикаторы;\n",
    "- нашли и удалили 4 дубликата;\n",
    "- добавили новый столбец-индикатор с целочисленным типом данных, указывающий на наличие режима работы 24/7."
   ]
  },
  {
   "cell_type": "markdown",
   "id": "6c2fca19",
   "metadata": {
    "id": "e3388762"
   },
   "source": [
    "В подготовленной для анализа таблице:\n",
    "- 8402 строки и 14 столбцов,\n",
    "- 10 столбцов с категориальными данными, 2 из которых представлены целочисленным типом и 8 строковыми,\n",
    "- 4 столбца с количественными величинами, 1 из которых представлен типом float64 и 3 целочисленным типом."
   ]
  },
  {
   "cell_type": "markdown",
   "id": "f498d8b5",
   "metadata": {
    "id": "b55c46cb"
   },
   "source": [
    "[*К содержанию*](#intro) "
   ]
  },
  {
   "cell_type": "markdown",
   "id": "6953e84c",
   "metadata": {
    "id": "6953e84c"
   },
   "source": [
    "## 3. Исследовательский анализ данных<a id='3'></a>"
   ]
  },
  {
   "cell_type": "markdown",
   "id": "8555d840",
   "metadata": {
    "id": "8555d840"
   },
   "source": [
    "---\n",
    "\n",
    "### Задача 1"
   ]
  },
  {
   "cell_type": "markdown",
   "id": "d25a705d",
   "metadata": {
    "id": "ef2bffe9"
   },
   "source": [
    "Начнём с изучения категориальных данных. Выясним какие категории заведений представлены в данных, узнаем их количество и соотношение, создадим соответсвующую визуализацию для наглядности.\n",
    "Будем использовать метод value_counts() с аргументом normalize=True, чтобы сравнить доли значений."
   ]
  },
  {
   "cell_type": "code",
   "execution_count": 23,
   "id": "71ab5e91",
   "metadata": {
    "id": "71ab5e91"
   },
   "outputs": [
    {
     "data": {
      "text/plain": [
       "кафе               2376\n",
       "ресторан           2041\n",
       "кофейня            1413\n",
       "бар,паб             765\n",
       "пиццерия            633\n",
       "быстрое питание     603\n",
       "столовая            315\n",
       "булочная            256\n",
       "Name: category, dtype: int64"
      ]
     },
     "execution_count": 23,
     "metadata": {},
     "output_type": "execute_result"
    }
   ],
   "source": [
    "#Подсчитаем количество заведений по категориям в абсолютных значениях\n",
    "df['category'].value_counts()"
   ]
  },
  {
   "cell_type": "code",
   "execution_count": 24,
   "id": "1fb96184",
   "metadata": {},
   "outputs": [
    {
     "data": {
      "text/plain": [
       "кафе               0.282790\n",
       "ресторан           0.242918\n",
       "кофейня            0.168174\n",
       "бар,паб            0.091050\n",
       "пиццерия           0.075339\n",
       "быстрое питание    0.071769\n",
       "столовая           0.037491\n",
       "булочная           0.030469\n",
       "Name: category, dtype: float64"
      ]
     },
     "execution_count": 24,
     "metadata": {},
     "output_type": "execute_result"
    }
   ],
   "source": [
    "#Выведем доли заведений по категориям\n",
    "df['category'].value_counts(normalize=True)"
   ]
  },
  {
   "cell_type": "markdown",
   "id": "cb734dae",
   "metadata": {
    "id": "63360b97"
   },
   "source": [
    "В наших данных заведения представлены в 8 разных категориях, наиболее распространенными среди них являются кафе и рестораны.  Посмотрим на соотношение долей этих категорий заведений с помощью столбчатой диаграммы."
   ]
  },
  {
   "cell_type": "code",
   "execution_count": 25,
   "id": "aad2f972",
   "metadata": {},
   "outputs": [
    {
     "data": {
      "text/plain": [
       "кафе               0.282790\n",
       "ресторан           0.242918\n",
       "кофейня            0.168174\n",
       "бар,паб            0.091050\n",
       "пиццерия           0.075339\n",
       "быстрое питание    0.071769\n",
       "столовая           0.037491\n",
       "булочная           0.030469\n",
       "Name: category, dtype: float64"
      ]
     },
     "metadata": {},
     "output_type": "display_data"
    },
    {
     "data": {
      "image/png": "[encoded data removed]",
      "text/plain": [
       "<Figure size 864x288 with 1 Axes>"
      ]
     },
     "metadata": {
      "needs_background": "light"
     },
     "output_type": "display_data"
    }
   ],
   "source": [
    "# Создаём контейнер графика matplotlib и задаём его размер\n",
    "plt.figure(figsize=(12, 4))\n",
    "\n",
    "display(df['category'].value_counts(normalize=True))\n",
    "\n",
    "# Строим столбчатую диаграмму\n",
    "df['category'].value_counts(normalize=True).plot(\n",
    "               kind='bar', # Тип графика — столбчатая диаграмма\n",
    "               rot=0, # Градус вращения подписи по оси Х\n",
    "               title=f'Распределение заведений общепита Москвы по категориям'\n",
    ")\n",
    "\n",
    "plt.xlabel('Категория заведений')\n",
    "plt.ylabel('Доля заведений')\n",
    "plt.grid(axis='y')\n",
    "\n",
    "plt.show()"
   ]
  },
  {
   "cell_type": "markdown",
   "id": "08804f3c",
   "metadata": {},
   "source": [
    "Чуть меньше 30% заведений представлены категорией \"кафе\", ресторанов около 25%, на третьем месте по популярности кофейни (ок. 17%), далее идут бары, пиццерии и быстрое питание, имея примерно равные доли. Столовые и булочные имеют представленность менее 5%."
   ]
  },
  {
   "cell_type": "markdown",
   "id": "6821e1d0",
   "metadata": {
    "id": "6821e1d0"
   },
   "source": [
    "---\n",
    "\n",
    "### Задача 2"
   ]
  },
  {
   "cell_type": "markdown",
   "id": "32e3c571",
   "metadata": {
    "id": "e62f31be"
   },
   "source": [
    "Теперь посмотрим  какие административные районы Москвы присутствуют в данных. Будем использовать для визуализации линейчатую диаграмму для удобства чтения подписей."
   ]
  },
  {
   "cell_type": "code",
   "execution_count": 26,
   "id": "0a290cd1",
   "metadata": {
    "id": "0a290cd1"
   },
   "outputs": [
    {
     "data": {
      "text/plain": [
       "центральный административный округ         2242\n",
       "северный административный округ             898\n",
       "южный административный округ                892\n",
       "северо-восточный административный округ     890\n",
       "западный административный округ             850\n",
       "восточный административный округ            798\n",
       "юго-восточный административный округ        714\n",
       "юго-западный административный округ         709\n",
       "северо-западный административный округ      409\n",
       "Name: district, dtype: int64"
      ]
     },
     "execution_count": 26,
     "metadata": {},
     "output_type": "execute_result"
    }
   ],
   "source": [
    "#Подсчитаем количество заведений по районам в абсолютных значениях\n",
    "df['district'].value_counts()"
   ]
  },
  {
   "cell_type": "code",
   "execution_count": 27,
   "id": "75a3857e",
   "metadata": {},
   "outputs": [
    {
     "data": {
      "text/plain": [
       "центральный административный округ         0.266841\n",
       "северный административный округ            0.106879\n",
       "южный административный округ               0.106165\n",
       "северо-восточный административный округ    0.105927\n",
       "западный административный округ            0.101166\n",
       "восточный административный округ           0.094977\n",
       "юго-восточный административный округ       0.084980\n",
       "юго-западный административный округ        0.084385\n",
       "северо-западный административный округ     0.048679\n",
       "Name: district, dtype: float64"
      ]
     },
     "execution_count": 27,
     "metadata": {},
     "output_type": "execute_result"
    }
   ],
   "source": [
    "#Выведем доли заведений по районам\n",
    "df['district'].value_counts(normalize=True)"
   ]
  },
  {
   "cell_type": "code",
   "execution_count": 28,
   "id": "41f1654a",
   "metadata": {
    "id": "41f1654a"
   },
   "outputs": [
    {
     "data": {
      "image/png": "[encoded data removed]",
      "text/plain": [
       "<Figure size 1080x576 with 1 Axes>"
      ]
     },
     "metadata": {
      "needs_background": "light"
     },
     "output_type": "display_data"
    }
   ],
   "source": [
    "# Создаём контейнер графика matplotlib и задаём его размер\n",
    "plt.figure(figsize=(15, 8))\n",
    "\n",
    "# Строим линейчатую диаграмму с соотношением долей разных районов Москвы в общем количестве заведений.\n",
    "df['district'].value_counts(normalize=True).plot(\n",
    "               kind='barh', # Тип графика — линейчатую диаграмма\n",
    "               rot=0, # Градус вращения подписи по оси Х\n",
    "               title=f'Распределение заведений общепита по районам Москвы'\n",
    ")\n",
    "\n",
    "plt.xlabel('Район')\n",
    "plt.ylabel('Доля заведений')\n",
    "plt.grid(axis='y')\n",
    "\n",
    "plt.show()"
   ]
  },
  {
   "cell_type": "markdown",
   "id": "b1b7abbc",
   "metadata": {},
   "source": [
    "Итак, заведения общепита распределены по 9 районам Москвы. Большинство заведений (ок. 27%) сосредоточены в Центральном административном округе, меньше всего (менее 5%) - в Северо-западном. Остальные районы представлены относительно равномерно от 8 до 11%."
   ]
  },
  {
   "cell_type": "markdown",
   "id": "edcbbcc5",
   "metadata": {},
   "source": [
    "Рассмотрим распределение заведений по каждой категории в самом представленном районе - Центральном административном округе Москвы. "
   ]
  },
  {
   "cell_type": "code",
   "execution_count": 29,
   "id": "646da225",
   "metadata": {},
   "outputs": [
    {
     "data": {
      "text/plain": [
       "ресторан           0.298840\n",
       "кафе               0.206958\n",
       "кофейня            0.190901\n",
       "бар,паб            0.162355\n",
       "пиццерия           0.050401\n",
       "быстрое питание    0.038805\n",
       "столовая           0.029438\n",
       "булочная           0.022302\n",
       "Name: category, dtype: float64"
      ]
     },
     "metadata": {},
     "output_type": "display_data"
    },
    {
     "data": {
      "image/png": "[encoded data removed]",
      "text/plain": [
       "<Figure size 864x288 with 1 Axes>"
      ]
     },
     "metadata": {
      "needs_background": "light"
     },
     "output_type": "display_data"
    }
   ],
   "source": [
    "# Создаём контейнер графика matplotlib и задаём его размер\n",
    "plt.figure(figsize=(12, 4))\n",
    "\n",
    "display(df[df['district']=='центральный административный округ']['category'].value_counts(normalize=True))\n",
    "\n",
    "# Строим столбчатую диаграмму для столбца с категориями заведений на основе отфильтрованной по центральному району таблицы\n",
    "df[df['district']=='центральный административный округ']['category'].value_counts(normalize=True).plot(\n",
    "               kind='bar',\n",
    "               rot=0, \n",
    "               title=f'Распределение заведений общепита в Центральном округе Москвы по категориям'\n",
    ")\n",
    "\n",
    "plt.xlabel('Категории заведений')\n",
    "plt.ylabel('Доля заведений')\n",
    "plt.grid(axis='y')\n",
    "\n",
    "plt.show()"
   ]
  },
  {
   "cell_type": "code",
   "execution_count": 30,
   "id": "e1e29108",
   "metadata": {},
   "outputs": [
    {
     "data": {
      "text/plain": [
       "бар,паб            2.494033\n",
       "булочная           0.666880\n",
       "быстрое питание    0.463249\n",
       "кафе               0.666769\n",
       "кофейня            1.193858\n",
       "пиццерия           0.597063\n",
       "ресторан           1.342711\n",
       "столовая           0.728265\n",
       "Name: category, dtype: float64"
      ]
     },
     "execution_count": 30,
     "metadata": {},
     "output_type": "execute_result"
    }
   ],
   "source": [
    "df[df[\"district\"] == \"центральный административный округ\"][\"category\"].value_counts(\n",
    "    normalize=True\n",
    ") / df[df[\"district\"] != \"центральный административный округ\"][\"category\"].value_counts(\n",
    "    normalize=True\n",
    ")"
   ]
  },
  {
   "cell_type": "code",
   "execution_count": 31,
   "id": "fea3ae01",
   "metadata": {},
   "outputs": [
    {
     "data": {
      "text/plain": [
       "бар,паб            0.400957\n",
       "булочная           1.499519\n",
       "быстрое питание    2.158665\n",
       "кафе               1.499770\n",
       "кофейня            0.837621\n",
       "пиццерия           1.674865\n",
       "ресторан           0.744762\n",
       "столовая           1.373126\n",
       "Name: category, dtype: float64"
      ]
     },
     "execution_count": 31,
     "metadata": {},
     "output_type": "execute_result"
    }
   ],
   "source": [
    "df[df[\"district\"] != \"центральный административный округ\"][\"category\"].value_counts(\n",
    "    normalize=True\n",
    ") / df[df[\"district\"] == \"центральный административный округ\"][\"category\"].value_counts(\n",
    "    normalize=True\n",
    ")"
   ]
  },
  {
   "cell_type": "markdown",
   "id": "fa85d9fe",
   "metadata": {},
   "source": [
    "Итак, мы видим, что распредение заведений по категориям в Центральном районе не совпадает с общей картиной по Москве. Здесь доля ресторанов значительно выше всех остальных категорий - 30%. Меньше кафе, пиццерий, булочных, точек быстрого питания и пиццерий, но ощутимо больше (в 2,5 раза больше, чем в остальных районах!) баров и пабов. "
   ]
  },
  {
   "cell_type": "markdown",
   "id": "7c824f58",
   "metadata": {
    "id": "7c824f58"
   },
   "source": [
    "---\n",
    "\n",
    "### Задача 3"
   ]
  },
  {
   "cell_type": "markdown",
   "id": "4eaf6218",
   "metadata": {
    "id": "ef442d1a"
   },
   "source": [
    "Теперь найдем  соотношение сетевых и несетевых заведений в целом по всем данным и в разрезе категорий заведения. "
   ]
  },
  {
   "cell_type": "code",
   "execution_count": 32,
   "id": "0de29fa2",
   "metadata": {
    "id": "0de29fa2"
   },
   "outputs": [
    {
     "data": {
      "text/plain": [
       "0    0.618543\n",
       "1    0.381457\n",
       "Name: chain, dtype: float64"
      ]
     },
     "execution_count": 32,
     "metadata": {},
     "output_type": "execute_result"
    }
   ],
   "source": [
    "#найдем соотношение сетевых и несетевых заведений в целом по всем данным:\n",
    "df['chain'].value_counts(normalize=True)"
   ]
  },
  {
   "cell_type": "code",
   "execution_count": 33,
   "id": "e9b3df23",
   "metadata": {},
   "outputs": [
    {
     "data": {
      "image/png": "[encoded data removed]",
      "text/plain": [
       "<Figure size 288x288 with 1 Axes>"
      ]
     },
     "metadata": {},
     "output_type": "display_data"
    }
   ],
   "source": [
    "# Построим круговую диаграмму\n",
    "plt.figure(figsize=(4, 4))  \n",
    "plt.pie(df['chain'].value_counts(normalize=True),\n",
    "        labels=['0 - несетевое заведение', '1-сетевое заведение'],\n",
    "        autopct='%1.1f%%')\n",
    "\n",
    "plt.axis('equal') \n",
    "\n",
    "plt.title('Соотношение сетевых и несетевых заведений Москвы')\n",
    "\n",
    "plt.show()"
   ]
  },
  {
   "cell_type": "markdown",
   "id": "f7c8cc1f",
   "metadata": {
    "id": "a139bd72"
   },
   "source": [
    "38% заведений Москвы являются сетевыми - это довольно высокий процент, но несетевых заведений все же большинство. Теперь посмотрим количество и соотношение сетевых и несетевых заведений в разрезе категорий заведений."
   ]
  },
  {
   "cell_type": "code",
   "execution_count": 34,
   "id": "6c4f42f2",
   "metadata": {},
   "outputs": [
    {
     "data": {
      "image/png": "[encoded data removed]",
      "text/plain": [
       "<Figure size 1008x288 with 1 Axes>"
      ]
     },
     "metadata": {
      "needs_background": "light"
     },
     "output_type": "display_data"
    }
   ],
   "source": [
    "# Построим график столбчатой диаграммы\n",
    "grouped_chain_count = df.groupby('category')['chain'].value_counts().unstack(fill_value=0)\n",
    "grouped_chain_count.plot(kind='bar',\n",
    "               title=f'Распределение принадлежности заведений к сети в разрезе категорий',\n",
    "               legend=True,\n",
    "               ylabel='Количество заведений',\n",
    "               xlabel='Категория заведений',\n",
    "               rot=0,\n",
    "               figsize=(14, 4))\n",
    "plt.grid(axis='y')\n",
    "\n",
    "plt.show()"
   ]
  },
  {
   "cell_type": "markdown",
   "id": "96903cff",
   "metadata": {},
   "source": [
    "Теперь построим график, отображающий соотношение сетевых и несетевых заведений для каждой категории."
   ]
  },
  {
   "cell_type": "code",
   "execution_count": 35,
   "id": "9aac1a7e",
   "metadata": {},
   "outputs": [
    {
     "data": {
      "text/html": [
       "<div>\n",
       "<style scoped>\n",
       "    .dataframe tbody tr th:only-of-type {\n",
       "        vertical-align: middle;\n",
       "    }\n",
       "\n",
       "    .dataframe tbody tr th {\n",
       "        vertical-align: top;\n",
       "    }\n",
       "\n",
       "    .dataframe thead th {\n",
       "        text-align: right;\n",
       "    }\n",
       "</style>\n",
       "<table border=\"1\" class=\"dataframe\">\n",
       "  <thead>\n",
       "    <tr style=\"text-align: right;\">\n",
       "      <th>chain</th>\n",
       "      <th>0</th>\n",
       "      <th>1</th>\n",
       "    </tr>\n",
       "    <tr>\n",
       "      <th>category</th>\n",
       "      <th></th>\n",
       "      <th></th>\n",
       "    </tr>\n",
       "  </thead>\n",
       "  <tbody>\n",
       "    <tr>\n",
       "      <th>булочная</th>\n",
       "      <td>0.386719</td>\n",
       "      <td>0.613281</td>\n",
       "    </tr>\n",
       "    <tr>\n",
       "      <th>пиццерия</th>\n",
       "      <td>0.478673</td>\n",
       "      <td>0.521327</td>\n",
       "    </tr>\n",
       "    <tr>\n",
       "      <th>кофейня</th>\n",
       "      <td>0.490446</td>\n",
       "      <td>0.509554</td>\n",
       "    </tr>\n",
       "    <tr>\n",
       "      <th>быстрое питание</th>\n",
       "      <td>0.615257</td>\n",
       "      <td>0.384743</td>\n",
       "    </tr>\n",
       "    <tr>\n",
       "      <th>ресторан</th>\n",
       "      <td>0.642332</td>\n",
       "      <td>0.357668</td>\n",
       "    </tr>\n",
       "    <tr>\n",
       "      <th>кафе</th>\n",
       "      <td>0.672138</td>\n",
       "      <td>0.327862</td>\n",
       "    </tr>\n",
       "    <tr>\n",
       "      <th>столовая</th>\n",
       "      <td>0.720635</td>\n",
       "      <td>0.279365</td>\n",
       "    </tr>\n",
       "    <tr>\n",
       "      <th>бар,паб</th>\n",
       "      <td>0.779085</td>\n",
       "      <td>0.220915</td>\n",
       "    </tr>\n",
       "  </tbody>\n",
       "</table>\n",
       "</div>"
      ],
      "text/plain": [
       "chain                   0         1\n",
       "category                           \n",
       "булочная         0.386719  0.613281\n",
       "пиццерия         0.478673  0.521327\n",
       "кофейня          0.490446  0.509554\n",
       "быстрое питание  0.615257  0.384743\n",
       "ресторан         0.642332  0.357668\n",
       "кафе             0.672138  0.327862\n",
       "столовая         0.720635  0.279365\n",
       "бар,паб          0.779085  0.220915"
      ]
     },
     "metadata": {},
     "output_type": "display_data"
    },
    {
     "data": {
      "image/png": "[encoded data removed]",
      "text/plain": [
       "<Figure size 1008x288 with 1 Axes>"
      ]
     },
     "metadata": {
      "needs_background": "light"
     },
     "output_type": "display_data"
    }
   ],
   "source": [
    "#Теперь построим график отображающий соотношение долей сетевых и несетевых заведений для всех категорий.\n",
    "grouped_chain_share = df.groupby('category')['chain'].value_counts(normalize=True).unstack(fill_value=0).sort_values(by=[0])\n",
    "display(grouped_chain_share)\n",
    "grouped_chain_share.plot(kind='bar',\n",
    "               title=f'Соотношение сетевых(1) и несетевых(0) заведений для разных категорий',\n",
    "               legend=True,\n",
    "               stacked=True,          \n",
    "               xlabel='Категория заведений',\n",
    "               rot=0,\n",
    "               figsize=(14, 4))\n",
    "\n",
    "# Рассчитываем среднее значение доли несетевых заведений для всех категорий:\n",
    "nonchain_share = df['chain'].value_counts(normalize=True)[0]\n",
    "\n",
    "# Наносим на график линию с долей сетей:\n",
    "plt.axhline(nonchain_share, \n",
    "            color='red', \n",
    "            linestyle='--', \n",
    "            linewidth=1, \n",
    "            label=f'Доля несетевых заведений по всем категориям{round(nonchain_share,2)}')\n",
    "\n",
    "plt.grid(axis='y')\n",
    "\n",
    "plt.show()"
   ]
  },
  {
   "cell_type": "markdown",
   "id": "844affb1",
   "metadata": {},
   "source": [
    "Соотношение сетевых и несетевых заведений в разрезе категорий заведений довольно сильно отличается. Чаще всего сетевыми заведениями являются булочные (61%),  пиццерии (52%) и кофейни  (51%). В остальных категориях преобладает доля несетевых заведений. Причем самая низкая доля сетевых заведений - среди баров и пабов."
   ]
  },
  {
   "cell_type": "markdown",
   "id": "5913c3e3",
   "metadata": {
    "id": "5913c3e3"
   },
   "source": [
    "---\n",
    "\n",
    "### Задача 4\n"
   ]
  },
  {
   "cell_type": "markdown",
   "id": "a62a6e12",
   "metadata": {},
   "source": [
    "Теперь посмотрим на количество посадочных мест в заведениях, значения этого столбца относятся к непрерывным вещественным данным. При знакомстве с этими данными вначале стоит оценить статические показатели. Для этого используем метод describe():"
   ]
  },
  {
   "cell_type": "code",
   "execution_count": 36,
   "id": "6cb238d2",
   "metadata": {
    "id": "6cb238d2"
   },
   "outputs": [
    {
     "data": {
      "text/plain": [
       "count    4792.000000\n",
       "mean      108.361436\n",
       "std       122.841130\n",
       "min         0.000000\n",
       "25%        40.000000\n",
       "50%        75.000000\n",
       "75%       140.000000\n",
       "max      1288.000000\n",
       "Name: seats, dtype: float64"
      ]
     },
     "execution_count": 36,
     "metadata": {},
     "output_type": "execute_result"
    }
   ],
   "source": [
    "#Отфильтруем данные от индикаторов:\n",
    "df_filt_seats = df[df['seats'] >= 0].copy()\n",
    "# Изучаем статистические показатели столбца 'seats', исключая строки с индикаторами:\n",
    "df_filt_seats['seats'].describe()"
   ]
  },
  {
   "cell_type": "markdown",
   "id": "b9afb403",
   "metadata": {
    "id": "062b55d8"
   },
   "source": [
    "Итак, мы имеем информацию по количеству посадочных мест для 4792 заведений. Среднее значение равно 108 посадочным местам, при этом медиана равна 75, что уже говорит о неравномерном распределении и возможно о наличиии выбросов. Это же подтверждает и большое значение стандартного отклонения, а также максимальное значение, которое более, чем в 10 раз превышает среднее.\n",
    "Проверим это и построим гистограмму распределения значений и диаграмму размаха для столбца с балансом."
   ]
  },
  {
   "cell_type": "code",
   "execution_count": 37,
   "id": "ceadf25b",
   "metadata": {
    "id": "ceadf25b"
   },
   "outputs": [
    {
     "data": {
      "image/png": "[encoded data removed]",
      "text/plain": [
       "<Figure size 1080x288 with 1 Axes>"
      ]
     },
     "metadata": {
      "needs_background": "light"
     },
     "output_type": "display_data"
    }
   ],
   "source": [
    "# Создаём контейнер графика matplotlib и задаём его размер\n",
    "plt.figure(figsize=(15, 4))\n",
    "\n",
    "# Строим гистограмму\n",
    "df_filt_seats['seats'].plot(\n",
    "                kind='hist', # Тип графика - гистограмма\n",
    "                bins=100, # Устанавливаем количество корзин \n",
    "                alpha=0.75,\n",
    "                edgecolor='black',\n",
    "                rot=0, # Градус вращения подписи по оси Х\n",
    ")\n",
    "\n",
    "plt.title('Распределение значений посадочных мест в заведениях')\n",
    "plt.xlabel('Количество посадочных мест')\n",
    "plt.ylabel('Частота')\n",
    "plt.grid()\n",
    "\n",
    "plt.show()"
   ]
  },
  {
   "cell_type": "markdown",
   "id": "f1277944",
   "metadata": {},
   "source": [
    "График распределения подтвердил нашу теорию о неранвомерном распределнии, а также наличии выбросов, которые искажают статистические данные и в частности среднюю величину. Встречаются заведения с очень большьшим количеством посадочных мест, которые можно отнести в выбросам. Построим диаграмму размаха."
   ]
  },
  {
   "cell_type": "code",
   "execution_count": 38,
   "id": "d4b59ac2",
   "metadata": {},
   "outputs": [
    {
     "data": {
      "image/png": "[encoded data removed]",
      "text/plain": [
       "<Figure size 1080x288 with 1 Axes>"
      ]
     },
     "metadata": {
      "needs_background": "light"
     },
     "output_type": "display_data"
    }
   ],
   "source": [
    "# Создаём контейнер графика matplotlib и задаём его размер\n",
    "plt.figure(figsize=(15, 4))\n",
    "\n",
    "# Строим диаграмму размаха значений в столбце balance\n",
    "df_filt_seats.boxplot(column='seats', vert=False)\n",
    "\n",
    "plt.title('Распределение посадочных мест в заведениях Москвы')\n",
    "plt.xlabel('Количество посадочных мест')\n",
    "\n",
    "plt.show()"
   ]
  },
  {
   "cell_type": "markdown",
   "id": "8c9defaa",
   "metadata": {},
   "source": [
    "Рассчитаем межквартильный размах IQR для дальнейшей фильтрации данных от выбросов и корректного расчета статистических показателей. Так как распределение сильно смещено влево, возьмем коэфициент не 1,5, а 3 для расчета верхней границы данных."
   ]
  },
  {
   "cell_type": "code",
   "execution_count": 39,
   "id": "f2cb6dcc",
   "metadata": {},
   "outputs": [
    {
     "name": "stdout",
     "output_type": "stream",
     "text": [
      "75 процентиль равен 140.0\n",
      "25 процентиль равен 40.0\n",
      "Значение IQR равно 100.0\n",
      "Верхний порог выбросов по графику равен 290.0\n",
      "Скорректированный верхний порог значений без выбросов равен 440.0\n"
     ]
    }
   ],
   "source": [
    "#Находим IQR для столбца с посадочными местами \n",
    "#и далее с его помощью верхнюю границу значений, выше которой данные будут считаться выбросами:\n",
    "q_75 = df_filt_seats['seats'].quantile(0.75)\n",
    "q_25 = df_filt_seats['seats'].quantile(0.25)\n",
    "seats_iqr = q_75 - q_25\n",
    "upper_threshold = q_75 + (1.5*seats_iqr)\n",
    "max_limit = q_75 + (3*seats_iqr)\n",
    "print(f'75 процентиль равен {q_75}')\n",
    "print(f'25 процентиль равен {q_25}')\n",
    "print(f'Значение IQR равно {seats_iqr}')\n",
    "print(f'Верхний порог выбросов по графику равен {upper_threshold}')\n",
    "print(f'Скорректированный верхний порог значений без выбросов равен {max_limit}')"
   ]
  },
  {
   "cell_type": "markdown",
   "id": "ed8f1d1c",
   "metadata": {},
   "source": [
    "Итак, мы получили данные, что 50% значений посадочных мест сосредоточны в диапозоне от 40 до 140. Верхнюю границу значений, с которыми мы будем работать, условно определили на уровне 440 мест. Нижняя граница равна 0."
   ]
  },
  {
   "cell_type": "markdown",
   "id": "81570da9",
   "metadata": {},
   "source": [
    "Как мы видим, медиана смещена влево, слева выбросы отсутсвуют, справа выбросов очень много и они сильно разбросаны. Для того, чтобы определить являются ли они случайными, посмотрим на заведения со значением посадочных мест, которые попали на графике в зону выбросов."
   ]
  },
  {
   "cell_type": "code",
   "execution_count": 40,
   "id": "0b7e25cd",
   "metadata": {},
   "outputs": [
    {
     "data": {
      "text/html": [
       "<div>\n",
       "<style scoped>\n",
       "    .dataframe tbody tr th:only-of-type {\n",
       "        vertical-align: middle;\n",
       "    }\n",
       "\n",
       "    .dataframe tbody tr th {\n",
       "        vertical-align: top;\n",
       "    }\n",
       "\n",
       "    .dataframe thead th {\n",
       "        text-align: right;\n",
       "    }\n",
       "</style>\n",
       "<table border=\"1\" class=\"dataframe\">\n",
       "  <thead>\n",
       "    <tr style=\"text-align: right;\">\n",
       "      <th></th>\n",
       "      <th>id</th>\n",
       "      <th>name</th>\n",
       "      <th>category</th>\n",
       "      <th>address</th>\n",
       "      <th>district</th>\n",
       "      <th>hours</th>\n",
       "      <th>rating</th>\n",
       "      <th>chain</th>\n",
       "      <th>seats</th>\n",
       "      <th>price</th>\n",
       "      <th>avg_bill</th>\n",
       "      <th>middle_avg_bill</th>\n",
       "      <th>middle_coffee_cup</th>\n",
       "      <th>is_24_7</th>\n",
       "    </tr>\n",
       "  </thead>\n",
       "  <tbody>\n",
       "    <tr>\n",
       "      <th>127</th>\n",
       "      <td>8dd9dbd5defd45dbbebae8cecfdde80b</td>\n",
       "      <td>арарат</td>\n",
       "      <td>кафе</td>\n",
       "      <td>москва, дмитровское шоссе, 165, корп. 1</td>\n",
       "      <td>северо-восточный административный округ</td>\n",
       "      <td>ежедневно, 06:00–20:00</td>\n",
       "      <td>4.2</td>\n",
       "      <td>1</td>\n",
       "      <td>350</td>\n",
       "      <td>нет данных</td>\n",
       "      <td>нет данных</td>\n",
       "      <td>-1</td>\n",
       "      <td>-1</td>\n",
       "      <td>0</td>\n",
       "    </tr>\n",
       "    <tr>\n",
       "      <th>171</th>\n",
       "      <td>4b1169021ed44f77a0cc02a0c095cb43</td>\n",
       "      <td>one price coffee</td>\n",
       "      <td>кофейня</td>\n",
       "      <td>москва, дмитровское шоссе, 163а, корп. 1</td>\n",
       "      <td>северо-восточный административный округ</td>\n",
       "      <td>ежедневно, 10:00–22:00</td>\n",
       "      <td>4.0</td>\n",
       "      <td>1</td>\n",
       "      <td>350</td>\n",
       "      <td>нет данных</td>\n",
       "      <td>нет данных</td>\n",
       "      <td>-1</td>\n",
       "      <td>-1</td>\n",
       "      <td>0</td>\n",
       "    </tr>\n",
       "    <tr>\n",
       "      <th>176</th>\n",
       "      <td>34fd25c6f73141d6967f2d9c72bf5f61</td>\n",
       "      <td>вуди пицца</td>\n",
       "      <td>пиццерия</td>\n",
       "      <td>москва, дмитровское шоссе, 107а, корп. 1</td>\n",
       "      <td>северный административный округ</td>\n",
       "      <td>пн-пт 08:00–21:00; сб,вс 09:00–21:00</td>\n",
       "      <td>4.0</td>\n",
       "      <td>0</td>\n",
       "      <td>350</td>\n",
       "      <td>средние</td>\n",
       "      <td>средний счёт:400–600 ₽</td>\n",
       "      <td>500</td>\n",
       "      <td>-1</td>\n",
       "      <td>0</td>\n",
       "    </tr>\n",
       "    <tr>\n",
       "      <th>194</th>\n",
       "      <td>ec6f40b747fc4b45bbb0102d12ce8eef</td>\n",
       "      <td>ленкорань</td>\n",
       "      <td>кафе</td>\n",
       "      <td>москва, дмитровское шоссе, 165, корп. 1</td>\n",
       "      <td>северо-восточный административный округ</td>\n",
       "      <td>ежедневно, 06:00–20:00</td>\n",
       "      <td>1.4</td>\n",
       "      <td>0</td>\n",
       "      <td>350</td>\n",
       "      <td>нет данных</td>\n",
       "      <td>нет данных</td>\n",
       "      <td>-1</td>\n",
       "      <td>-1</td>\n",
       "      <td>0</td>\n",
       "    </tr>\n",
       "    <tr>\n",
       "      <th>215</th>\n",
       "      <td>4f4e35b59a6a4d96a67780fd1694179b</td>\n",
       "      <td>грузинский бульвар</td>\n",
       "      <td>быстрое питание</td>\n",
       "      <td>москва, дмитровское шоссе, 163а, корп. 1</td>\n",
       "      <td>северо-восточный административный округ</td>\n",
       "      <td>ежедневно, 10:00–22:00</td>\n",
       "      <td>4.0</td>\n",
       "      <td>0</td>\n",
       "      <td>350</td>\n",
       "      <td>нет данных</td>\n",
       "      <td>нет данных</td>\n",
       "      <td>-1</td>\n",
       "      <td>-1</td>\n",
       "      <td>0</td>\n",
       "    </tr>\n",
       "    <tr>\n",
       "      <th>...</th>\n",
       "      <td>...</td>\n",
       "      <td>...</td>\n",
       "      <td>...</td>\n",
       "      <td>...</td>\n",
       "      <td>...</td>\n",
       "      <td>...</td>\n",
       "      <td>...</td>\n",
       "      <td>...</td>\n",
       "      <td>...</td>\n",
       "      <td>...</td>\n",
       "      <td>...</td>\n",
       "      <td>...</td>\n",
       "      <td>...</td>\n",
       "      <td>...</td>\n",
       "    </tr>\n",
       "    <tr>\n",
       "      <th>8194</th>\n",
       "      <td>5cc55d53a83547e588d403c5ada1d28f</td>\n",
       "      <td>милти</td>\n",
       "      <td>быстрое питание</td>\n",
       "      <td>москва, улица ленинская слобода, 19</td>\n",
       "      <td>южный административный округ</td>\n",
       "      <td>пн-пт 09:00–19:00</td>\n",
       "      <td>3.8</td>\n",
       "      <td>0</td>\n",
       "      <td>450</td>\n",
       "      <td>нет данных</td>\n",
       "      <td>нет данных</td>\n",
       "      <td>-1</td>\n",
       "      <td>-1</td>\n",
       "      <td>0</td>\n",
       "    </tr>\n",
       "    <tr>\n",
       "      <th>8216</th>\n",
       "      <td>63349daa46644d088732d6571b3dab6f</td>\n",
       "      <td>шеф гирос</td>\n",
       "      <td>быстрое питание</td>\n",
       "      <td>москва, проспект андропова, 22</td>\n",
       "      <td>южный административный округ</td>\n",
       "      <td>ежедневно, 09:00–22:00</td>\n",
       "      <td>4.2</td>\n",
       "      <td>0</td>\n",
       "      <td>300</td>\n",
       "      <td>нет данных</td>\n",
       "      <td>средний счёт:250–350 ₽</td>\n",
       "      <td>300</td>\n",
       "      <td>-1</td>\n",
       "      <td>0</td>\n",
       "    </tr>\n",
       "    <tr>\n",
       "      <th>8233</th>\n",
       "      <td>dbc3aeaf0a8543da966d01ce432d48c9</td>\n",
       "      <td>pasta cup &amp; pinsa</td>\n",
       "      <td>пиццерия</td>\n",
       "      <td>москва, автозаводская улица, 18</td>\n",
       "      <td>южный административный округ</td>\n",
       "      <td>ежедневно, 10:00–22:00</td>\n",
       "      <td>3.5</td>\n",
       "      <td>0</td>\n",
       "      <td>455</td>\n",
       "      <td>средние</td>\n",
       "      <td>средний счёт:450–700 ₽</td>\n",
       "      <td>575</td>\n",
       "      <td>-1</td>\n",
       "      <td>0</td>\n",
       "    </tr>\n",
       "    <tr>\n",
       "      <th>8311</th>\n",
       "      <td>0fe1bb796f5143359444382245e247e0</td>\n",
       "      <td>чайхана бишкек</td>\n",
       "      <td>ресторан</td>\n",
       "      <td>москва, тихорецкий бульвар, 2, корп. 1</td>\n",
       "      <td>юго-восточный административный округ</td>\n",
       "      <td>ежедневно, 09:00–01:30</td>\n",
       "      <td>4.1</td>\n",
       "      <td>0</td>\n",
       "      <td>305</td>\n",
       "      <td>нет данных</td>\n",
       "      <td>нет данных</td>\n",
       "      <td>-1</td>\n",
       "      <td>-1</td>\n",
       "      <td>0</td>\n",
       "    </tr>\n",
       "    <tr>\n",
       "      <th>8330</th>\n",
       "      <td>0d061448953e441d87b65c3f475a1be1</td>\n",
       "      <td>султан палас</td>\n",
       "      <td>ресторан</td>\n",
       "      <td>москва, грайвороновская улица, 12, корп. 2</td>\n",
       "      <td>юго-восточный административный округ</td>\n",
       "      <td>ежедневно, 11:00–02:00</td>\n",
       "      <td>4.3</td>\n",
       "      <td>0</td>\n",
       "      <td>500</td>\n",
       "      <td>выше среднего</td>\n",
       "      <td>средний счёт:1000–1500 ₽</td>\n",
       "      <td>1250</td>\n",
       "      <td>-1</td>\n",
       "      <td>0</td>\n",
       "    </tr>\n",
       "  </tbody>\n",
       "</table>\n",
       "<p>318 rows × 14 columns</p>\n",
       "</div>"
      ],
      "text/plain": [
       "                                    id                name         category  \\\n",
       "127   8dd9dbd5defd45dbbebae8cecfdde80b              арарат             кафе   \n",
       "171   4b1169021ed44f77a0cc02a0c095cb43    one price coffee          кофейня   \n",
       "176   34fd25c6f73141d6967f2d9c72bf5f61          вуди пицца         пиццерия   \n",
       "194   ec6f40b747fc4b45bbb0102d12ce8eef           ленкорань             кафе   \n",
       "215   4f4e35b59a6a4d96a67780fd1694179b  грузинский бульвар  быстрое питание   \n",
       "...                                ...                 ...              ...   \n",
       "8194  5cc55d53a83547e588d403c5ada1d28f               милти  быстрое питание   \n",
       "8216  63349daa46644d088732d6571b3dab6f           шеф гирос  быстрое питание   \n",
       "8233  dbc3aeaf0a8543da966d01ce432d48c9   pasta cup & pinsa         пиццерия   \n",
       "8311  0fe1bb796f5143359444382245e247e0      чайхана бишкек         ресторан   \n",
       "8330  0d061448953e441d87b65c3f475a1be1        султан палас         ресторан   \n",
       "\n",
       "                                         address  \\\n",
       "127      москва, дмитровское шоссе, 165, корп. 1   \n",
       "171     москва, дмитровское шоссе, 163а, корп. 1   \n",
       "176     москва, дмитровское шоссе, 107а, корп. 1   \n",
       "194      москва, дмитровское шоссе, 165, корп. 1   \n",
       "215     москва, дмитровское шоссе, 163а, корп. 1   \n",
       "...                                          ...   \n",
       "8194         москва, улица ленинская слобода, 19   \n",
       "8216              москва, проспект андропова, 22   \n",
       "8233             москва, автозаводская улица, 18   \n",
       "8311      москва, тихорецкий бульвар, 2, корп. 1   \n",
       "8330  москва, грайвороновская улица, 12, корп. 2   \n",
       "\n",
       "                                     district  \\\n",
       "127   северо-восточный административный округ   \n",
       "171   северо-восточный административный округ   \n",
       "176           северный административный округ   \n",
       "194   северо-восточный административный округ   \n",
       "215   северо-восточный административный округ   \n",
       "...                                       ...   \n",
       "8194             южный административный округ   \n",
       "8216             южный административный округ   \n",
       "8233             южный административный округ   \n",
       "8311     юго-восточный административный округ   \n",
       "8330     юго-восточный административный округ   \n",
       "\n",
       "                                     hours  rating  chain  seats  \\\n",
       "127                 ежедневно, 06:00–20:00     4.2      1    350   \n",
       "171                 ежедневно, 10:00–22:00     4.0      1    350   \n",
       "176   пн-пт 08:00–21:00; сб,вс 09:00–21:00     4.0      0    350   \n",
       "194                 ежедневно, 06:00–20:00     1.4      0    350   \n",
       "215                 ежедневно, 10:00–22:00     4.0      0    350   \n",
       "...                                    ...     ...    ...    ...   \n",
       "8194                     пн-пт 09:00–19:00     3.8      0    450   \n",
       "8216                ежедневно, 09:00–22:00     4.2      0    300   \n",
       "8233                ежедневно, 10:00–22:00     3.5      0    455   \n",
       "8311                ежедневно, 09:00–01:30     4.1      0    305   \n",
       "8330                ежедневно, 11:00–02:00     4.3      0    500   \n",
       "\n",
       "              price                  avg_bill  middle_avg_bill  \\\n",
       "127      нет данных                нет данных               -1   \n",
       "171      нет данных                нет данных               -1   \n",
       "176         средние    средний счёт:400–600 ₽              500   \n",
       "194      нет данных                нет данных               -1   \n",
       "215      нет данных                нет данных               -1   \n",
       "...             ...                       ...              ...   \n",
       "8194     нет данных                нет данных               -1   \n",
       "8216     нет данных    средний счёт:250–350 ₽              300   \n",
       "8233        средние    средний счёт:450–700 ₽              575   \n",
       "8311     нет данных                нет данных               -1   \n",
       "8330  выше среднего  средний счёт:1000–1500 ₽             1250   \n",
       "\n",
       "      middle_coffee_cup  is_24_7  \n",
       "127                  -1        0  \n",
       "171                  -1        0  \n",
       "176                  -1        0  \n",
       "194                  -1        0  \n",
       "215                  -1        0  \n",
       "...                 ...      ...  \n",
       "8194                 -1        0  \n",
       "8216                 -1        0  \n",
       "8233                 -1        0  \n",
       "8311                 -1        0  \n",
       "8330                 -1        0  \n",
       "\n",
       "[318 rows x 14 columns]"
      ]
     },
     "execution_count": 40,
     "metadata": {},
     "output_type": "execute_result"
    }
   ],
   "source": [
    "#Выведенм данные таблицы с количеством посадочных мест, попавших в зону выбросов:\n",
    "df_filt_seats[df_filt_seats['seats'] > 290]"
   ]
  },
  {
   "cell_type": "markdown",
   "id": "9e9f9e8f",
   "metadata": {},
   "source": [
    "Можно заметить, что адреса и количество посадочных мест у многих заведений совпадают, а это значит, что возможно речь идет о фудкортах, или общем количестве посадочных мест для всех заведений общепита в одном здании. А значит эти данные могут исказить наши выводы. Проверим нашу гипотезу с помщью группировки по количеству посадочных мест и адресам."
   ]
  },
  {
   "cell_type": "code",
   "execution_count": 41,
   "id": "f04b0f21",
   "metadata": {},
   "outputs": [
    {
     "data": {
      "text/plain": [
       "seats  address                                 \n",
       "100    москва, усачёва улица, 26                   26\n",
       "300    москва, площадь киевского вокзала, 2        20\n",
       "276    москва, ярцевская улица, 19                 19\n",
       "500    москва, лесная улица, 20, стр. 3            16\n",
       "45     москва, хорошёвское шоссе, 27               16\n",
       "350    москва, пресненская набережная, 2           16\n",
       "273    москва, проспект мира, 211, корп. 2         15\n",
       "86     москва, профсоюзная улица, 56               15\n",
       "92     москва, мытная улица, 74                    14\n",
       "320    москва, улица вавилова, 3                   14\n",
       "100    москва, проспект вернадского, 86а           12\n",
       "150    москва, щукинская улица, 42                 11\n",
       "160    москва, верхняя красносельская улица, 3а    11\n",
       "180    москва, проспект вернадского, 6             11\n",
       "75     москва, хабаровская улица, 15               11\n",
       "Name: id, dtype: int64"
      ]
     },
     "metadata": {},
     "output_type": "display_data"
    }
   ],
   "source": [
    "# Выведенм сгруппированные данные таблицы с количеством посадочных мест более 300 (зона выбросов):\n",
    "df_group_filt_seats = df_filt_seats.groupby([\"seats\", \"address\"])[\n",
    "    \"id\"\n",
    "].count().sort_values(ascending=False).head(15)\n",
    "display(df_group_filt_seats)\n"
   ]
  },
  {
   "cell_type": "markdown",
   "id": "5bb20657",
   "metadata": {},
   "source": [
    "Наша гипотеза подтвердилась, многие заведения, в  т.ч. с большим количеством посадочных мест, имеют одинаковые данные по адресу и количеству посадочных мест. Возможно для них указано общее количество посадочных мест для всего здания или речь идет о фудкортах."
   ]
  },
  {
   "cell_type": "markdown",
   "id": "415f3d0c",
   "metadata": {},
   "source": [
    "Теперь проверим наиболее типичное для каждой категории заведений количество посадочных мест. Рассчитаем для этого медиану для каждой категории заведений."
   ]
  },
  {
   "cell_type": "code",
   "execution_count": 42,
   "id": "a822381e",
   "metadata": {},
   "outputs": [
    {
     "data": {
      "text/plain": [
       "category\n",
       "булочная           49.5\n",
       "пиццерия           52.0\n",
       "кафе               60.0\n",
       "быстрое питание    64.0\n",
       "кофейня            75.0\n",
       "столовая           75.0\n",
       "бар,паб            80.0\n",
       "ресторан           83.0\n",
       "Name: seats, dtype: float64"
      ]
     },
     "metadata": {},
     "output_type": "display_data"
    },
    {
     "data": {
      "image/png": "[encoded data removed]",
      "text/plain": [
       "<Figure size 864x288 with 1 Axes>"
      ]
     },
     "metadata": {
      "needs_background": "light"
     },
     "output_type": "display_data"
    }
   ],
   "source": [
    "#Сгруппируем очищенные от индикаторов даенные по категориям заведений,\n",
    "#вычислим для каждого медиану и построим столбчатую диаграмму.\n",
    "grouped_seats_median = df_filt_seats[df_filt_seats['seats'] <= 440].groupby('category')['seats'].median().sort_values()\n",
    "display(grouped_seats_median)\n",
    "grouped_seats_median.plot(kind='bar',\n",
    "               title=f'Наиболее типичное количество посадочных мест для разных категорий заведений',\n",
    "               legend=False,\n",
    "               ylabel='Количество посадочных мест',\n",
    "               xlabel='Категория заведений',\n",
    "               rot=0,\n",
    "               figsize=(12, 4))\n",
    "plt.grid(axis='y')\n",
    "\n",
    "plt.show()"
   ]
  },
  {
   "cell_type": "markdown",
   "id": "a05959f8",
   "metadata": {},
   "source": [
    "Таким образом, наиболее типичное количество посадочных мест для булочных и пиццерий около 50. Для кафе и быстрого питания чуть больше - 60 и 64 соответсвенно, для коффеен и столовых - 75, для баров и ресторанов требуется больше всего места, средняя посадка - 80 и 83 места соответсвенно. На такое распределение данных очевидно повлияла выявленная нами особенность, что если заведения находятся по одному адресу, то для них указывается общее количество посадочных мест. \n",
    "\n",
    "Проверим еще один параметр для каждой категории заведений - моду или наиболее часто встречающееся количество посадочных мест."
   ]
  },
  {
   "cell_type": "code",
   "execution_count": 69,
   "id": "817a4755",
   "metadata": {},
   "outputs": [
    {
     "data": {
      "text/plain": [
       "category\n",
       "булочная             0\n",
       "быстрое питание      0\n",
       "кафе                40\n",
       "пиццерия            40\n",
       "столовая            40\n",
       "бар,паб             60\n",
       "кофейня            100\n",
       "ресторан           100\n",
       "Name: seats, dtype: int16"
      ]
     },
     "metadata": {},
     "output_type": "display_data"
    },
    {
     "data": {
      "image/png": "[encoded data removed]",
      "text/plain": [
       "<Figure size 864x288 with 1 Axes>"
      ]
     },
     "metadata": {
      "needs_background": "light"
     },
     "output_type": "display_data"
    }
   ],
   "source": [
    "#сделаем аналогичные расчеты, заменив медиану на моду.\n",
    "grouped_seats_mode = (\n",
    "    df_filt_seats[df_filt_seats[\"seats\"] <= 440]\n",
    "    .groupby(\"category\")[\"seats\"]\n",
    "    .agg(lambda x: x.mode())\n",
    "    .sort_values()\n",
    ")\n",
    "display(grouped_seats_mode)\n",
    "grouped_seats_mode.plot(kind='bar',\n",
    "               title=f'Наиболее часто встречающееся количество посадочных мест для разных категорий заведений',\n",
    "               legend=False,\n",
    "               ylabel='Количество посадочных мест',\n",
    "               xlabel='Категория заведений',\n",
    "               rot=0,\n",
    "               figsize=(12, 4))\n",
    "plt.grid(axis='y')\n",
    "\n",
    "plt.show()"
   ]
  },
  {
   "cell_type": "markdown",
   "id": "c56b34a7",
   "metadata": {},
   "source": [
    "Как видно по графику, значения моды и медианы довольно сильно расходятся. Несмотря на то, что наиболее типичное значение для булочных и быстрого питания 50 и 64 соответственно, эти заведения часто могут не иметь посадочных мест совсем. Для кафе, пиццерий и столовых самое часто встречающееся количество посадочных мест - 40, для баров - 60, для кофеен и ресторанов - 100."
   ]
  },
  {
   "cell_type": "markdown",
   "id": "8ed065ea",
   "metadata": {
    "id": "8ed065ea"
   },
   "source": [
    "---\n",
    "\n",
    "### Задача 5"
   ]
  },
  {
   "cell_type": "markdown",
   "id": "6ee47e7f",
   "metadata": {},
   "source": [
    "Теперь изучим рейтинг заведений, выведем основные статистические показатели, построим гистограмму и график размаха, посмотрим усредненные рейтинги для разных типов заведений."
   ]
  },
  {
   "cell_type": "code",
   "execution_count": 44,
   "id": "cc5206f8",
   "metadata": {
    "id": "cc5206f8"
   },
   "outputs": [
    {
     "data": {
      "text/plain": [
       "count    8402.000000\n",
       "mean        4.230017\n",
       "std         0.470320\n",
       "min         1.000000\n",
       "25%         4.100000\n",
       "50%         4.300000\n",
       "75%         4.400000\n",
       "max         5.000000\n",
       "Name: rating, dtype: float64"
      ]
     },
     "execution_count": 44,
     "metadata": {},
     "output_type": "execute_result"
    }
   ],
   "source": [
    "# Изучаем статистические показатели столбца 'seats', исключая строки с индикаторами:\n",
    "df['rating'].describe()"
   ]
  },
  {
   "cell_type": "code",
   "execution_count": 45,
   "id": "3e0ec5d7",
   "metadata": {
    "id": "3e0ec5d7"
   },
   "outputs": [
    {
     "data": {
      "image/png": "[encoded data removed]",
      "text/plain": [
       "<Figure size 1080x288 with 1 Axes>"
      ]
     },
     "metadata": {
      "needs_background": "light"
     },
     "output_type": "display_data"
    }
   ],
   "source": [
    "# Создаём контейнер графика для распределения рейтинга matplotlib и задаём его размер\n",
    "plt.figure(figsize=(15, 4))\n",
    "\n",
    "# Строим гистограмму\n",
    "df['rating'].plot(\n",
    "                kind='hist', # Тип графика - гистограмма\n",
    "                bins=30, # Устанавливаем количество корзин \n",
    "                alpha=0.75,\n",
    "                edgecolor='black',\n",
    "                rot=0, # Градус вращения подписи по оси Х\n",
    ")\n",
    "\n",
    "plt.title('Распределение значений рейтинга заведений Москвы')\n",
    "plt.xlabel('Рейтинг')\n",
    "plt.ylabel('Частота')\n",
    "plt.grid()\n",
    "\n",
    "plt.show()"
   ]
  },
  {
   "cell_type": "code",
   "execution_count": 46,
   "id": "766c86cb",
   "metadata": {
    "id": "766c86cb"
   },
   "outputs": [
    {
     "data": {
      "image/png": "[encoded data removed]",
      "text/plain": [
       "<Figure size 864x288 with 1 Axes>"
      ]
     },
     "metadata": {
      "needs_background": "light"
     },
     "output_type": "display_data"
    }
   ],
   "source": [
    "# Создаём контейнер графика для диаграммы размаха по рейтингу matplotlib и задаём его размер\n",
    "plt.figure(figsize=(12, 4))\n",
    "\n",
    "# Строим диаграмму размаха значений в столбце balance\n",
    "df.boxplot(column='rating', vert=False)\n",
    "plt.title('Распределение рейтинга заведений Москвы')\n",
    "plt.xlabel('Рейтинг')\n",
    "\n",
    "plt.show()"
   ]
  },
  {
   "cell_type": "markdown",
   "id": "6885a7ba",
   "metadata": {},
   "source": [
    "Мы видим, что наиболее типичный рейтинг заведений Москвы находится в диапозоне от 4.1 до 4.4. Медиана смещена вправо и равна 4.3, стандартное отклонение относительно небольшое. Однако те значения рейтинга, которые попали в область выбросов вряд ли можно к ним отнести, потому что в жизни действительно встречаются заведения и с рейтингом 1 и с рейтигом 5. Длинный левый хвост гистограммы указывает на то, что заведения с низким рейтингов встречаются крайне редко.\n",
    "Теперь сгруппируем данные по категориям заведений, найдем для них устредненные значения рейтинга и сделаем визуализацию."
   ]
  },
  {
   "cell_type": "code",
   "execution_count": 47,
   "id": "cb19d1e0",
   "metadata": {},
   "outputs": [
    {
     "data": {
      "text/plain": [
       "category\n",
       "бар,паб            4.4\n",
       "булочная           4.3\n",
       "быстрое питание    4.2\n",
       "кафе               4.2\n",
       "кофейня            4.3\n",
       "пиццерия           4.3\n",
       "ресторан           4.3\n",
       "столовая           4.3\n",
       "Name: rating, dtype: float64"
      ]
     },
     "metadata": {},
     "output_type": "display_data"
    },
    {
     "data": {
      "image/png": "[encoded data removed]",
      "text/plain": [
       "<Figure size 864x288 with 1 Axes>"
      ]
     },
     "metadata": {
      "needs_background": "light"
     },
     "output_type": "display_data"
    }
   ],
   "source": [
    "#Сгруппируем даенные по категориям заведений, вычислим для кажого медиану и построим столбчатую диаграмму.\n",
    "grouped_rating_median = df.groupby('category')['rating'].median()\n",
    "display(grouped_rating_median)\n",
    "grouped_rating_median.plot(kind='bar',\n",
    "               title=f'Усредненный рейтинг для разных категорий заведений',\n",
    "               legend=False,\n",
    "               ylabel='Средний рейтинг',\n",
    "               xlabel='Категория заведений',\n",
    "               rot=0,\n",
    "               figsize=(12, 4))\n",
    "plt.grid(axis='y')\n",
    "\n",
    "# Выводим график\n",
    "plt.show()"
   ]
  },
  {
   "cell_type": "markdown",
   "id": "c9a7ff78",
   "metadata": {},
   "source": [
    "Как мы видим, средний рейтинг заведений для разных категорий заведений примерно одинаковый: чуть ниже у кафе и быстрого питания, чуть выше у баров."
   ]
  },
  {
   "cell_type": "markdown",
   "id": "dd9702d9",
   "metadata": {
    "id": "dd9702d9"
   },
   "source": [
    "---\n",
    "\n",
    "### Задача 6"
   ]
  },
  {
   "cell_type": "markdown",
   "id": "8d740708",
   "metadata": {
    "id": "15400eb9"
   },
   "source": [
    "Изучим взаимосвязи рейтинга заведений с другими признаками. Для этого воспользуемся библиотекой phik, которая помогает изучать связи между данными разного типа, непрерывными и категориальными.\n",
    "Рассчитаем матрицу корреляции phi_k для данных о заведениях общепита Москвы. Для составления матрицы корреляции отберем данные, которые могут повлиять на рейтинг заведения: район, категория заведения, режим работы (круглосуточный или нет), принадлежность к сети, количество посадочных мест, категория цен в заведении."
   ]
  },
  {
   "cell_type": "code",
   "execution_count": 48,
   "id": "8f0379af",
   "metadata": {
    "id": "8f0379af"
   },
   "outputs": [
    {
     "name": "stdout",
     "output_type": "stream",
     "text": [
      "interval columns not set, guessing: ['rating', 'chain', 'seats', 'is_24_7']\n",
      "Корреляционная матрица с коэффициентом phi_k для переменной rating\n"
     ]
    },
    {
     "data": {
      "text/html": [
       "<div>\n",
       "<style scoped>\n",
       "    .dataframe tbody tr th:only-of-type {\n",
       "        vertical-align: middle;\n",
       "    }\n",
       "\n",
       "    .dataframe tbody tr th {\n",
       "        vertical-align: top;\n",
       "    }\n",
       "\n",
       "    .dataframe thead th {\n",
       "        text-align: right;\n",
       "    }\n",
       "</style>\n",
       "<table border=\"1\" class=\"dataframe\">\n",
       "  <thead>\n",
       "    <tr style=\"text-align: right;\">\n",
       "      <th></th>\n",
       "      <th>rating</th>\n",
       "    </tr>\n",
       "  </thead>\n",
       "  <tbody>\n",
       "    <tr>\n",
       "      <th>price</th>\n",
       "      <td>0.281253</td>\n",
       "    </tr>\n",
       "    <tr>\n",
       "      <th>district</th>\n",
       "      <td>0.200761</td>\n",
       "    </tr>\n",
       "    <tr>\n",
       "      <th>category</th>\n",
       "      <td>0.189677</td>\n",
       "    </tr>\n",
       "    <tr>\n",
       "      <th>is_24_7</th>\n",
       "      <td>0.150365</td>\n",
       "    </tr>\n",
       "    <tr>\n",
       "      <th>chain</th>\n",
       "      <td>0.108114</td>\n",
       "    </tr>\n",
       "    <tr>\n",
       "      <th>seats</th>\n",
       "      <td>0.000000</td>\n",
       "    </tr>\n",
       "  </tbody>\n",
       "</table>\n",
       "</div>"
      ],
      "text/plain": [
       "            rating\n",
       "price     0.281253\n",
       "district  0.200761\n",
       "category  0.189677\n",
       "is_24_7   0.150365\n",
       "chain     0.108114\n",
       "seats     0.000000"
      ]
     },
     "metadata": {},
     "output_type": "display_data"
    }
   ],
   "source": [
    "# Вычисляем корреляционную матрицу с использованием phi_k\n",
    "correlation_matrix = df[['category', 'district', 'rating', 'chain', 'seats',\n",
    "                         'price', 'is_24_7']].phik_matrix()\n",
    "\n",
    "# Выводим результат\n",
    "print('Корреляционная матрица с коэффициентом phi_k для переменной rating')\n",
    "df_heatmap = correlation_matrix.loc[correlation_matrix.index != \"rating\"][\n",
    "    [\"rating\"]\n",
    "].sort_values(by=\"rating\", ascending=False)\n",
    "display(df_heatmap)"
   ]
  },
  {
   "cell_type": "markdown",
   "id": "c2c9ad89",
   "metadata": {},
   "source": [
    "Визуализируем результат корреляции с помощью тепловой карты и библиотеки seaborn."
   ]
  },
  {
   "cell_type": "code",
   "execution_count": 49,
   "id": "c42e800b",
   "metadata": {},
   "outputs": [
    {
     "data": {
      "image/png": "[encoded data removed]",
      "text/plain": [
       "<Figure size 144x432 with 1 Axes>"
      ]
     },
     "metadata": {
      "needs_background": "light"
     },
     "output_type": "display_data"
    }
   ],
   "source": [
    "# Строим тепловую карту\n",
    "plt.figure(figsize=(2, 6))\n",
    "\n",
    "sns.heatmap(df_heatmap,\n",
    "            annot=True, # Отображаем численные значения в ячейках карты\n",
    "            fmt='.2f', # Форматируем значения корреляции: два знака после точки\n",
    "            cmap='coolwarm', # Устанавливаем цветовую гамму от красного (макс. значение) к синему\n",
    "            linewidths=0.5, # Форматируем линию между ячейками карты\n",
    "            cbar=False # Отключаем цветовую шкалу\n",
    "           )\n",
    "\n",
    "plt.title('Тепловая карта коэффициента phi_k \\n для данных rating')\n",
    "plt.xlabel('Рейтинг')\n",
    "\n",
    "plt.show()"
   ]
  },
  {
   "cell_type": "markdown",
   "id": "6c01d53f",
   "metadata": {
    "id": "1a65a84d"
   },
   "source": [
    "Высокой корреляции с рейтингом заведения не наблюдается ни по одному из выбранных нами признаков. Наибольшая корреляция рейтинга заведения просматривается с показателем ценовой категории (0.28) и  районом расположения(0.2) Просматривается  небольшая корреляция рейтинга с круглосуточным режимом работы и категорией заведения. По остальным признакам корреляция практически отсутсвует.\n",
    "\n",
    "Чтобы узнать характер выявленных связей,  продолжим анализ. "
   ]
  },
  {
   "cell_type": "markdown",
   "id": "cb1a6e9a",
   "metadata": {},
   "source": [
    "Проверим связь ценовой категории заведения и его рейтинга."
   ]
  },
  {
   "cell_type": "code",
   "execution_count": 50,
   "id": "e1f0b91f",
   "metadata": {},
   "outputs": [
    {
     "data": {
      "text/plain": [
       "price\n",
       "высокие          4.4\n",
       "выше среднего    4.4\n",
       "нет данных       4.3\n",
       "низкие           4.2\n",
       "средние          4.3\n",
       "Name: rating, dtype: float64"
      ]
     },
     "metadata": {},
     "output_type": "display_data"
    },
    {
     "data": {
      "image/png": "[encoded data removed]",
      "text/plain": [
       "<Figure size 720x288 with 1 Axes>"
      ]
     },
     "metadata": {
      "needs_background": "light"
     },
     "output_type": "display_data"
    }
   ],
   "source": [
    "#Сгруппируем даенные по ценовой категориям заведений, вычислим для кажого медиану и построим столбчатую диаграмму.\n",
    "grouped_price_median = df.groupby('price')['rating'].median()\n",
    "display(grouped_price_median)\n",
    "grouped_price_median.plot(kind='bar',\n",
    "               title= 'Усредненный рейтинг для  заведений разных ценовых категорий',\n",
    "               legend=False,\n",
    "               ylabel='Средний рейтинг',\n",
    "               xlabel='Ценовая категория заведения',\n",
    "               rot=0,\n",
    "               figsize=(10, 4))\n",
    "\n",
    "# Рассчитываем среднее значение по рейтингу для всех категорий:\n",
    "median_rating = df['rating'].median()\n",
    "\n",
    "# Наносим на график линию с средним рейтингом:\n",
    "plt.axhline(median_rating, \n",
    "            color='red', \n",
    "            linestyle='--', \n",
    "            linewidth=1, \n",
    "            label=f'Средний рейтинг по всем заведениям{round(median_rating,2)}')\n",
    "plt.grid(axis='y')\n",
    "\n",
    "plt.show()"
   ]
  },
  {
   "cell_type": "markdown",
   "id": "41fb1b7d",
   "metadata": {},
   "source": [
    "Медианное значение рейтинга для заведений разных ценовых категорий практически не отличается, однако все же можно отмеить, что заведения с высокой и выше среднего ценовой категорией имеют рейтинг чуть выше, с низкой - меньше. Проверим средние значения рейтинга в зависимости ценовой политики в разрезе категорий. Для этого построим сводную таблицу."
   ]
  },
  {
   "cell_type": "code",
   "execution_count": 51,
   "id": "f3e5c83f",
   "metadata": {},
   "outputs": [
    {
     "data": {
      "text/html": [
       "<div>\n",
       "<style scoped>\n",
       "    .dataframe tbody tr th:only-of-type {\n",
       "        vertical-align: middle;\n",
       "    }\n",
       "\n",
       "    .dataframe tbody tr th {\n",
       "        vertical-align: top;\n",
       "    }\n",
       "\n",
       "    .dataframe thead th {\n",
       "        text-align: right;\n",
       "    }\n",
       "</style>\n",
       "<table border=\"1\" class=\"dataframe\">\n",
       "  <thead>\n",
       "    <tr style=\"text-align: right;\">\n",
       "      <th>category</th>\n",
       "      <th>бар,паб</th>\n",
       "      <th>булочная</th>\n",
       "      <th>быстрое питание</th>\n",
       "      <th>кафе</th>\n",
       "      <th>кофейня</th>\n",
       "      <th>пиццерия</th>\n",
       "      <th>ресторан</th>\n",
       "      <th>столовая</th>\n",
       "    </tr>\n",
       "    <tr>\n",
       "      <th>price</th>\n",
       "      <th></th>\n",
       "      <th></th>\n",
       "      <th></th>\n",
       "      <th></th>\n",
       "      <th></th>\n",
       "      <th></th>\n",
       "      <th></th>\n",
       "      <th></th>\n",
       "    </tr>\n",
       "  </thead>\n",
       "  <tbody>\n",
       "    <tr>\n",
       "      <th>высокие</th>\n",
       "      <td>4.485950</td>\n",
       "      <td>4.400000</td>\n",
       "      <td>4.200000</td>\n",
       "      <td>3.976667</td>\n",
       "      <td>4.441176</td>\n",
       "      <td>4.446667</td>\n",
       "      <td>4.468519</td>\n",
       "      <td>4.200000</td>\n",
       "    </tr>\n",
       "    <tr>\n",
       "      <th>выше среднего</th>\n",
       "      <td>4.433987</td>\n",
       "      <td>4.350000</td>\n",
       "      <td>4.280000</td>\n",
       "      <td>4.403846</td>\n",
       "      <td>4.328571</td>\n",
       "      <td>4.305000</td>\n",
       "      <td>4.374627</td>\n",
       "      <td>4.000000</td>\n",
       "    </tr>\n",
       "    <tr>\n",
       "      <th>нет данных</th>\n",
       "      <td>4.304059</td>\n",
       "      <td>4.275349</td>\n",
       "      <td>3.987167</td>\n",
       "      <td>4.083534</td>\n",
       "      <td>4.250587</td>\n",
       "      <td>4.278261</td>\n",
       "      <td>4.211426</td>\n",
       "      <td>4.158025</td>\n",
       "    </tr>\n",
       "    <tr>\n",
       "      <th>низкие</th>\n",
       "      <td>3.900000</td>\n",
       "      <td>4.266667</td>\n",
       "      <td>3.981818</td>\n",
       "      <td>4.026923</td>\n",
       "      <td>4.286765</td>\n",
       "      <td>4.225000</td>\n",
       "      <td>4.180952</td>\n",
       "      <td>4.190000</td>\n",
       "    </tr>\n",
       "    <tr>\n",
       "      <th>средние</th>\n",
       "      <td>4.409174</td>\n",
       "      <td>4.175000</td>\n",
       "      <td>4.212500</td>\n",
       "      <td>4.236874</td>\n",
       "      <td>4.332626</td>\n",
       "      <td>4.314768</td>\n",
       "      <td>4.317467</td>\n",
       "      <td>4.277857</td>\n",
       "    </tr>\n",
       "  </tbody>\n",
       "</table>\n",
       "</div>"
      ],
      "text/plain": [
       "category        бар,паб  булочная  быстрое питание      кафе   кофейня  \\\n",
       "price                                                                    \n",
       "высокие        4.485950  4.400000         4.200000  3.976667  4.441176   \n",
       "выше среднего  4.433987  4.350000         4.280000  4.403846  4.328571   \n",
       "нет данных     4.304059  4.275349         3.987167  4.083534  4.250587   \n",
       "низкие         3.900000  4.266667         3.981818  4.026923  4.286765   \n",
       "средние        4.409174  4.175000         4.212500  4.236874  4.332626   \n",
       "\n",
       "category       пиццерия  ресторан  столовая  \n",
       "price                                        \n",
       "высокие        4.446667  4.468519  4.200000  \n",
       "выше среднего  4.305000  4.374627  4.000000  \n",
       "нет данных     4.278261  4.211426  4.158025  \n",
       "низкие         4.225000  4.180952  4.190000  \n",
       "средние        4.314768  4.317467  4.277857  "
      ]
     },
     "metadata": {},
     "output_type": "display_data"
    }
   ],
   "source": [
    "pivot_rating_price = df.pivot_table(\n",
    "    values='rating',\n",
    "    index='price',\n",
    "    columns='category',\n",
    "    aggfunc='mean'\n",
    ")\n",
    "display(pivot_rating_price)"
   ]
  },
  {
   "cell_type": "markdown",
   "id": "a7a98953",
   "metadata": {},
   "source": [
    "В целом небольшая зависимость рейтинга от ценовой категории заведения сохраняется и в разрезе категорий заведений с небольшими исключениями. Так высокие цены в кафе снижают его рейтинг, столовые имеют самый высокий рейтинг в средней ценовой категории. А вот бары и рестораны имеют более выраженную зависимость \"чем выше ценовая категория, тем выше рейтинг\", чем остальные заведения."
   ]
  },
  {
   "cell_type": "markdown",
   "id": "a73baeba",
   "metadata": {},
   "source": [
    "Проверим также характер зависимости рейтинга от расположения (района) заведения."
   ]
  },
  {
   "cell_type": "code",
   "execution_count": 52,
   "id": "95e823a4",
   "metadata": {},
   "outputs": [
    {
     "data": {
      "text/plain": [
       "district\n",
       "северо-восточный административный округ    4.2\n",
       "юго-восточный административный округ       4.2\n",
       "восточный административный округ           4.3\n",
       "западный административный округ            4.3\n",
       "северный административный округ            4.3\n",
       "северо-западный административный округ     4.3\n",
       "юго-западный административный округ        4.3\n",
       "южный административный округ               4.3\n",
       "центральный административный округ         4.4\n",
       "Name: rating, dtype: float64"
      ]
     },
     "metadata": {},
     "output_type": "display_data"
    },
    {
     "data": {
      "image/png": "[encoded data removed]",
      "text/plain": [
       "<Figure size 720x288 with 1 Axes>"
      ]
     },
     "metadata": {
      "needs_background": "light"
     },
     "output_type": "display_data"
    }
   ],
   "source": [
    "#Сгруппируем данные по району, вычислим для кажого медиану и построим столбчатую диаграмму.\n",
    "grouped_district_median = df.groupby('district')['rating'].median().sort_values()\n",
    "display(grouped_district_median)\n",
    "\n",
    "grouped_district_median.plot(kind='barh',\n",
    "               title= 'Усредненный рейтинг заведений для разных районов Москвы',\n",
    "               legend=False,\n",
    "               ylabel='Средний рейтинг',\n",
    "               xlabel='Район',\n",
    "               rot=0,\n",
    "               figsize=(10, 4))\n",
    "\n",
    "median_rating = df['rating'].median()\n",
    "\n",
    "plt.grid(axis='y')\n",
    "\n",
    "plt.show()"
   ]
  },
  {
   "cell_type": "markdown",
   "id": "ce437f95",
   "metadata": {},
   "source": [
    "Здесь зависимость тоже слабая, но можно отметить, чтов Ценральном округе рейтинг заведений чуть выше, в Северо-восточном и Юго-восточномчуть ниже. Теперь также сделаем сводную таблицу для среднийх значений рейтинга в разрезе категорий и районов."
   ]
  },
  {
   "cell_type": "code",
   "execution_count": 53,
   "id": "e62c4978",
   "metadata": {},
   "outputs": [
    {
     "data": {
      "text/html": [
       "<div>\n",
       "<style scoped>\n",
       "    .dataframe tbody tr th:only-of-type {\n",
       "        vertical-align: middle;\n",
       "    }\n",
       "\n",
       "    .dataframe tbody tr th {\n",
       "        vertical-align: top;\n",
       "    }\n",
       "\n",
       "    .dataframe thead th {\n",
       "        text-align: right;\n",
       "    }\n",
       "</style>\n",
       "<table border=\"1\" class=\"dataframe\">\n",
       "  <thead>\n",
       "    <tr style=\"text-align: right;\">\n",
       "      <th>category</th>\n",
       "      <th>бар,паб</th>\n",
       "      <th>булочная</th>\n",
       "      <th>быстрое питание</th>\n",
       "      <th>кафе</th>\n",
       "      <th>кофейня</th>\n",
       "      <th>пиццерия</th>\n",
       "      <th>ресторан</th>\n",
       "      <th>столовая</th>\n",
       "    </tr>\n",
       "    <tr>\n",
       "      <th>district</th>\n",
       "      <th></th>\n",
       "      <th></th>\n",
       "      <th></th>\n",
       "      <th></th>\n",
       "      <th></th>\n",
       "      <th></th>\n",
       "      <th></th>\n",
       "      <th></th>\n",
       "    </tr>\n",
       "  </thead>\n",
       "  <tbody>\n",
       "    <tr>\n",
       "      <th>восточный административный округ</th>\n",
       "      <td>4.315094</td>\n",
       "      <td>4.168000</td>\n",
       "      <td>4.043662</td>\n",
       "      <td>4.098162</td>\n",
       "      <td>4.282857</td>\n",
       "      <td>4.269444</td>\n",
       "      <td>4.186875</td>\n",
       "      <td>4.232500</td>\n",
       "    </tr>\n",
       "    <tr>\n",
       "      <th>западный административный округ</th>\n",
       "      <td>4.398000</td>\n",
       "      <td>4.264865</td>\n",
       "      <td>3.969355</td>\n",
       "      <td>4.075630</td>\n",
       "      <td>4.195333</td>\n",
       "      <td>4.288732</td>\n",
       "      <td>4.257339</td>\n",
       "      <td>4.112500</td>\n",
       "    </tr>\n",
       "    <tr>\n",
       "      <th>северный административный округ</th>\n",
       "      <td>4.327941</td>\n",
       "      <td>4.253846</td>\n",
       "      <td>3.975862</td>\n",
       "      <td>4.185043</td>\n",
       "      <td>4.291710</td>\n",
       "      <td>4.292208</td>\n",
       "      <td>4.290426</td>\n",
       "      <td>4.217073</td>\n",
       "    </tr>\n",
       "    <tr>\n",
       "      <th>северо-восточный административный округ</th>\n",
       "      <td>4.190476</td>\n",
       "      <td>4.342857</td>\n",
       "      <td>4.032927</td>\n",
       "      <td>4.053532</td>\n",
       "      <td>4.216981</td>\n",
       "      <td>4.255882</td>\n",
       "      <td>4.208840</td>\n",
       "      <td>4.082500</td>\n",
       "    </tr>\n",
       "    <tr>\n",
       "      <th>северо-западный административный округ</th>\n",
       "      <td>4.391304</td>\n",
       "      <td>4.283333</td>\n",
       "      <td>3.950000</td>\n",
       "      <td>4.047826</td>\n",
       "      <td>4.325806</td>\n",
       "      <td>4.337500</td>\n",
       "      <td>4.292661</td>\n",
       "      <td>4.188889</td>\n",
       "    </tr>\n",
       "    <tr>\n",
       "      <th>центральный административный округ</th>\n",
       "      <td>4.486264</td>\n",
       "      <td>4.372000</td>\n",
       "      <td>4.234483</td>\n",
       "      <td>4.302371</td>\n",
       "      <td>4.336449</td>\n",
       "      <td>4.411504</td>\n",
       "      <td>4.416119</td>\n",
       "      <td>4.315152</td>\n",
       "    </tr>\n",
       "    <tr>\n",
       "      <th>юго-восточный административный округ</th>\n",
       "      <td>4.200000</td>\n",
       "      <td>4.038462</td>\n",
       "      <td>3.925373</td>\n",
       "      <td>4.047872</td>\n",
       "      <td>4.225843</td>\n",
       "      <td>4.185455</td>\n",
       "      <td>4.156552</td>\n",
       "      <td>4.104000</td>\n",
       "    </tr>\n",
       "    <tr>\n",
       "      <th>юго-западный административный округ</th>\n",
       "      <td>4.350000</td>\n",
       "      <td>4.155556</td>\n",
       "      <td>4.086885</td>\n",
       "      <td>4.036975</td>\n",
       "      <td>4.283333</td>\n",
       "      <td>4.340625</td>\n",
       "      <td>4.225595</td>\n",
       "      <td>4.241176</td>\n",
       "    </tr>\n",
       "    <tr>\n",
       "      <th>южный административный округ</th>\n",
       "      <td>4.276471</td>\n",
       "      <td>4.340000</td>\n",
       "      <td>4.101176</td>\n",
       "      <td>4.093939</td>\n",
       "      <td>4.232824</td>\n",
       "      <td>4.258904</td>\n",
       "      <td>4.212376</td>\n",
       "      <td>4.261364</td>\n",
       "    </tr>\n",
       "  </tbody>\n",
       "</table>\n",
       "</div>"
      ],
      "text/plain": [
       "category                                  бар,паб  булочная  быстрое питание  \\\n",
       "district                                                                       \n",
       "восточный административный округ         4.315094  4.168000         4.043662   \n",
       "западный административный округ          4.398000  4.264865         3.969355   \n",
       "северный административный округ          4.327941  4.253846         3.975862   \n",
       "северо-восточный административный округ  4.190476  4.342857         4.032927   \n",
       "северо-западный административный округ   4.391304  4.283333         3.950000   \n",
       "центральный административный округ       4.486264  4.372000         4.234483   \n",
       "юго-восточный административный округ     4.200000  4.038462         3.925373   \n",
       "юго-западный административный округ      4.350000  4.155556         4.086885   \n",
       "южный административный округ             4.276471  4.340000         4.101176   \n",
       "\n",
       "category                                     кафе   кофейня  пиццерия  \\\n",
       "district                                                                \n",
       "восточный административный округ         4.098162  4.282857  4.269444   \n",
       "западный административный округ          4.075630  4.195333  4.288732   \n",
       "северный административный округ          4.185043  4.291710  4.292208   \n",
       "северо-восточный административный округ  4.053532  4.216981  4.255882   \n",
       "северо-западный административный округ   4.047826  4.325806  4.337500   \n",
       "центральный административный округ       4.302371  4.336449  4.411504   \n",
       "юго-восточный административный округ     4.047872  4.225843  4.185455   \n",
       "юго-западный административный округ      4.036975  4.283333  4.340625   \n",
       "южный административный округ             4.093939  4.232824  4.258904   \n",
       "\n",
       "category                                 ресторан  столовая  \n",
       "district                                                     \n",
       "восточный административный округ         4.186875  4.232500  \n",
       "западный административный округ          4.257339  4.112500  \n",
       "северный административный округ          4.290426  4.217073  \n",
       "северо-восточный административный округ  4.208840  4.082500  \n",
       "северо-западный административный округ   4.292661  4.188889  \n",
       "центральный административный округ       4.416119  4.315152  \n",
       "юго-восточный административный округ     4.156552  4.104000  \n",
       "юго-западный административный округ      4.225595  4.241176  \n",
       "южный административный округ             4.212376  4.261364  "
      ]
     },
     "metadata": {},
     "output_type": "display_data"
    }
   ],
   "source": [
    "pivot_rating_district = df.pivot_table(\n",
    "    values='rating',\n",
    "    index='district',\n",
    "    columns='category',\n",
    "    aggfunc='mean'\n",
    ")\n",
    "display(pivot_rating_district)"
   ]
  },
  {
   "cell_type": "markdown",
   "id": "3e447293",
   "metadata": {},
   "source": [
    "В разрезе каждой категории мы также видим, что рейтинг заведений в центральном округе выше без исключений."
   ]
  },
  {
   "cell_type": "markdown",
   "id": "6c90a635",
   "metadata": {},
   "source": [
    "Проверим также связь с рейтингом  для столбцов 'chain' и 'is_24_7' с бинарными признаками в целом по всем заведениям и в разрезе категорий."
   ]
  },
  {
   "cell_type": "code",
   "execution_count": 54,
   "id": "8b5b2fc4",
   "metadata": {},
   "outputs": [
    {
     "data": {
      "image/png": "[encoded data removed]",
      "text/plain": [
       "<Figure size 288x288 with 1 Axes>"
      ]
     },
     "metadata": {
      "needs_background": "light"
     },
     "output_type": "display_data"
    }
   ],
   "source": [
    "#Сгруппируем данные по принадлежности к сети, вычислим для кажого медиану и построим столбчатую диаграмму.\n",
    "grouped_chain_median = df.groupby('chain')['rating'].median()\n",
    "\n",
    "grouped_chain_median.plot(kind='bar',\n",
    "               title= 'Усредненный рейтинг заведений для сетевых и несетевых заведений',\n",
    "               legend=False,\n",
    "               ylabel='Средний рейтинг',\n",
    "               xlabel='Принадлежность к сети',\n",
    "               rot=0,\n",
    "               figsize=(4, 4))\n",
    "\n",
    "# Наносим на график линию с средним рейтингом:\n",
    "plt.axhline(median_rating, \n",
    "            color='red', \n",
    "            linestyle='--', \n",
    "            linewidth=1, \n",
    "            label=f'Средний рейтинг по всем заведениям{round(median_rating,2)}')\n",
    "\n",
    "plt.grid(axis='y')\n",
    "\n",
    "# Выводим график\n",
    "plt.show()"
   ]
  },
  {
   "cell_type": "code",
   "execution_count": 55,
   "id": "6cb7a59f",
   "metadata": {},
   "outputs": [
    {
     "data": {
      "text/html": [
       "<div>\n",
       "<style scoped>\n",
       "    .dataframe tbody tr th:only-of-type {\n",
       "        vertical-align: middle;\n",
       "    }\n",
       "\n",
       "    .dataframe tbody tr th {\n",
       "        vertical-align: top;\n",
       "    }\n",
       "\n",
       "    .dataframe thead th {\n",
       "        text-align: right;\n",
       "    }\n",
       "</style>\n",
       "<table border=\"1\" class=\"dataframe\">\n",
       "  <thead>\n",
       "    <tr style=\"text-align: right;\">\n",
       "      <th>category</th>\n",
       "      <th>бар,паб</th>\n",
       "      <th>булочная</th>\n",
       "      <th>быстрое питание</th>\n",
       "      <th>кафе</th>\n",
       "      <th>кофейня</th>\n",
       "      <th>пиццерия</th>\n",
       "      <th>ресторан</th>\n",
       "      <th>столовая</th>\n",
       "    </tr>\n",
       "    <tr>\n",
       "      <th>chain</th>\n",
       "      <th></th>\n",
       "      <th></th>\n",
       "      <th></th>\n",
       "      <th></th>\n",
       "      <th></th>\n",
       "      <th></th>\n",
       "      <th></th>\n",
       "      <th></th>\n",
       "    </tr>\n",
       "  </thead>\n",
       "  <tbody>\n",
       "    <tr>\n",
       "      <th>0</th>\n",
       "      <td>4.386913</td>\n",
       "      <td>4.240404</td>\n",
       "      <td>4.046361</td>\n",
       "      <td>4.088040</td>\n",
       "      <td>4.350505</td>\n",
       "      <td>4.321122</td>\n",
       "      <td>4.325248</td>\n",
       "      <td>4.201322</td>\n",
       "    </tr>\n",
       "    <tr>\n",
       "      <th>1</th>\n",
       "      <td>4.390533</td>\n",
       "      <td>4.285987</td>\n",
       "      <td>4.056466</td>\n",
       "      <td>4.198588</td>\n",
       "      <td>4.206806</td>\n",
       "      <td>4.283030</td>\n",
       "      <td>4.227671</td>\n",
       "      <td>4.237500</td>\n",
       "    </tr>\n",
       "  </tbody>\n",
       "</table>\n",
       "</div>"
      ],
      "text/plain": [
       "category   бар,паб  булочная  быстрое питание      кафе   кофейня  пиццерия  \\\n",
       "chain                                                                         \n",
       "0         4.386913  4.240404         4.046361  4.088040  4.350505  4.321122   \n",
       "1         4.390533  4.285987         4.056466  4.198588  4.206806  4.283030   \n",
       "\n",
       "category  ресторан  столовая  \n",
       "chain                         \n",
       "0         4.325248  4.201322  \n",
       "1         4.227671  4.237500  "
      ]
     },
     "metadata": {},
     "output_type": "display_data"
    }
   ],
   "source": [
    "#Построим сводную таблицу со средними значениями рейтинга для сетевых и несетевых заведений в разрезе категорий.\n",
    "pivot_rating_chain = df.pivot_table(\n",
    "    values='rating',\n",
    "    index='chain',\n",
    "    columns='category',\n",
    "    aggfunc='mean'\n",
    ")\n",
    "display(pivot_rating_chain)"
   ]
  },
  {
   "cell_type": "markdown",
   "id": "bcc6a1da",
   "metadata": {},
   "source": [
    "В целом по всем заведениям медиана по рейтингу одинакова для сетевых и несетевых заведений. В разрезе категорий есть незначительные расхождения: сетевые кафе имеют рейтинг чуть выше, чем несетевые, а для кофеен, пиццерий и ресторанов рейтинг сетевых заведений наоборот чуть ниже."
   ]
  },
  {
   "cell_type": "code",
   "execution_count": 56,
   "id": "18060a07",
   "metadata": {},
   "outputs": [
    {
     "data": {
      "image/png": "[encoded data removed]",
      "text/plain": [
       "<Figure size 288x288 with 1 Axes>"
      ]
     },
     "metadata": {
      "needs_background": "light"
     },
     "output_type": "display_data"
    }
   ],
   "source": [
    "#Сгруппируем данные по режиму работы, вычислим для кажого медиану и построим столбчатую диаграмму.\n",
    "grouped_hours_median = df.groupby('is_24_7')['rating'].median()\n",
    "\n",
    "grouped_hours_median.plot(kind='bar',\n",
    "               title= 'Усредненный рейтинг заведений в зависимости от круглосуточного режима работы',\n",
    "               legend=False,\n",
    "               ylabel='Средний рейтинг',\n",
    "               xlabel='Режим работы: 1 - ежедневный круглосуточный режим работы, 0 - работа в установленные часы',\n",
    "               rot=0,\n",
    "               figsize=(4, 4))\n",
    "\n",
    "# Наносим на график линию с средним рейтингом:\n",
    "plt.axhline(median_rating, \n",
    "            color='red', \n",
    "            linestyle='--', \n",
    "            linewidth=1, \n",
    "            label=f'Средний рейтинг по всем заведениям{round(median_rating,2)}')\n",
    "\n",
    "plt.grid(axis='y')\n",
    "\n",
    "plt.show()"
   ]
  },
  {
   "cell_type": "code",
   "execution_count": 57,
   "id": "be91e611",
   "metadata": {},
   "outputs": [
    {
     "data": {
      "text/html": [
       "<div>\n",
       "<style scoped>\n",
       "    .dataframe tbody tr th:only-of-type {\n",
       "        vertical-align: middle;\n",
       "    }\n",
       "\n",
       "    .dataframe tbody tr th {\n",
       "        vertical-align: top;\n",
       "    }\n",
       "\n",
       "    .dataframe thead th {\n",
       "        text-align: right;\n",
       "    }\n",
       "</style>\n",
       "<table border=\"1\" class=\"dataframe\">\n",
       "  <thead>\n",
       "    <tr style=\"text-align: right;\">\n",
       "      <th>category</th>\n",
       "      <th>бар,паб</th>\n",
       "      <th>булочная</th>\n",
       "      <th>быстрое питание</th>\n",
       "      <th>кафе</th>\n",
       "      <th>кофейня</th>\n",
       "      <th>пиццерия</th>\n",
       "      <th>ресторан</th>\n",
       "      <th>столовая</th>\n",
       "    </tr>\n",
       "    <tr>\n",
       "      <th>is_24_7</th>\n",
       "      <th></th>\n",
       "      <th></th>\n",
       "      <th></th>\n",
       "      <th></th>\n",
       "      <th></th>\n",
       "      <th></th>\n",
       "      <th></th>\n",
       "      <th></th>\n",
       "    </tr>\n",
       "  </thead>\n",
       "  <tbody>\n",
       "    <tr>\n",
       "      <th>0</th>\n",
       "      <td>4.402525</td>\n",
       "      <td>4.290086</td>\n",
       "      <td>4.088962</td>\n",
       "      <td>4.136463</td>\n",
       "      <td>4.280355</td>\n",
       "      <td>4.313953</td>\n",
       "      <td>4.296537</td>\n",
       "      <td>4.209901</td>\n",
       "    </tr>\n",
       "    <tr>\n",
       "      <th>1</th>\n",
       "      <td>4.184615</td>\n",
       "      <td>4.058333</td>\n",
       "      <td>3.933333</td>\n",
       "      <td>4.028090</td>\n",
       "      <td>4.206780</td>\n",
       "      <td>4.054839</td>\n",
       "      <td>4.202963</td>\n",
       "      <td>4.250000</td>\n",
       "    </tr>\n",
       "  </tbody>\n",
       "</table>\n",
       "</div>"
      ],
      "text/plain": [
       "category   бар,паб  булочная  быстрое питание      кафе   кофейня  пиццерия  \\\n",
       "is_24_7                                                                       \n",
       "0         4.402525  4.290086         4.088962  4.136463  4.280355  4.313953   \n",
       "1         4.184615  4.058333         3.933333  4.028090  4.206780  4.054839   \n",
       "\n",
       "category  ресторан  столовая  \n",
       "is_24_7                       \n",
       "0         4.296537  4.209901  \n",
       "1         4.202963  4.250000  "
      ]
     },
     "metadata": {},
     "output_type": "display_data"
    }
   ],
   "source": [
    "#Построим сводную таблицу со средними значениями рейтинга в зависимости от режима работы в разрезе категорий.\n",
    "pivot_rating_chain = df.pivot_table(\n",
    "    values='rating',\n",
    "    index='is_24_7',\n",
    "    columns='category',\n",
    "    aggfunc='mean'\n",
    ")\n",
    "display(pivot_rating_chain)"
   ]
  },
  {
   "cell_type": "markdown",
   "id": "5ca26a95",
   "metadata": {},
   "source": [
    "Заведения имеющие крглосуточный ежедневный режим работы имеют рейтиг чуть ниже, исключение составляют только столовые."
   ]
  },
  {
   "cell_type": "markdown",
   "id": "370de703",
   "metadata": {
    "id": "370de703"
   },
   "source": [
    "---\n",
    "\n",
    "### Задача 7"
   ]
  },
  {
   "cell_type": "markdown",
   "id": "df43bf91",
   "metadata": {},
   "source": [
    "Теперь посмотрим какие сетевые заведения являются самыми популярными в Москве по количеству открытых точек. Вычислим для них средний рейтинг и посмотрим к какой категории заведений они принадлежат."
   ]
  },
  {
   "cell_type": "code",
   "execution_count": 58,
   "id": "ffeb7f01",
   "metadata": {},
   "outputs": [
    {
     "data": {
      "text/html": [
       "<div>\n",
       "<style scoped>\n",
       "    .dataframe tbody tr th:only-of-type {\n",
       "        vertical-align: middle;\n",
       "    }\n",
       "\n",
       "    .dataframe tbody tr th {\n",
       "        vertical-align: top;\n",
       "    }\n",
       "\n",
       "    .dataframe thead th {\n",
       "        text-align: right;\n",
       "    }\n",
       "</style>\n",
       "<table border=\"1\" class=\"dataframe\">\n",
       "  <thead>\n",
       "    <tr style=\"text-align: right;\">\n",
       "      <th></th>\n",
       "      <th>category</th>\n",
       "      <th>count_rest</th>\n",
       "      <th>mean_rating</th>\n",
       "    </tr>\n",
       "    <tr>\n",
       "      <th>name</th>\n",
       "      <th></th>\n",
       "      <th></th>\n",
       "      <th></th>\n",
       "    </tr>\n",
       "  </thead>\n",
       "  <tbody>\n",
       "    <tr>\n",
       "      <th>шоколадница</th>\n",
       "      <td>кофейня</td>\n",
       "      <td>120</td>\n",
       "      <td>4.18</td>\n",
       "    </tr>\n",
       "    <tr>\n",
       "      <th>домино'с пицца</th>\n",
       "      <td>пиццерия</td>\n",
       "      <td>76</td>\n",
       "      <td>4.17</td>\n",
       "    </tr>\n",
       "    <tr>\n",
       "      <th>додо пицца</th>\n",
       "      <td>пиццерия</td>\n",
       "      <td>74</td>\n",
       "      <td>4.29</td>\n",
       "    </tr>\n",
       "    <tr>\n",
       "      <th>one price coffee</th>\n",
       "      <td>кофейня</td>\n",
       "      <td>71</td>\n",
       "      <td>4.06</td>\n",
       "    </tr>\n",
       "    <tr>\n",
       "      <th>яндекс лавка</th>\n",
       "      <td>ресторан</td>\n",
       "      <td>69</td>\n",
       "      <td>3.87</td>\n",
       "    </tr>\n",
       "    <tr>\n",
       "      <th>cofix</th>\n",
       "      <td>кофейня</td>\n",
       "      <td>65</td>\n",
       "      <td>4.08</td>\n",
       "    </tr>\n",
       "    <tr>\n",
       "      <th>prime</th>\n",
       "      <td>ресторан</td>\n",
       "      <td>50</td>\n",
       "      <td>4.12</td>\n",
       "    </tr>\n",
       "    <tr>\n",
       "      <th>хинкальная</th>\n",
       "      <td>кафе</td>\n",
       "      <td>44</td>\n",
       "      <td>4.32</td>\n",
       "    </tr>\n",
       "    <tr>\n",
       "      <th>кофепорт</th>\n",
       "      <td>кофейня</td>\n",
       "      <td>42</td>\n",
       "      <td>4.15</td>\n",
       "    </tr>\n",
       "    <tr>\n",
       "      <th>кулинарная лавка братьев караваевых</th>\n",
       "      <td>кафе</td>\n",
       "      <td>39</td>\n",
       "      <td>4.39</td>\n",
       "    </tr>\n",
       "    <tr>\n",
       "      <th>теремок</th>\n",
       "      <td>ресторан</td>\n",
       "      <td>38</td>\n",
       "      <td>4.12</td>\n",
       "    </tr>\n",
       "    <tr>\n",
       "      <th>чайхана</th>\n",
       "      <td>кафе</td>\n",
       "      <td>37</td>\n",
       "      <td>3.92</td>\n",
       "    </tr>\n",
       "    <tr>\n",
       "      <th>cofefest</th>\n",
       "      <td>кофейня</td>\n",
       "      <td>32</td>\n",
       "      <td>3.98</td>\n",
       "    </tr>\n",
       "    <tr>\n",
       "      <th>буханка</th>\n",
       "      <td>булочная</td>\n",
       "      <td>32</td>\n",
       "      <td>4.40</td>\n",
       "    </tr>\n",
       "    <tr>\n",
       "      <th>му-му</th>\n",
       "      <td>кафе</td>\n",
       "      <td>27</td>\n",
       "      <td>4.23</td>\n",
       "    </tr>\n",
       "  </tbody>\n",
       "</table>\n",
       "</div>"
      ],
      "text/plain": [
       "                                     category  count_rest  mean_rating\n",
       "name                                                                  \n",
       "шоколадница                           кофейня         120         4.18\n",
       "домино'с пицца                       пиццерия          76         4.17\n",
       "додо пицца                           пиццерия          74         4.29\n",
       "one price coffee                      кофейня          71         4.06\n",
       "яндекс лавка                         ресторан          69         3.87\n",
       "cofix                                 кофейня          65         4.08\n",
       "prime                                ресторан          50         4.12\n",
       "хинкальная                               кафе          44         4.32\n",
       "кофепорт                              кофейня          42         4.15\n",
       "кулинарная лавка братьев караваевых      кафе          39         4.39\n",
       "теремок                              ресторан          38         4.12\n",
       "чайхана                                  кафе          37         3.92\n",
       "cofefest                              кофейня          32         3.98\n",
       "буханка                              булочная          32         4.40\n",
       "му-му                                    кафе          27         4.23"
      ]
     },
     "metadata": {},
     "output_type": "display_data"
    }
   ],
   "source": [
    "#Отфильтруем таблицу по сетевым заведениям\n",
    "df_chain = df[df['chain'] == 1].copy()\n",
    "#Создадим сводную таблицу с названиями сетевых заведений, их категориями,\n",
    "#количеством заведений в каждой сети и средним рейтингом:\n",
    "pivot_chain = pd.pivot_table(\n",
    "    df_chain,\n",
    "    index='name',\n",
    "    values=['category', 'rating'],\n",
    "    aggfunc={'category': pd.Series.mode, 'rating': ['count', 'mean']}\n",
    ")\n",
    "\n",
    "#переименуем столбцы таблицы:\n",
    "columns_names = ['category', 'count_rest', 'mean_rating']\n",
    "pivot_chain.columns = columns_names\n",
    "\n",
    "#округлим значения среднего рейтинга:\n",
    "pivot_chain['mean_rating'] = pivot_chain['mean_rating'].round(2)\n",
    "\n",
    "#отсортируем сводную таблицу по количеству заведений в сети и выведем 15 самых представленных в Москве:\n",
    "top_15_df = pivot_chain.sort_values(by='count_rest', ascending=False).head(15)\n",
    "display(top_15_df)"
   ]
  },
  {
   "cell_type": "markdown",
   "id": "d5a7c245",
   "metadata": {},
   "source": [
    "Построим график с 15 самыми популярными сетями общепита в Москве по количеству заведений."
   ]
  },
  {
   "cell_type": "code",
   "execution_count": 59,
   "id": "5d828a9a",
   "metadata": {
    "id": "5d828a9a"
   },
   "outputs": [
    {
     "data": {
      "image/png": "[encoded data removed]",
      "text/plain": [
       "<Figure size 864x576 with 1 Axes>"
      ]
     },
     "metadata": {
      "needs_background": "light"
     },
     "output_type": "display_data"
    }
   ],
   "source": [
    "#Выведем линейчатую диаграмму с топом 15 сетевых заведений в Москве для наглядности:\n",
    "top_15 = df_chain.groupby('name')['rating'].count().sort_values(ascending=False).head(15)\n",
    "top_15 = top_15.sort_values()\n",
    "top_15.plot(kind='barh',\n",
    "               title= 'Топ-15 сетевых заведений Москвы',\n",
    "               legend=False,\n",
    "               ylabel='Количество заведений',\n",
    "               xlabel='',\n",
    "               rot=0,\n",
    "               figsize=(12, 8))\n",
    "plt.grid(axis='x')\n",
    "\n",
    "plt.show()"
   ]
  },
  {
   "cell_type": "markdown",
   "id": "d12f8196",
   "metadata": {},
   "source": [
    "Теперь построим график, отображающий рейтинг данных заведений"
   ]
  },
  {
   "cell_type": "code",
   "execution_count": 60,
   "id": "2bb7bb86",
   "metadata": {},
   "outputs": [
    {
     "data": {
      "image/png": "[encoded data removed]",
      "text/plain": [
       "<Figure size 576x576 with 1 Axes>"
      ]
     },
     "metadata": {
      "needs_background": "light"
     },
     "output_type": "display_data"
    }
   ],
   "source": [
    "#Выведем линейчатую диаграмму с топом 15 сетевых заведений в Москве для наглядности:\n",
    "top_15_df_rating = top_15_df['mean_rating'].sort_values()\n",
    "top_15_df_rating.plot(kind='barh',\n",
    "               title= 'Средний рейтинг топ-15 сетевых заведений Москвы',\n",
    "               legend=False,\n",
    "               ylabel='Рейтинг',\n",
    "               xlabel='',\n",
    "               rot=0,\n",
    "               figsize=(8, 8))\n",
    "plt.grid(axis='x')\n",
    "\n",
    "# Выводим график\n",
    "plt.show()"
   ]
  },
  {
   "cell_type": "markdown",
   "id": "21173858",
   "metadata": {
    "id": "d013c598"
   },
   "source": [
    "Самой популярной сетью оказались кофейни \"Шоколадница\" - 119 заведений в Москве! В топе сетевых заведений нет баров, быстрого питания и столовых. Чаще других сетевых заведений встречаются кофейни. \n",
    "Отметим также, что большинство сетевых заведений, попавших в топ-15 по Москве имеют рейтинг ниже среднего (медианы) по всем заведениям Москвы, в т.ч. самая распространенная Шоколадница. Среди заведений с рейтингом выше среднего: кафе \"Хинкальная\" и \"Кулинарная лавка братьев Караваевых\" и булочная \"Буханка\".\n",
    "Тем не менее, несмотря на рейтинг, эти заведения пользуются большой популярностью среди москвичей."
   ]
  },
  {
   "cell_type": "markdown",
   "id": "85a90a94",
   "metadata": {
    "id": "85a90a94"
   },
   "source": [
    "---\n",
    "\n",
    "### Задача 8"
   ]
  },
  {
   "cell_type": "markdown",
   "id": "39d220a5",
   "metadata": {
    "id": "5fb4ffc6"
   },
   "source": [
    "Изучим вариацию среднего чека заведения в зависимости от района Москвы. Для этого построим сводную таблицу со средним, минимальным и максимальным значением среднего чека для кажого района."
   ]
  },
  {
   "cell_type": "code",
   "execution_count": 61,
   "id": "b98066c1",
   "metadata": {
    "id": "b98066c1"
   },
   "outputs": [
    {
     "data": {
      "text/plain": [
       "count     3148.000000\n",
       "mean       958.358005\n",
       "std       1009.748800\n",
       "min         30.000000\n",
       "25%        375.000000\n",
       "50%        750.000000\n",
       "75%       1250.000000\n",
       "max      35000.000000\n",
       "Name: middle_avg_bill, dtype: float64"
      ]
     },
     "metadata": {},
     "output_type": "display_data"
    },
    {
     "data": {
      "text/html": [
       "<div>\n",
       "<style scoped>\n",
       "    .dataframe tbody tr th:only-of-type {\n",
       "        vertical-align: middle;\n",
       "    }\n",
       "\n",
       "    .dataframe tbody tr th {\n",
       "        vertical-align: top;\n",
       "    }\n",
       "\n",
       "    .dataframe thead th {\n",
       "        text-align: right;\n",
       "    }\n",
       "</style>\n",
       "<table border=\"1\" class=\"dataframe\">\n",
       "  <thead>\n",
       "    <tr style=\"text-align: right;\">\n",
       "      <th></th>\n",
       "      <th>count_rest</th>\n",
       "      <th>mean_bill</th>\n",
       "      <th>max_bill</th>\n",
       "      <th>min_bill</th>\n",
       "    </tr>\n",
       "    <tr>\n",
       "      <th>district</th>\n",
       "      <th></th>\n",
       "      <th></th>\n",
       "      <th></th>\n",
       "      <th></th>\n",
       "    </tr>\n",
       "  </thead>\n",
       "  <tbody>\n",
       "    <tr>\n",
       "      <th>центральный административный округ</th>\n",
       "      <td>1059</td>\n",
       "      <td>1192.18</td>\n",
       "      <td>7250</td>\n",
       "      <td>67</td>\n",
       "    </tr>\n",
       "    <tr>\n",
       "      <th>западный административный округ</th>\n",
       "      <td>306</td>\n",
       "      <td>1053.23</td>\n",
       "      <td>5250</td>\n",
       "      <td>50</td>\n",
       "    </tr>\n",
       "    <tr>\n",
       "      <th>северный административный округ</th>\n",
       "      <td>322</td>\n",
       "      <td>927.96</td>\n",
       "      <td>11000</td>\n",
       "      <td>130</td>\n",
       "    </tr>\n",
       "    <tr>\n",
       "      <th>южный административный округ</th>\n",
       "      <td>314</td>\n",
       "      <td>834.40</td>\n",
       "      <td>35000</td>\n",
       "      <td>100</td>\n",
       "    </tr>\n",
       "    <tr>\n",
       "      <th>северо-западный административный округ</th>\n",
       "      <td>157</td>\n",
       "      <td>822.22</td>\n",
       "      <td>2900</td>\n",
       "      <td>120</td>\n",
       "    </tr>\n",
       "    <tr>\n",
       "      <th>восточный административный округ</th>\n",
       "      <td>260</td>\n",
       "      <td>820.63</td>\n",
       "      <td>10000</td>\n",
       "      <td>50</td>\n",
       "    </tr>\n",
       "    <tr>\n",
       "      <th>юго-западный административный округ</th>\n",
       "      <td>235</td>\n",
       "      <td>792.56</td>\n",
       "      <td>2750</td>\n",
       "      <td>100</td>\n",
       "    </tr>\n",
       "    <tr>\n",
       "      <th>северо-восточный административный округ</th>\n",
       "      <td>301</td>\n",
       "      <td>716.61</td>\n",
       "      <td>4500</td>\n",
       "      <td>50</td>\n",
       "    </tr>\n",
       "    <tr>\n",
       "      <th>юго-восточный административный округ</th>\n",
       "      <td>194</td>\n",
       "      <td>654.10</td>\n",
       "      <td>3750</td>\n",
       "      <td>30</td>\n",
       "    </tr>\n",
       "  </tbody>\n",
       "</table>\n",
       "</div>"
      ],
      "text/plain": [
       "                                         count_rest  mean_bill  max_bill  \\\n",
       "district                                                                   \n",
       "центральный административный округ             1059    1192.18      7250   \n",
       "западный административный округ                 306    1053.23      5250   \n",
       "северный административный округ                 322     927.96     11000   \n",
       "южный административный округ                    314     834.40     35000   \n",
       "северо-западный административный округ          157     822.22      2900   \n",
       "восточный административный округ                260     820.63     10000   \n",
       "юго-западный административный округ             235     792.56      2750   \n",
       "северо-восточный административный округ         301     716.61      4500   \n",
       "юго-восточный административный округ            194     654.10      3750   \n",
       "\n",
       "                                         min_bill  \n",
       "district                                           \n",
       "центральный административный округ             67  \n",
       "западный административный округ                50  \n",
       "северный административный округ               130  \n",
       "южный административный округ                  100  \n",
       "северо-западный административный округ        120  \n",
       "восточный административный округ               50  \n",
       "юго-западный административный округ           100  \n",
       "северо-восточный административный округ        50  \n",
       "юго-восточный административный округ           30  "
      ]
     },
     "metadata": {},
     "output_type": "display_data"
    }
   ],
   "source": [
    "#Сначала отфильтруем таблицу от значений-индикаторов:\n",
    "df_filt_bill = df[df['middle_avg_bill'] > 0].copy()\n",
    "\n",
    "# Посмотрим общую статистику по столбцу:\n",
    "display(df_filt_bill['middle_avg_bill'].describe())\n",
    "\n",
    "#Создадим сводную таблицу с районом города и основными показателями среднего чека:\n",
    "pivot_bill = pd.pivot_table(\n",
    "    df_filt_bill,\n",
    "    index= 'district',\n",
    "    values='middle_avg_bill',\n",
    "    aggfunc= ['count', 'mean', 'max', 'min']\n",
    ")\n",
    "\n",
    "#переименуем столбцы таблицы:\n",
    "columns_bill_names = ['count_rest', 'mean_bill', 'max_bill', 'min_bill']\n",
    "pivot_bill.columns = columns_bill_names\n",
    "\n",
    "#округлим значения среднего чека:\n",
    "pivot_bill['mean_bill'] = pivot_bill['mean_bill'].round(2)\n",
    "\n",
    "#отсортируем таблицу по среднему значения чека:\n",
    "pivot_bill_sort = pivot_bill.sort_values(by='mean_bill', ascending=False)\n",
    "display(pivot_bill_sort)"
   ]
  },
  {
   "cell_type": "code",
   "execution_count": 62,
   "id": "9b5e00a5",
   "metadata": {
    "id": "9b5e00a5"
   },
   "outputs": [
    {
     "data": {
      "image/png": "[encoded data removed]",
      "text/plain": [
       "<Figure size 864x432 with 1 Axes>"
      ]
     },
     "metadata": {
      "needs_background": "light"
     },
     "output_type": "display_data"
    }
   ],
   "source": [
    "#Выведем линейчатую диаграмму со средним значением чека для наглядности:\n",
    "mean_bill = df_filt_bill.groupby('district')['middle_avg_bill'].mean().sort_values()\n",
    "\n",
    "mean_bill.plot(kind='barh',\n",
    "               title= 'Среднее значение чека для разных районов Москвы',\n",
    "               legend=False,\n",
    "               ylabel='Среднее значение чека',\n",
    "               xlabel='Район Москвы',\n",
    "               rot=0,\n",
    "               figsize=(12, 6))\n",
    "plt.grid(axis='x')\n",
    "\n",
    "# Выводим график\n",
    "plt.show()"
   ]
  },
  {
   "cell_type": "markdown",
   "id": "0c6ee22a",
   "metadata": {},
   "source": [
    "Итак, как и ожидалось, самый высокий средний чек по заведениям характерен для Центрального административного округа. За ним идет Западный и Северный. В Юго-восточном округе значение среднего чека самое низкое, почти в 2 раза ниже, чем в Центальном.\n",
    "Минимальные значения по чекам небольшие и скорее всего это средние чеки из булочных или кофеен.\n",
    "А вот максимальные значения чеков интересны. Самый высокий средний чек относится к Южному административному округу, также максимальные значения чека выше в Северном и Восточном округе, чем в Центальном. Возможно речь идет о единичных \"престижных\" заведениях или о выбросах. Посмотрим на эти заведения."
   ]
  },
  {
   "cell_type": "code",
   "execution_count": 63,
   "id": "58b461b4",
   "metadata": {},
   "outputs": [
    {
     "data": {
      "text/html": [
       "<div>\n",
       "<style scoped>\n",
       "    .dataframe tbody tr th:only-of-type {\n",
       "        vertical-align: middle;\n",
       "    }\n",
       "\n",
       "    .dataframe tbody tr th {\n",
       "        vertical-align: top;\n",
       "    }\n",
       "\n",
       "    .dataframe thead th {\n",
       "        text-align: right;\n",
       "    }\n",
       "</style>\n",
       "<table border=\"1\" class=\"dataframe\">\n",
       "  <thead>\n",
       "    <tr style=\"text-align: right;\">\n",
       "      <th></th>\n",
       "      <th>name</th>\n",
       "      <th>district</th>\n",
       "      <th>category</th>\n",
       "      <th>rating</th>\n",
       "      <th>chain</th>\n",
       "      <th>avg_bill</th>\n",
       "      <th>middle_avg_bill</th>\n",
       "    </tr>\n",
       "  </thead>\n",
       "  <tbody>\n",
       "    <tr>\n",
       "      <th>7173</th>\n",
       "      <td>кафе</td>\n",
       "      <td>южный административный округ</td>\n",
       "      <td>ресторан</td>\n",
       "      <td>4.1</td>\n",
       "      <td>0</td>\n",
       "      <td>средний счёт:20000–50000 ₽</td>\n",
       "      <td>35000</td>\n",
       "    </tr>\n",
       "    <tr>\n",
       "      <th>729</th>\n",
       "      <td>чойхона</td>\n",
       "      <td>северный административный округ</td>\n",
       "      <td>бар,паб</td>\n",
       "      <td>4.4</td>\n",
       "      <td>0</td>\n",
       "      <td>средний счёт:5000–17000 ₽</td>\n",
       "      <td>11000</td>\n",
       "    </tr>\n",
       "    <tr>\n",
       "      <th>5477</th>\n",
       "      <td>гости</td>\n",
       "      <td>восточный административный округ</td>\n",
       "      <td>ресторан</td>\n",
       "      <td>4.1</td>\n",
       "      <td>0</td>\n",
       "      <td>средний счёт:5000–15000 ₽</td>\n",
       "      <td>10000</td>\n",
       "    </tr>\n",
       "    <tr>\n",
       "      <th>3878</th>\n",
       "      <td>white rabbit</td>\n",
       "      <td>центральный административный округ</td>\n",
       "      <td>ресторан</td>\n",
       "      <td>4.9</td>\n",
       "      <td>0</td>\n",
       "      <td>средний счёт:7000–7500 ₽</td>\n",
       "      <td>7250</td>\n",
       "    </tr>\n",
       "    <tr>\n",
       "      <th>3483</th>\n",
       "      <td>800°с contemporary steak</td>\n",
       "      <td>центральный административный округ</td>\n",
       "      <td>ресторан</td>\n",
       "      <td>4.7</td>\n",
       "      <td>0</td>\n",
       "      <td>средний счёт:6000–8000 ₽</td>\n",
       "      <td>7000</td>\n",
       "    </tr>\n",
       "  </tbody>\n",
       "</table>\n",
       "</div>"
      ],
      "text/plain": [
       "                          name                            district  category  \\\n",
       "7173                      кафе        южный административный округ  ресторан   \n",
       "729                    чойхона     северный административный округ   бар,паб   \n",
       "5477                     гости    восточный административный округ  ресторан   \n",
       "3878              white rabbit  центральный административный округ  ресторан   \n",
       "3483  800°с contemporary steak  центральный административный округ  ресторан   \n",
       "\n",
       "      rating  chain                    avg_bill  middle_avg_bill  \n",
       "7173     4.1      0  средний счёт:20000–50000 ₽            35000  \n",
       "729      4.4      0   средний счёт:5000–17000 ₽            11000  \n",
       "5477     4.1      0   средний счёт:5000–15000 ₽            10000  \n",
       "3878     4.9      0    средний счёт:7000–7500 ₽             7250  \n",
       "3483     4.7      0    средний счёт:6000–8000 ₽             7000  "
      ]
     },
     "metadata": {},
     "output_type": "display_data"
    }
   ],
   "source": [
    "#Выведем топ-5 заведений Москвы с самым высоким средним чеком\n",
    "top5_bill = (\n",
    "    df_filt_bill[['name', 'district', 'category', 'rating', 'chain', 'avg_bill', 'middle_avg_bill']]\n",
    "    .sort_values(by='middle_avg_bill', ascending=False)\n",
    "    .head(5)\n",
    ")\n",
    "display(top5_bill)"
   ]
  },
  {
   "cell_type": "markdown",
   "id": "c150bd4f",
   "metadata": {
    "id": "c150bd4f"
   },
   "source": [
    "---\n",
    "\n",
    "### Задача 9"
   ]
  },
  {
   "cell_type": "markdown",
   "id": "24a4d4da",
   "metadata": {
    "id": "5ee8b279"
   },
   "source": [
    "Проверим еще один параметр, который не рассматривали ранее. Посмотрим существует ли взаимосвязь стоимости чашки кофе в заведении и его рейтингом."
   ]
  },
  {
   "cell_type": "code",
   "execution_count": 64,
   "id": "c6a666d9",
   "metadata": {
    "id": "c6a666d9"
   },
   "outputs": [
    {
     "data": {
      "image/png": "[encoded data removed]",
      "text/plain": [
       "<Figure size 720x288 with 1 Axes>"
      ]
     },
     "metadata": {
      "needs_background": "light"
     },
     "output_type": "display_data"
    }
   ],
   "source": [
    "#отфильтровываем нулевые и индикаторные значения\n",
    "df_filt_coffee_bill = df[df['middle_coffee_cup'] > 0].copy()\n",
    "\n",
    "# Создаём контейнер графика\n",
    "plt.figure(figsize=(10, 4))\n",
    "\n",
    "# Строим  график\n",
    "plt.plot(df_filt_coffee_bill['middle_coffee_cup'],\n",
    "         df_filt_coffee_bill['rating'],\n",
    "         marker='o', \n",
    "         linestyle='', \n",
    "         alpha=0.5)\n",
    "\n",
    "# Добавляем заголовок и метки осей\n",
    "plt.title('Взаимосвязь между сстоимостью чашки кофе в заведении  и рейтингом заведения')\n",
    "plt.xlabel('стоимость чашки кофе')\n",
    "plt.ylabel('рейтинг')\n",
    "plt.grid()\n",
    "\n",
    "\n",
    "# Отображаем график\n",
    "plt.show()"
   ]
  },
  {
   "cell_type": "markdown",
   "id": "82b50858",
   "metadata": {
    "id": "618096b5"
   },
   "source": [
    "Как видно из графика, данные не показывают четкой взаимосвязи. Большинство значений сосредоточены в диапозоне рейтинга от 4 до 4,5 и стоимостью чашки от 50 до 150 руб."
   ]
  },
  {
   "cell_type": "markdown",
   "id": "740b2482",
   "metadata": {},
   "source": [
    "Изучим наиболее характерное значение среднего чека для разных категорий заведений."
   ]
  },
  {
   "cell_type": "code",
   "execution_count": 65,
   "id": "c94ee9d5",
   "metadata": {},
   "outputs": [
    {
     "data": {
      "text/plain": [
       "category\n",
       "ресторан           1367.88\n",
       "бар,паб            1338.76\n",
       "пиццерия            789.38\n",
       "кафе                707.75\n",
       "булочная            658.77\n",
       "кофейня             617.30\n",
       "быстрое питание     445.76\n",
       "столовая            335.35\n",
       "Name: middle_avg_bill, dtype: float64"
      ]
     },
     "metadata": {},
     "output_type": "display_data"
    },
    {
     "data": {
      "image/png": "[encoded data removed]",
      "text/plain": [
       "<Figure size 864x432 with 1 Axes>"
      ]
     },
     "metadata": {
      "needs_background": "light"
     },
     "output_type": "display_data"
    }
   ],
   "source": [
    "#Выведем линейчатую диаграмму со средним значением чека для наглядности:\n",
    "mean_bill_category = df_filt_bill.groupby('category')['middle_avg_bill'].mean().sort_values().round(2)\n",
    "display(mean_bill_category.sort_values(ascending=False))\n",
    "mean_bill_category.plot(kind='barh',\n",
    "               title= 'Среднее значение чека для разных категорий заведений',\n",
    "               legend=False,\n",
    "               ylabel='Среднее значение чека',\n",
    "               xlabel='Категория заведения',\n",
    "               rot=0,\n",
    "               figsize=(12, 6))\n",
    "plt.grid(axis='x')\n",
    "\n",
    "# Выводим график\n",
    "plt.show()"
   ]
  },
  {
   "cell_type": "markdown",
   "id": "9c731a63",
   "metadata": {},
   "source": [
    "Самый высокий средний чек ожидаемо в ресторанах, но бары и пабы практически не отстают от них. Самый низкий чек характерен для столовых, а вот булочные неожиданно имеют довольно высокое значение среднего чека - на уровне кафе и кофеен."
   ]
  },
  {
   "cell_type": "markdown",
   "id": "d16de562",
   "metadata": {},
   "source": [
    "Изучим данные по стоимости чашки кофе, приведенные в датасете. Сначала посмотри, для каких категорий заведений есть данные."
   ]
  },
  {
   "cell_type": "code",
   "execution_count": 66,
   "id": "8a3fba37",
   "metadata": {},
   "outputs": [
    {
     "data": {
      "text/plain": [
       "category\n",
       "быстрое питание      1\n",
       "пиццерия             3\n",
       "кафе                 4\n",
       "бар,паб              6\n",
       "кофейня            521\n",
       "Name: middle_coffee_cup, dtype: int64"
      ]
     },
     "metadata": {},
     "output_type": "display_data"
    }
   ],
   "source": [
    "#Отфильтруем данные от индикаторов и нулевых значений\n",
    "\n",
    "df_filt_coffee_bill = df[df['middle_coffee_cup'] > 0].copy()\n",
    "\n",
    "#Рассчитаем количество данных для каждой категории заведений\n",
    "count_сoffee_bill_category = df_filt_coffee_bill.groupby('category')['middle_coffee_cup'].count().sort_values()\n",
    "display(count_сoffee_bill_category)"
   ]
  },
  {
   "cell_type": "markdown",
   "id": "86306362",
   "metadata": {},
   "source": [
    "Как видно, данные по стоимости чашки кофе приведены в основном для кофеен. Посмотрим как меняется стоимость 1 чашки кофе в зафисимости от района Москвы"
   ]
  },
  {
   "cell_type": "code",
   "execution_count": 67,
   "id": "2145589e",
   "metadata": {},
   "outputs": [
    {
     "data": {
      "text/plain": [
       "district\n",
       "юго-восточный административный округ       151.09\n",
       "южный административный округ               158.49\n",
       "северо-восточный административный округ    165.33\n",
       "северо-западный административный округ     165.52\n",
       "северный административный округ            165.79\n",
       "восточный административный округ           174.02\n",
       "юго-западный административный округ        184.18\n",
       "центральный административный округ         187.52\n",
       "западный административный округ            189.94\n",
       "Name: middle_coffee_cup, dtype: float64"
      ]
     },
     "metadata": {},
     "output_type": "display_data"
    },
    {
     "data": {
      "image/png": "[encoded data removed]",
      "text/plain": [
       "<Figure size 864x288 with 1 Axes>"
      ]
     },
     "metadata": {
      "needs_background": "light"
     },
     "output_type": "display_data"
    }
   ],
   "source": [
    "coffee_bill = df_filt_coffee_bill[df_filt_coffee_bill['category']=='кофейня']\n",
    "mean_сoffee_bill = coffee_bill.groupby('district')['middle_coffee_cup'].mean().sort_values().round(2)\n",
    "display(mean_сoffee_bill)\n",
    "mean_сoffee_bill.plot(kind='barh',\n",
    "               title= 'Средняя стоимость чашки кофе в разных районах Москвы',\n",
    "               legend=False,\n",
    "               ylabel='Средняя стоимость чашки кофе',\n",
    "               xlabel='Район',\n",
    "               rot=0,\n",
    "               figsize=(12, 4))\n",
    "plt.grid(axis='x')\n",
    "\n",
    "# Выводим график\n",
    "plt.show()"
   ]
  },
  {
   "cell_type": "markdown",
   "id": "24827961",
   "metadata": {},
   "source": [
    "Неожиданно, но самый дорогой капучино оказался в Западном административном округе, обогнав по стоимости кофе в Центральном округе. В Юго-Восточном округе стоимость чашки кофе оказалась самой низкой, как и значение среднего чека для всех категорий заведений. В целом разброс цен на кофе по Москве оказался небольшим в отличие от среднего чека по всем заведениям."
   ]
  },
  {
   "cell_type": "markdown",
   "id": "f2c54e9a",
   "metadata": {
    "id": "f2c54e9a"
   },
   "source": [
    "---\n",
    "\n",
    "### Промежуточный вывод"
   ]
  },
  {
   "cell_type": "markdown",
   "id": "16dffa7f",
   "metadata": {
    "id": "c8869609"
   },
   "source": [
    "##### Мы провели исследовательский анализ данных: \n",
    "- подробно изучили данные в столбцах со значениями категорий, районов расположения, принадлежности заведения к сети, посадочных мест и рейтинга,  \n",
    "- изучили взаимосвязь рейтинга заведений с другими параметрами,\n",
    "- выделили топ-15 сетевых заведений\n",
    "- изучили вариацию среднего чека заведения в зависимости от района Москвы,\n",
    "- сопроводили все полученные данные соответствующими визуализациями."
   ]
  },
  {
   "cell_type": "markdown",
   "id": "d908f140",
   "metadata": {
    "id": "3313cfd6"
   },
   "source": [
    "##### По полученным данным можно сделать следующие выводы:\n",
    "- самым распространенным типом заведений общепита в Москве является кафе, далее идут рестораны и кофейни;\n",
    "- больше всего заведений расположено в Центральном округе Москвы (ок. 27%), меньше всего в Северо-западном;\n",
    "- в Центральном округе сосредоточена основная масса ресторанов (ок.30% от всех заведений в районе), баров и пабов,  кафе же более популярны в периферийной части Москвы;\n",
    "- сетевыми является 38% заведений по всей Москве, при этом среди пиццерий, булочных и кофеен сетевые заведения встречаютсся гораздо чаще и их доля выше, чем несетевых;\n",
    "- количество посадочных мест имеет очень большой размах, но большинство значений колеблиться от 40 до 140. Для заведений, расположенных в одном и том же здании скорее всего указано общее количество посадочных мест на здание, тем не мене можно выделить наиболее типичное  количество посадочных мест для разных категорий заведений: для булочных и пиццерий около 50, для кафе и быстрого питания - 60 и 64 соответсвенно, для коффеен и столовых - 75, для баров и ресторанов требуется больше всего места - 80 и 83 места соответсвенно;\n",
    "-  наиболее типичный рейтинг для заведений Москвы находится в диапозоне от 4.1 до 4.4, однако встречаются заведения и с рейтингом 1 и с рейтигом 5, но все же низкий рейтинг встречается довольно редко;\n",
    "- сильной зависимости рейтинга заведения от других признаков, указанных в таблице, выявлено не было, тем не менее можно отметить ряд наблюдений;\n",
    "- средний рейтинг заведений для разных категорий заведений примерно одинаковый: чуть ниже у кафе и быстрого питания, чуть выше у баров;\n",
    "- наибольшая корреляция наблюдается между рейтингом и ценовой категорией заведения: для большинства, чем выше ценовая категория, тем выше рейтинг (наиболее выражена эта закономерность для баров и ресторанов), исключение - кафе (тут высокие цены снижают рейтинг), столовые имеют самый высокий рейтинг в средней ценовой категории;\n",
    "- для Центрального округа Москвы характерен чуть более высокий средний рейтинг заведений;\n",
    "- сетевые заведения в Москве пользуются довольно высокой популярностью, лидером ямляется сеть кофеен \"Шоколадница\", причем несмотря на популярность, топовые сетевые заведения Москвы как правило имеют рейтинг ниже среднего для всех заведений Москвы;\n",
    "- средний чек заведений общепита Москвы довольно сильно разнится в зависимсти от района, самый высокий - в Центральном округе Москвы;\n",
    "- самый высокий средний чек характерен для ресторанов и баров, самый низкий - для столовых, неожиданно для булочных средний чек оказался относительно высоким - на уровнее кафе и кофеен."
   ]
  },
  {
   "cell_type": "markdown",
   "id": "e73e9587",
   "metadata": {
    "id": "8bc2e63d"
   },
   "source": [
    "[*К содержанию*](#intro) "
   ]
  },
  {
   "cell_type": "markdown",
   "id": "480f3422",
   "metadata": {
    "id": "480f3422"
   },
   "source": [
    "## 4. Итоговый вывод и рекомендации<a id='4'></a>"
   ]
  },
  {
   "cell_type": "markdown",
   "id": "d005ff9d",
   "metadata": {},
   "source": [
    "В ходе исследования были проанализированы 8406 заведений общепита Москвы. Данные включали наиболее существенные характеристики заведений, а также информацию о среднем чеке. В данном проекте мы провели необходимую  предобработку  и исследовательский анализ данных:\n",
    "- подробно изучили данные о категориях заведений, районах расположения, принадлежности заведения к сети, посадочных местах и рейтинге,\n",
    "- изучили взаимосвязь рейтинга заведений с другими параметрами,\n",
    "- выделили топ-15 сетевых заведений Москвы,\n",
    "- изучили вариацию среднего чека заведения в зависимости от района Москвы и категорий заведений,\n",
    "- сопроводили все полученные данные соответствующими визуализациями."
   ]
  },
  {
   "cell_type": "markdown",
   "id": "cac07d01",
   "metadata": {},
   "source": [
    "#### Основные выводы\n",
    "- **Самым распространенным типом заведений общепита в Москве являются кафе (28%) и рестораны (24%), далее по популярности идут кофейни (17%), бары и пабы (9%), пиццерии и быстрое питание (более 7%), менее распростарнены столовые и булочные - 4% и 3% соответсвенно.**\n",
    "- Большинство заведений общепита **(27%)** сосредоточены в Центральном административном округе Москвы. **Меньше всего заведений  Северо-западном округе (5%). Остальные районы представлены относительно равномерно от 8 до 11%.** \n",
    "Характеристики заведений для Центрального округа и для периферийных районов по многим параметрам имеют различия. Так, в Центральном административном округе выше цены в зведениях **(в среднем на 24% больше, чем в целом по городу)**, чуть более высокий рейтинг заведений **(4.4 против 4.3 в целом по городу)**, самая высокая концентрация ресторанов, баров и пабов. Тогда как для остальных районов Москвы самым популярным типом заведений являются кафе.\n",
    "- Сетевые заведения довольно сильно распространены, их доля по Москве составляет 38%. При этом **чаще всего сети встречаются среди булочных (61%), пиццерий (52%) и кофеен (51%)**. Самый низкий процент сетевых заведений среди баров и пабов **- 22%**. Самой популярной сетью в Москве являются кофейни \"Шоколадница\" **-119 заведений**. При этом рейтинг самых популярных сетевых заведений как правило чуть ниже среднего значения по всем заведениям по городу. \n",
    "- При открытии нового заведения, стоит учитывать наиболее типичное количество посадочных мест для разных категорий. **Наиболее типичное количество посадочных для заведений общепита - 75. Для   булочных и пццерий как правило требуется меньше мест -около 50, для кафе и быстрого питания  - 60 и 64 соответсвенно, для кофеен и столовых - 75, для баров и ресторанов требуется больше всего места, средняя посадка - 80 и 83 места соответсвенно. При этом булочные и быстрое питание могут не иметь посадочных мест совсем, и для них это самая часто встречающаяся ситуация.**\n",
    "- Наиболее типичный рейтинг для заведений Москвы находится в диапозоне от 4.1 до 4.4, при этом выраженной зависимости рейтинга заведения от других признаков, указанных в исследуемых данных, нет. Можно заметить небольшую корреляцию с ценовой категорией заведения: как правило, чем выше ценовая категория, тем выше рейтинг (для баров и ресторанов эта закономерность более выражена), исключение - кафе (тут высокие цены снижают рейтинг), столовые имеют самый высокий рейтинг в средней ценовой категории. Можно  еще отметить, что чуть более высокий средний рейтинг **(+0.1 к среднему значению)** имеют бары и пабы, а также заведения в Центральном округе (что скорее всего является следствием более высокой ценовой категории заведений).\n",
    "- Самый высокий средний чек характерен для ресторанов и баров **более 1300 руб.**, самый низкий - для столовых **(335 руб.)**, что ожидаемо. Среди всех заведений можно выделить булочные: средний чек по ним оказался относительно высоким **(659 руб.)** - на уровнее кафе и кофеен."
   ]
  },
  {
   "cell_type": "markdown",
   "id": "45b7be8b",
   "metadata": {},
   "source": [
    "\n",
    "#### Рекомендации\n",
    "\n",
    "В качестве рекомендаций для открытия заведения общественного питания в Москве стоит обратить внимание на бары и пабы, булочные, а также на популярные сетевые заведения с высоким рейтингом. \n",
    "\n",
    "Пабы и бары очень популярны в Центральном округе **(16.2% против 9.1% в целом по Москве среди всех категорий заведений)**, чаще всего имеют рейтинг выше среднего **(4.4 против среднего по всем заведениям 4.3)** и высокий средний чек **- 1339 руб.**.\n",
    "\n",
    "Булочные требуют  меньших инвестиций, чем остальные категории заведений, не требуют больших площадей **(в среднем 50 посадочных мест, но чаще всего не имеют их совсем)**, при этом имеют довольно высокий средний чек - **659 руб.**.\n",
    "\n",
    "Сетевые заведения, работающие по франшизе, имеют уже готовую концепцию и стратегию продвижения, поэтому их открытие потребует меньше усилий и времени, при этом они хорошо известностны и пользуются популярностью среди населения. Особое внимание среди них стоит обратить на заведения из топ-15 с наибольшим рейтингом: кафе \"Хинкальная\" **- 4.32** и \"Кулинарная лавка братьев Караваевых\" **-4.39** и булочная \"Буханка\" **- 4.4**.\n",
    "\n",
    "Если речь идет об открытии заведения в периферийных районах Москвы, то стоит обратить внимание на заведения, которые более типичны для них, чем для центра, на быстрое питание, пиццерии, кафе, и булочные. **Доля быстрого питания в них выше, чем в центре более, чем в 2 раза!, доля пиццерий  выше на 67%, кафе и булочных - на 50%**\n",
    "\n",
    "Дополнительно для выбора концепции заведения было бы полезно изучить тенденции на рынке, посмотреть как изменялись доли различных категорий заведений во времени, чтобы понять популярность каких категорий растет, а каких, наоборот, снижается. Также полезно было бы найти и изучить данные по посещаемости заведений, чтобы выявить наиболее востребованные и оценить уровень выручки."
   ]
  },
  {
   "cell_type": "markdown",
   "id": "a677db2e",
   "metadata": {},
   "source": [
    "[*К содержанию*](#intro) "
   ]
  }
 ],
 "metadata": {
  "ExecuteTimeLog": [
   {
    "duration": 5081,
    "start_time": "2025-01-25T18:47:29.982Z"
   },
   {
    "duration": 1467,
    "start_time": "2025-01-25T18:47:35.065Z"
   },
   {
    "duration": 211,
    "start_time": "2025-01-25T18:47:36.534Z"
   },
   {
    "duration": 15,
    "start_time": "2025-01-25T18:47:36.747Z"
   },
   {
    "duration": 26,
    "start_time": "2025-01-25T18:47:36.764Z"
   },
   {
    "duration": 31,
    "start_time": "2025-01-25T18:47:36.792Z"
   },
   {
    "duration": 33,
    "start_time": "2025-01-25T18:47:36.824Z"
   },
   {
    "duration": 53,
    "start_time": "2025-01-25T18:47:36.859Z"
   },
   {
    "duration": 6,
    "start_time": "2025-01-25T18:47:36.914Z"
   },
   {
    "duration": 34,
    "start_time": "2025-01-25T18:47:36.921Z"
   },
   {
    "duration": 20,
    "start_time": "2025-01-25T18:47:36.958Z"
   },
   {
    "duration": 18,
    "start_time": "2025-01-25T18:47:36.980Z"
   },
   {
    "duration": 36,
    "start_time": "2025-01-25T18:47:37.000Z"
   },
   {
    "duration": 27,
    "start_time": "2025-01-25T18:47:37.039Z"
   },
   {
    "duration": 21,
    "start_time": "2025-01-25T18:47:37.068Z"
   },
   {
    "duration": 20,
    "start_time": "2025-01-25T18:47:37.091Z"
   },
   {
    "duration": 22,
    "start_time": "2025-01-25T18:47:37.113Z"
   },
   {
    "duration": 7,
    "start_time": "2025-01-25T18:47:37.137Z"
   },
   {
    "duration": 58,
    "start_time": "2025-01-25T18:47:37.146Z"
   },
   {
    "duration": 39,
    "start_time": "2025-01-25T18:47:37.206Z"
   },
   {
    "duration": 13,
    "start_time": "2025-01-25T18:47:37.247Z"
   },
   {
    "duration": 42,
    "start_time": "2025-01-25T18:47:37.262Z"
   },
   {
    "duration": 27,
    "start_time": "2025-01-25T18:47:37.305Z"
   },
   {
    "duration": 189,
    "start_time": "2025-01-25T18:47:37.334Z"
   },
   {
    "duration": 9,
    "start_time": "2025-01-25T18:47:37.524Z"
   },
   {
    "duration": 242,
    "start_time": "2025-01-25T18:47:37.534Z"
   },
   {
    "duration": 175,
    "start_time": "2025-01-25T18:47:37.778Z"
   },
   {
    "duration": 7,
    "start_time": "2025-01-25T18:47:37.954Z"
   },
   {
    "duration": 139,
    "start_time": "2025-01-25T18:47:37.962Z"
   },
   {
    "duration": 231,
    "start_time": "2025-01-25T18:47:38.103Z"
   },
   {
    "duration": 12,
    "start_time": "2025-01-25T18:47:38.335Z"
   },
   {
    "duration": 303,
    "start_time": "2025-01-25T18:47:38.349Z"
   },
   {
    "duration": 226,
    "start_time": "2025-01-25T18:47:38.654Z"
   },
   {
    "duration": 27,
    "start_time": "2025-01-25T18:47:38.882Z"
   },
   {
    "duration": 36,
    "start_time": "2025-01-25T18:47:38.911Z"
   },
   {
    "duration": 9,
    "start_time": "2025-01-25T18:47:38.949Z"
   },
   {
    "duration": 177,
    "start_time": "2025-01-25T18:47:38.960Z"
   },
   {
    "duration": 9,
    "start_time": "2025-01-25T18:47:39.139Z"
   },
   {
    "duration": 212,
    "start_time": "2025-01-25T18:47:39.150Z"
   },
   {
    "duration": 147,
    "start_time": "2025-01-25T18:47:39.363Z"
   },
   {
    "duration": 185,
    "start_time": "2025-01-25T18:47:39.515Z"
   },
   {
    "duration": 237,
    "start_time": "2025-01-25T18:47:39.702Z"
   },
   {
    "duration": 231,
    "start_time": "2025-01-25T18:47:39.941Z"
   },
   {
    "duration": 293,
    "start_time": "2025-01-25T18:47:40.175Z"
   },
   {
    "duration": 24,
    "start_time": "2025-01-25T18:47:40.470Z"
   },
   {
    "duration": 207,
    "start_time": "2025-01-25T18:47:40.496Z"
   },
   {
    "duration": 33,
    "start_time": "2025-01-25T18:47:40.705Z"
   },
   {
    "duration": 219,
    "start_time": "2025-01-25T18:47:40.740Z"
   },
   {
    "duration": 22,
    "start_time": "2025-01-25T18:47:40.960Z"
   },
   {
    "duration": 293,
    "start_time": "2025-01-25T18:47:40.983Z"
   },
   {
    "duration": 22,
    "start_time": "2025-01-25T18:47:41.278Z"
   },
   {
    "duration": 128,
    "start_time": "2025-01-25T18:47:41.302Z"
   },
   {
    "duration": 234,
    "start_time": "2025-01-25T18:47:41.431Z"
   },
   {
    "duration": 35,
    "start_time": "2025-01-25T18:47:41.667Z"
   },
   {
    "duration": 378,
    "start_time": "2025-01-25T18:47:41.703Z"
   },
   {
    "duration": 14,
    "start_time": "2025-01-25T18:47:42.083Z"
   },
   {
    "duration": 176,
    "start_time": "2025-01-25T18:47:42.099Z"
   },
   {
    "duration": 191,
    "start_time": "2025-01-25T18:47:42.277Z"
   },
   {
    "duration": 163,
    "start_time": "2025-01-25T18:47:42.470Z"
   }
  ],
  "colab": {
   "provenance": []
  },
  "kernelspec": {
   "display_name": "Python 3 (ipykernel)",
   "language": "python",
   "name": "python3"
  },
  "language_info": {
   "codemirror_mode": {
    "name": "ipython",
    "version": 3
   },
   "file_extension": ".py",
   "mimetype": "text/x-python",
   "name": "python",
   "nbconvert_exporter": "python",
   "pygments_lexer": "ipython3",
   "version": "3.9.7"
  },
  "toc": {
   "base_numbering": 1,
   "nav_menu": {},
   "number_sections": true,
   "sideBar": true,
   "skip_h1_title": true,
   "title_cell": "Table of Contents",
   "title_sidebar": "Contents",
   "toc_cell": false,
   "toc_position": {
    "height": "calc(100% - 180px)",
    "left": "10px",
    "top": "150px",
    "width": "260.391px"
   },
   "toc_section_display": true,
   "toc_window_display": true
  }
 },
 "nbformat": 4,
 "nbformat_minor": 5
}
